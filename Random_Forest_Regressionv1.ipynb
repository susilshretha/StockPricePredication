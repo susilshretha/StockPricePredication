{
 "cells": [
  {
   "cell_type": "code",
   "execution_count": 1,
   "metadata": {
    "id": "aOBbSBLYItc4"
   },
   "outputs": [],
   "source": [
    "import datetime as dt\n",
    "import pandas as pd\n",
    "import numpy as np\n",
    "from numpy import arange\n",
    "import matplotlib.pyplot as plt\n",
    "from pandas import read_csv\n",
    "from sklearn import metrics\n",
    "from sklearn.model_selection import train_test_split\n",
    "from sklearn.ensemble import RandomForestRegressor\n",
    "from sklearn.preprocessing import StandardScaler\n",
    "from sklearn.model_selection import RandomizedSearchCV"
   ]
  },
  {
   "cell_type": "code",
   "execution_count": 2,
   "metadata": {
    "colab": {
     "base_uri": "https://localhost:8080/",
     "height": 206
    },
    "id": "367SLPbt4Zqz",
    "outputId": "81a876d2-b3ae-402b-dd53-064024005da3",
    "scrolled": true
   },
   "outputs": [
    {
     "data": {
      "text/html": [
       "<div>\n",
       "<style scoped>\n",
       "    .dataframe tbody tr th:only-of-type {\n",
       "        vertical-align: middle;\n",
       "    }\n",
       "\n",
       "    .dataframe tbody tr th {\n",
       "        vertical-align: top;\n",
       "    }\n",
       "\n",
       "    .dataframe thead th {\n",
       "        text-align: right;\n",
       "    }\n",
       "</style>\n",
       "<table border=\"1\" class=\"dataframe\">\n",
       "  <thead>\n",
       "    <tr style=\"text-align: right;\">\n",
       "      <th></th>\n",
       "      <th>Date</th>\n",
       "      <th>Open</th>\n",
       "      <th>High</th>\n",
       "      <th>Low</th>\n",
       "      <th>eps</th>\n",
       "      <th>pe</th>\n",
       "      <th>InRate</th>\n",
       "      <th>InfRate</th>\n",
       "      <th>Close</th>\n",
       "      <th>Adj Close</th>\n",
       "      <th>Volume</th>\n",
       "    </tr>\n",
       "  </thead>\n",
       "  <tbody>\n",
       "    <tr>\n",
       "      <th>0</th>\n",
       "      <td>1/3/2000</td>\n",
       "      <td>0.936384</td>\n",
       "      <td>1.004464</td>\n",
       "      <td>0.907924</td>\n",
       "      <td>0.310000</td>\n",
       "      <td>20.770000</td>\n",
       "      <td>3.411051</td>\n",
       "      <td>1.760000</td>\n",
       "      <td>0.999442</td>\n",
       "      <td>0.853355</td>\n",
       "      <td>535796800</td>\n",
       "    </tr>\n",
       "    <tr>\n",
       "      <th>1</th>\n",
       "      <td>1/4/2000</td>\n",
       "      <td>0.966518</td>\n",
       "      <td>0.987723</td>\n",
       "      <td>0.903460</td>\n",
       "      <td>0.188723</td>\n",
       "      <td>21.050533</td>\n",
       "      <td>2.796146</td>\n",
       "      <td>2.488276</td>\n",
       "      <td>0.915179</td>\n",
       "      <td>0.781409</td>\n",
       "      <td>512377600</td>\n",
       "    </tr>\n",
       "    <tr>\n",
       "      <th>2</th>\n",
       "      <td>1/5/2000</td>\n",
       "      <td>0.926339</td>\n",
       "      <td>0.987165</td>\n",
       "      <td>0.919643</td>\n",
       "      <td>0.189153</td>\n",
       "      <td>21.045239</td>\n",
       "      <td>2.795518</td>\n",
       "      <td>2.488011</td>\n",
       "      <td>0.928571</td>\n",
       "      <td>0.792844</td>\n",
       "      <td>778321600</td>\n",
       "    </tr>\n",
       "    <tr>\n",
       "      <th>3</th>\n",
       "      <td>1/6/2000</td>\n",
       "      <td>0.947545</td>\n",
       "      <td>0.955357</td>\n",
       "      <td>0.848214</td>\n",
       "      <td>0.189583</td>\n",
       "      <td>21.039946</td>\n",
       "      <td>2.794891</td>\n",
       "      <td>2.487746</td>\n",
       "      <td>0.848214</td>\n",
       "      <td>0.724232</td>\n",
       "      <td>767972800</td>\n",
       "    </tr>\n",
       "    <tr>\n",
       "      <th>4</th>\n",
       "      <td>1/7/2000</td>\n",
       "      <td>0.861607</td>\n",
       "      <td>0.901786</td>\n",
       "      <td>0.852679</td>\n",
       "      <td>0.190012</td>\n",
       "      <td>21.034654</td>\n",
       "      <td>2.794264</td>\n",
       "      <td>2.487482</td>\n",
       "      <td>0.888393</td>\n",
       "      <td>0.758538</td>\n",
       "      <td>460734400</td>\n",
       "    </tr>\n",
       "  </tbody>\n",
       "</table>\n",
       "</div>"
      ],
      "text/plain": [
       "       Date      Open      High       Low       eps         pe    InRate  \\\n",
       "0  1/3/2000  0.936384  1.004464  0.907924  0.310000  20.770000  3.411051   \n",
       "1  1/4/2000  0.966518  0.987723  0.903460  0.188723  21.050533  2.796146   \n",
       "2  1/5/2000  0.926339  0.987165  0.919643  0.189153  21.045239  2.795518   \n",
       "3  1/6/2000  0.947545  0.955357  0.848214  0.189583  21.039946  2.794891   \n",
       "4  1/7/2000  0.861607  0.901786  0.852679  0.190012  21.034654  2.794264   \n",
       "\n",
       "    InfRate     Close  Adj Close     Volume  \n",
       "0  1.760000  0.999442   0.853355  535796800  \n",
       "1  2.488276  0.915179   0.781409  512377600  \n",
       "2  2.488011  0.928571   0.792844  778321600  \n",
       "3  2.487746  0.848214   0.724232  767972800  \n",
       "4  2.487482  0.888393   0.758538  460734400  "
      ]
     },
     "execution_count": 2,
     "metadata": {},
     "output_type": "execute_result"
    }
   ],
   "source": [
    "df = pd.read_csv('AAPL-Final.csv')\n",
    "df.head()"
   ]
  },
  {
   "cell_type": "code",
   "execution_count": 3,
   "metadata": {
    "colab": {
     "base_uri": "https://localhost:8080/",
     "height": 238
    },
    "id": "K8vfxWLhPjB2",
    "outputId": "97f24ccc-6d1e-4911-f639-70489128cc74"
   },
   "outputs": [
    {
     "data": {
      "text/html": [
       "<div>\n",
       "<style scoped>\n",
       "    .dataframe tbody tr th:only-of-type {\n",
       "        vertical-align: middle;\n",
       "    }\n",
       "\n",
       "    .dataframe tbody tr th {\n",
       "        vertical-align: top;\n",
       "    }\n",
       "\n",
       "    .dataframe thead th {\n",
       "        text-align: right;\n",
       "    }\n",
       "</style>\n",
       "<table border=\"1\" class=\"dataframe\">\n",
       "  <thead>\n",
       "    <tr style=\"text-align: right;\">\n",
       "      <th></th>\n",
       "      <th>Open</th>\n",
       "      <th>High</th>\n",
       "      <th>Low</th>\n",
       "      <th>eps</th>\n",
       "      <th>pe</th>\n",
       "      <th>InRate</th>\n",
       "      <th>InfRate</th>\n",
       "      <th>Close</th>\n",
       "      <th>Adj Close</th>\n",
       "      <th>Volume</th>\n",
       "    </tr>\n",
       "    <tr>\n",
       "      <th>Date</th>\n",
       "      <th></th>\n",
       "      <th></th>\n",
       "      <th></th>\n",
       "      <th></th>\n",
       "      <th></th>\n",
       "      <th></th>\n",
       "      <th></th>\n",
       "      <th></th>\n",
       "      <th></th>\n",
       "      <th></th>\n",
       "    </tr>\n",
       "  </thead>\n",
       "  <tbody>\n",
       "    <tr>\n",
       "      <th>1/3/2000</th>\n",
       "      <td>0.936384</td>\n",
       "      <td>1.004464</td>\n",
       "      <td>0.907924</td>\n",
       "      <td>0.310000</td>\n",
       "      <td>20.770000</td>\n",
       "      <td>3.411051</td>\n",
       "      <td>1.760000</td>\n",
       "      <td>0.999442</td>\n",
       "      <td>0.853355</td>\n",
       "      <td>535796800</td>\n",
       "    </tr>\n",
       "    <tr>\n",
       "      <th>1/4/2000</th>\n",
       "      <td>0.966518</td>\n",
       "      <td>0.987723</td>\n",
       "      <td>0.903460</td>\n",
       "      <td>0.188723</td>\n",
       "      <td>21.050533</td>\n",
       "      <td>2.796146</td>\n",
       "      <td>2.488276</td>\n",
       "      <td>0.915179</td>\n",
       "      <td>0.781409</td>\n",
       "      <td>512377600</td>\n",
       "    </tr>\n",
       "    <tr>\n",
       "      <th>1/5/2000</th>\n",
       "      <td>0.926339</td>\n",
       "      <td>0.987165</td>\n",
       "      <td>0.919643</td>\n",
       "      <td>0.189153</td>\n",
       "      <td>21.045239</td>\n",
       "      <td>2.795518</td>\n",
       "      <td>2.488011</td>\n",
       "      <td>0.928571</td>\n",
       "      <td>0.792844</td>\n",
       "      <td>778321600</td>\n",
       "    </tr>\n",
       "    <tr>\n",
       "      <th>1/6/2000</th>\n",
       "      <td>0.947545</td>\n",
       "      <td>0.955357</td>\n",
       "      <td>0.848214</td>\n",
       "      <td>0.189583</td>\n",
       "      <td>21.039946</td>\n",
       "      <td>2.794891</td>\n",
       "      <td>2.487746</td>\n",
       "      <td>0.848214</td>\n",
       "      <td>0.724232</td>\n",
       "      <td>767972800</td>\n",
       "    </tr>\n",
       "    <tr>\n",
       "      <th>1/7/2000</th>\n",
       "      <td>0.861607</td>\n",
       "      <td>0.901786</td>\n",
       "      <td>0.852679</td>\n",
       "      <td>0.190012</td>\n",
       "      <td>21.034654</td>\n",
       "      <td>2.794264</td>\n",
       "      <td>2.487482</td>\n",
       "      <td>0.888393</td>\n",
       "      <td>0.758538</td>\n",
       "      <td>460734400</td>\n",
       "    </tr>\n",
       "  </tbody>\n",
       "</table>\n",
       "</div>"
      ],
      "text/plain": [
       "              Open      High       Low       eps         pe    InRate  \\\n",
       "Date                                                                    \n",
       "1/3/2000  0.936384  1.004464  0.907924  0.310000  20.770000  3.411051   \n",
       "1/4/2000  0.966518  0.987723  0.903460  0.188723  21.050533  2.796146   \n",
       "1/5/2000  0.926339  0.987165  0.919643  0.189153  21.045239  2.795518   \n",
       "1/6/2000  0.947545  0.955357  0.848214  0.189583  21.039946  2.794891   \n",
       "1/7/2000  0.861607  0.901786  0.852679  0.190012  21.034654  2.794264   \n",
       "\n",
       "           InfRate     Close  Adj Close     Volume  \n",
       "Date                                                \n",
       "1/3/2000  1.760000  0.999442   0.853355  535796800  \n",
       "1/4/2000  2.488276  0.915179   0.781409  512377600  \n",
       "1/5/2000  2.488011  0.928571   0.792844  778321600  \n",
       "1/6/2000  2.487746  0.848214   0.724232  767972800  \n",
       "1/7/2000  2.487482  0.888393   0.758538  460734400  "
      ]
     },
     "execution_count": 3,
     "metadata": {},
     "output_type": "execute_result"
    }
   ],
   "source": [
    "df.set_index(\"Date\", inplace=True)\n",
    "df.head()"
   ]
  },
  {
   "cell_type": "code",
   "execution_count": 4,
   "metadata": {
    "colab": {
     "base_uri": "https://localhost:8080/"
    },
    "id": "T2exo_74QGC6",
    "outputId": "a6c995ce-665e-46b2-b1ff-54475011fc94"
   },
   "outputs": [
    {
     "data": {
      "text/plain": [
       "dtype('float64')"
      ]
     },
     "execution_count": 4,
     "metadata": {},
     "output_type": "execute_result"
    }
   ],
   "source": [
    "df['Close'].dtypes"
   ]
  },
  {
   "cell_type": "code",
   "execution_count": 5,
   "metadata": {
    "colab": {
     "base_uri": "https://localhost:8080/"
    },
    "id": "4qAvYxkMQVjp",
    "outputId": "1e4c9faa-a7a3-44ba-a5cd-6f53b428c261"
   },
   "outputs": [
    {
     "data": {
      "text/plain": [
       "Open         float64\n",
       "High         float64\n",
       "Low          float64\n",
       "eps          float64\n",
       "pe           float64\n",
       "InRate       float64\n",
       "InfRate      float64\n",
       "Close        float64\n",
       "Adj Close    float64\n",
       "Volume         int64\n",
       "dtype: object"
      ]
     },
     "execution_count": 5,
     "metadata": {},
     "output_type": "execute_result"
    }
   ],
   "source": [
    "df.dtypes"
   ]
  },
  {
   "cell_type": "code",
   "execution_count": 6,
   "metadata": {
    "colab": {
     "base_uri": "https://localhost:8080/"
    },
    "id": "izLxooS1QrZU",
    "outputId": "83de7692-9aad-49d0-cfae-f1da4c70ee09"
   },
   "outputs": [
    {
     "data": {
      "text/plain": [
       "Date\n",
       "1/3/2000    0.999442\n",
       "1/4/2000    0.915179\n",
       "1/5/2000    0.928571\n",
       "1/6/2000    0.848214\n",
       "1/7/2000    0.888393\n",
       "Name: Close, dtype: float64"
      ]
     },
     "execution_count": 6,
     "metadata": {},
     "output_type": "execute_result"
    }
   ],
   "source": [
    "df[\"Close\"].head()"
   ]
  },
  {
   "cell_type": "code",
   "execution_count": 7,
   "metadata": {
    "id": "bDWkjOlWRt24"
   },
   "outputs": [],
   "source": [
    "# df[\"Close\"] = df[\"Close\"].str.replace(\",\",\"\")\n",
    "#  = df[\"Close\"].apply(lambda x: float(x))\n",
    "# df[\"Close\"]=df[\"Close\"].apply(pd.to_numeric)"
   ]
  },
  {
   "cell_type": "code",
   "execution_count": 8,
   "metadata": {
    "id": "hqCsRhx15TOu"
   },
   "outputs": [],
   "source": [
    "df[\"Close\"] = df[\"Close\"].astype(str).str.replace(\",\",\"\")\n",
    "close = df[\"Close\"].apply(lambda x: float(x))\n",
    "df[\"Close\"]=df[\"Close\"].apply(pd.to_numeric)"
   ]
  },
  {
   "cell_type": "code",
   "execution_count": 9,
   "metadata": {
    "id": "BMwcd7XU56nx"
   },
   "outputs": [],
   "source": [
    "df[\"Open\"] = df[\"Open\"].astype(str).str.replace(\",\",\"\")\n",
    "open = df[\"Close\"].apply(lambda x: float(x))"
   ]
  },
  {
   "cell_type": "code",
   "execution_count": 10,
   "metadata": {
    "id": "943PKgfZ6ehY"
   },
   "outputs": [],
   "source": [
    "df[\"High\"] = df[\"High\"].astype(str).str.replace(\",\",\"\")\n",
    "high = df[\"High\"].apply(lambda x: float(x))"
   ]
  },
  {
   "cell_type": "code",
   "execution_count": 11,
   "metadata": {
    "id": "Vzc-QyQW6yNh"
   },
   "outputs": [],
   "source": [
    "df[\"Low\"] = df[\"Low\"].astype(str).str.replace(\",\",\"\")\n",
    "low = df[\"Low\"].apply(lambda x: float(x))"
   ]
  },
  {
   "cell_type": "code",
   "execution_count": 12,
   "metadata": {
    "id": "NXcPsknw7Dj9"
   },
   "outputs": [],
   "source": [
    "df[\"Adj Close\"] = df[\"Adj Close\"].astype(str).str.replace(\",\",\"\")\n",
    "adjclose = df[\"Adj Close\"].apply(lambda x: float(x))"
   ]
  },
  {
   "cell_type": "code",
   "execution_count": 13,
   "metadata": {
    "colab": {
     "base_uri": "https://localhost:8080/",
     "height": 497
    },
    "id": "uP7FwewS7pS9",
    "outputId": "6700bdb2-f686-4bbc-9fd5-9a4d26b41d87"
   },
   "outputs": [
    {
     "data": {
      "image/png": "[encoded data removed]",
      "text/plain": [
       "<Figure size 1008x576 with 1 Axes>"
      ]
     },
     "metadata": {
      "needs_background": "light"
     },
     "output_type": "display_data"
    }
   ],
   "source": [
    "df['Close'].plot(figsize=(14,8))\n",
    "plt.ylabel(\"Closing Price\")\n",
    "plt.show()"
   ]
  },
  {
   "cell_type": "markdown",
   "metadata": {
    "id": "Ti6JYtDg7861"
   },
   "source": [
    "**Data Pre-processing**"
   ]
  },
  {
   "cell_type": "code",
   "execution_count": 14,
   "metadata": {
    "colab": {
     "base_uri": "https://localhost:8080/"
    },
    "id": "wSNaJ7Uj8AxC",
    "outputId": "234dab4f-04c7-4d88-fc8d-a8ad6856fd9e"
   },
   "outputs": [
    {
     "data": {
      "text/plain": [
       "Open         0\n",
       "High         0\n",
       "Low          0\n",
       "eps          0\n",
       "pe           0\n",
       "InRate       0\n",
       "InfRate      0\n",
       "Close        0\n",
       "Adj Close    0\n",
       "Volume       0\n",
       "dtype: int64"
      ]
     },
     "execution_count": 14,
     "metadata": {},
     "output_type": "execute_result"
    }
   ],
   "source": [
    "df.isna().sum() "
   ]
  },
  {
   "cell_type": "code",
   "execution_count": 15,
   "metadata": {
    "colab": {
     "base_uri": "https://localhost:8080/"
    },
    "id": "iEfm8UoF8Eds",
    "outputId": "c9af9f35-c580-4985-ea48-fc082655b4d9"
   },
   "outputs": [
    {
     "data": {
      "text/plain": [
       "0.267857      6\n",
       "0.348214      6\n",
       "0.265179      5\n",
       "0.262500      4\n",
       "0.256429      4\n",
       "             ..\n",
       "3.478571      1\n",
       "3.638929      1\n",
       "3.498214      1\n",
       "3.717143      1\n",
       "177.570007    1\n",
       "Name: Close, Length: 5057, dtype: int64"
      ]
     },
     "execution_count": 15,
     "metadata": {},
     "output_type": "execute_result"
    }
   ],
   "source": [
    "df[\"Close\"].value_counts()"
   ]
  },
  {
   "cell_type": "code",
   "execution_count": 16,
   "metadata": {
    "colab": {
     "base_uri": "https://localhost:8080/"
    },
    "id": "XN9nxiNs8Li5",
    "outputId": "5b1542d0-66e2-4321-e19d-ad76b8d4acd6"
   },
   "outputs": [
    {
     "data": {
      "text/plain": [
       "Open        High        Low         eps       pe         InRate    InfRate   Close       Adj Close   Volume    \n",
       "0.231964    0.244107    0.230714    0.520628  17.162533  2.306215  2.291470  0.236429    0.201871    1016176000    1\n",
       "3.285357    3.357143    3.273214    0.861585  13.736580  1.787913  2.111005  3.352500    2.862472    686896000     1\n",
       "3.303929    3.327143    3.196429    0.837267  13.954909  1.687106  2.330000  3.197857    2.730433    1074836000    1\n",
       "3.301071    3.33        3.214643    0.986667  12.693451  1.592028  2.053108  3.218571    2.748118    1178976400    1\n",
       "3.293214    3.31        3.252143    0.838221  13.946249  1.824093  2.122413  3.273571    2.795079    870486400     1\n",
       "                                                                                                                  ..\n",
       "128.960007  129.100006  126.120003  1.561417  10.489156  0.572979  1.959141  126.660004  125.365196  192541500     1\n",
       "128.949997  130.389999  128.520004  1.567962  10.558083  0.557236  1.964058  130.360001  129.220169  88844600      1\n",
       "128.899994  129.580002  128.039993  1.561326  10.488323  0.573195  1.959077  128.699997  127.384323  94359800      1\n",
       "128.889999  131.740005  128.429993  1.562322  10.497625  0.570827  1.959785  131.009995  129.670715  97664900      1\n",
       "99.172501   99.25       96.7425     1.551429  10.415619  0.596276  1.952692  97.000000   95.670547   103433200     1\n",
       "Length: 5536, dtype: int64"
      ]
     },
     "execution_count": 16,
     "metadata": {},
     "output_type": "execute_result"
    }
   ],
   "source": [
    "df.value_counts()"
   ]
  },
  {
   "cell_type": "code",
   "execution_count": 17,
   "metadata": {
    "colab": {
     "base_uri": "https://localhost:8080/",
     "height": 238
    },
    "id": "VNYl338t_Lmg",
    "outputId": "a2cec899-9d77-4546-c1bf-7b4d22d4fed5"
   },
   "outputs": [
    {
     "data": {
      "text/html": [
       "<div>\n",
       "<style scoped>\n",
       "    .dataframe tbody tr th:only-of-type {\n",
       "        vertical-align: middle;\n",
       "    }\n",
       "\n",
       "    .dataframe tbody tr th {\n",
       "        vertical-align: top;\n",
       "    }\n",
       "\n",
       "    .dataframe thead th {\n",
       "        text-align: right;\n",
       "    }\n",
       "</style>\n",
       "<table border=\"1\" class=\"dataframe\">\n",
       "  <thead>\n",
       "    <tr style=\"text-align: right;\">\n",
       "      <th></th>\n",
       "      <th>Open</th>\n",
       "      <th>High</th>\n",
       "      <th>Low</th>\n",
       "      <th>eps</th>\n",
       "      <th>pe</th>\n",
       "      <th>InRate</th>\n",
       "      <th>InfRate</th>\n",
       "      <th>Close</th>\n",
       "      <th>Adj Close</th>\n",
       "      <th>Volume</th>\n",
       "    </tr>\n",
       "    <tr>\n",
       "      <th>Date</th>\n",
       "      <th></th>\n",
       "      <th></th>\n",
       "      <th></th>\n",
       "      <th></th>\n",
       "      <th></th>\n",
       "      <th></th>\n",
       "      <th></th>\n",
       "      <th></th>\n",
       "      <th></th>\n",
       "      <th></th>\n",
       "    </tr>\n",
       "  </thead>\n",
       "  <tbody>\n",
       "    <tr>\n",
       "      <th>1/3/2000</th>\n",
       "      <td>0.936384</td>\n",
       "      <td>1.004464</td>\n",
       "      <td>0.907924</td>\n",
       "      <td>0.310000</td>\n",
       "      <td>20.770000</td>\n",
       "      <td>3.411051</td>\n",
       "      <td>1.760000</td>\n",
       "      <td>0.999442</td>\n",
       "      <td>0.853355</td>\n",
       "      <td>535796800</td>\n",
       "    </tr>\n",
       "    <tr>\n",
       "      <th>1/4/2000</th>\n",
       "      <td>0.966518</td>\n",
       "      <td>0.987723</td>\n",
       "      <td>0.90346</td>\n",
       "      <td>0.188723</td>\n",
       "      <td>21.050533</td>\n",
       "      <td>2.796146</td>\n",
       "      <td>2.488276</td>\n",
       "      <td>0.915179</td>\n",
       "      <td>0.781409</td>\n",
       "      <td>512377600</td>\n",
       "    </tr>\n",
       "    <tr>\n",
       "      <th>1/5/2000</th>\n",
       "      <td>0.926339</td>\n",
       "      <td>0.987165</td>\n",
       "      <td>0.919643</td>\n",
       "      <td>0.189153</td>\n",
       "      <td>21.045239</td>\n",
       "      <td>2.795518</td>\n",
       "      <td>2.488011</td>\n",
       "      <td>0.928571</td>\n",
       "      <td>0.792844</td>\n",
       "      <td>778321600</td>\n",
       "    </tr>\n",
       "    <tr>\n",
       "      <th>1/6/2000</th>\n",
       "      <td>0.947545</td>\n",
       "      <td>0.955357</td>\n",
       "      <td>0.848214</td>\n",
       "      <td>0.189583</td>\n",
       "      <td>21.039946</td>\n",
       "      <td>2.794891</td>\n",
       "      <td>2.487746</td>\n",
       "      <td>0.848214</td>\n",
       "      <td>0.724232</td>\n",
       "      <td>767972800</td>\n",
       "    </tr>\n",
       "    <tr>\n",
       "      <th>1/7/2000</th>\n",
       "      <td>0.861607</td>\n",
       "      <td>0.901786</td>\n",
       "      <td>0.852679</td>\n",
       "      <td>0.190012</td>\n",
       "      <td>21.034654</td>\n",
       "      <td>2.794264</td>\n",
       "      <td>2.487482</td>\n",
       "      <td>0.888393</td>\n",
       "      <td>0.758538</td>\n",
       "      <td>460734400</td>\n",
       "    </tr>\n",
       "  </tbody>\n",
       "</table>\n",
       "</div>"
      ],
      "text/plain": [
       "              Open      High       Low       eps         pe    InRate  \\\n",
       "Date                                                                    \n",
       "1/3/2000  0.936384  1.004464  0.907924  0.310000  20.770000  3.411051   \n",
       "1/4/2000  0.966518  0.987723   0.90346  0.188723  21.050533  2.796146   \n",
       "1/5/2000  0.926339  0.987165  0.919643  0.189153  21.045239  2.795518   \n",
       "1/6/2000  0.947545  0.955357  0.848214  0.189583  21.039946  2.794891   \n",
       "1/7/2000  0.861607  0.901786  0.852679  0.190012  21.034654  2.794264   \n",
       "\n",
       "           InfRate     Close Adj Close     Volume  \n",
       "Date                                               \n",
       "1/3/2000  1.760000  0.999442  0.853355  535796800  \n",
       "1/4/2000  2.488276  0.915179  0.781409  512377600  \n",
       "1/5/2000  2.488011  0.928571  0.792844  778321600  \n",
       "1/6/2000  2.487746  0.848214  0.724232  767972800  \n",
       "1/7/2000  2.487482  0.888393  0.758538  460734400  "
      ]
     },
     "execution_count": 17,
     "metadata": {},
     "output_type": "execute_result"
    }
   ],
   "source": [
    "df.head()"
   ]
  },
  {
   "cell_type": "code",
   "execution_count": 18,
   "metadata": {
    "id": "r18yURV9_RQN"
   },
   "outputs": [],
   "source": [
    "df.drop(\"Volume\", axis=1, inplace=True)"
   ]
  },
  {
   "cell_type": "code",
   "execution_count": 19,
   "metadata": {
    "colab": {
     "base_uri": "https://localhost:8080/",
     "height": 238
    },
    "id": "VuUcGCtt_aTK",
    "outputId": "f3dc39a1-b410-4cf2-91e5-0b56f9438a26"
   },
   "outputs": [
    {
     "data": {
      "text/html": [
       "<div>\n",
       "<style scoped>\n",
       "    .dataframe tbody tr th:only-of-type {\n",
       "        vertical-align: middle;\n",
       "    }\n",
       "\n",
       "    .dataframe tbody tr th {\n",
       "        vertical-align: top;\n",
       "    }\n",
       "\n",
       "    .dataframe thead th {\n",
       "        text-align: right;\n",
       "    }\n",
       "</style>\n",
       "<table border=\"1\" class=\"dataframe\">\n",
       "  <thead>\n",
       "    <tr style=\"text-align: right;\">\n",
       "      <th></th>\n",
       "      <th>Open</th>\n",
       "      <th>High</th>\n",
       "      <th>Low</th>\n",
       "      <th>eps</th>\n",
       "      <th>pe</th>\n",
       "      <th>InRate</th>\n",
       "      <th>InfRate</th>\n",
       "      <th>Close</th>\n",
       "      <th>Adj Close</th>\n",
       "    </tr>\n",
       "    <tr>\n",
       "      <th>Date</th>\n",
       "      <th></th>\n",
       "      <th></th>\n",
       "      <th></th>\n",
       "      <th></th>\n",
       "      <th></th>\n",
       "      <th></th>\n",
       "      <th></th>\n",
       "      <th></th>\n",
       "      <th></th>\n",
       "    </tr>\n",
       "  </thead>\n",
       "  <tbody>\n",
       "    <tr>\n",
       "      <th>1/3/2000</th>\n",
       "      <td>0.936384</td>\n",
       "      <td>1.004464</td>\n",
       "      <td>0.907924</td>\n",
       "      <td>0.310000</td>\n",
       "      <td>20.770000</td>\n",
       "      <td>3.411051</td>\n",
       "      <td>1.760000</td>\n",
       "      <td>0.999442</td>\n",
       "      <td>0.853355</td>\n",
       "    </tr>\n",
       "    <tr>\n",
       "      <th>1/4/2000</th>\n",
       "      <td>0.966518</td>\n",
       "      <td>0.987723</td>\n",
       "      <td>0.90346</td>\n",
       "      <td>0.188723</td>\n",
       "      <td>21.050533</td>\n",
       "      <td>2.796146</td>\n",
       "      <td>2.488276</td>\n",
       "      <td>0.915179</td>\n",
       "      <td>0.781409</td>\n",
       "    </tr>\n",
       "    <tr>\n",
       "      <th>1/5/2000</th>\n",
       "      <td>0.926339</td>\n",
       "      <td>0.987165</td>\n",
       "      <td>0.919643</td>\n",
       "      <td>0.189153</td>\n",
       "      <td>21.045239</td>\n",
       "      <td>2.795518</td>\n",
       "      <td>2.488011</td>\n",
       "      <td>0.928571</td>\n",
       "      <td>0.792844</td>\n",
       "    </tr>\n",
       "    <tr>\n",
       "      <th>1/6/2000</th>\n",
       "      <td>0.947545</td>\n",
       "      <td>0.955357</td>\n",
       "      <td>0.848214</td>\n",
       "      <td>0.189583</td>\n",
       "      <td>21.039946</td>\n",
       "      <td>2.794891</td>\n",
       "      <td>2.487746</td>\n",
       "      <td>0.848214</td>\n",
       "      <td>0.724232</td>\n",
       "    </tr>\n",
       "    <tr>\n",
       "      <th>1/7/2000</th>\n",
       "      <td>0.861607</td>\n",
       "      <td>0.901786</td>\n",
       "      <td>0.852679</td>\n",
       "      <td>0.190012</td>\n",
       "      <td>21.034654</td>\n",
       "      <td>2.794264</td>\n",
       "      <td>2.487482</td>\n",
       "      <td>0.888393</td>\n",
       "      <td>0.758538</td>\n",
       "    </tr>\n",
       "  </tbody>\n",
       "</table>\n",
       "</div>"
      ],
      "text/plain": [
       "              Open      High       Low       eps         pe    InRate  \\\n",
       "Date                                                                    \n",
       "1/3/2000  0.936384  1.004464  0.907924  0.310000  20.770000  3.411051   \n",
       "1/4/2000  0.966518  0.987723   0.90346  0.188723  21.050533  2.796146   \n",
       "1/5/2000  0.926339  0.987165  0.919643  0.189153  21.045239  2.795518   \n",
       "1/6/2000  0.947545  0.955357  0.848214  0.189583  21.039946  2.794891   \n",
       "1/7/2000  0.861607  0.901786  0.852679  0.190012  21.034654  2.794264   \n",
       "\n",
       "           InfRate     Close Adj Close  \n",
       "Date                                    \n",
       "1/3/2000  1.760000  0.999442  0.853355  \n",
       "1/4/2000  2.488276  0.915179  0.781409  \n",
       "1/5/2000  2.488011  0.928571  0.792844  \n",
       "1/6/2000  2.487746  0.848214  0.724232  \n",
       "1/7/2000  2.487482  0.888393  0.758538  "
      ]
     },
     "execution_count": 19,
     "metadata": {},
     "output_type": "execute_result"
    }
   ],
   "source": [
    "df.head()"
   ]
  },
  {
   "cell_type": "code",
   "execution_count": 20,
   "metadata": {
    "colab": {
     "base_uri": "https://localhost:8080/"
    },
    "id": "-cAarPvU_e1M",
    "outputId": "ffd5c031-66bc-4982-e656-a45867c50ed7"
   },
   "outputs": [
    {
     "data": {
      "text/plain": [
       "Open         0\n",
       "High         0\n",
       "Low          0\n",
       "eps          0\n",
       "pe           0\n",
       "InRate       0\n",
       "InfRate      0\n",
       "Close        0\n",
       "Adj Close    0\n",
       "dtype: int64"
      ]
     },
     "execution_count": 20,
     "metadata": {},
     "output_type": "execute_result"
    }
   ],
   "source": [
    "df.isna().sum()"
   ]
  },
  {
   "cell_type": "markdown",
   "metadata": {
    "id": "SMMc3rOH_0MR"
   },
   "source": [
    "**Feature Selection**"
   ]
  },
  {
   "cell_type": "code",
   "execution_count": 21,
   "metadata": {
    "colab": {
     "base_uri": "https://localhost:8080/",
     "height": 238
    },
    "id": "KrBiuCB0_3mn",
    "outputId": "c0f297fa-dce0-4326-a8a2-803f544c9630"
   },
   "outputs": [
    {
     "data": {
      "text/html": [
       "<div>\n",
       "<style scoped>\n",
       "    .dataframe tbody tr th:only-of-type {\n",
       "        vertical-align: middle;\n",
       "    }\n",
       "\n",
       "    .dataframe tbody tr th {\n",
       "        vertical-align: top;\n",
       "    }\n",
       "\n",
       "    .dataframe thead th {\n",
       "        text-align: right;\n",
       "    }\n",
       "</style>\n",
       "<table border=\"1\" class=\"dataframe\">\n",
       "  <thead>\n",
       "    <tr style=\"text-align: right;\">\n",
       "      <th></th>\n",
       "      <th>Open</th>\n",
       "      <th>High</th>\n",
       "      <th>Low</th>\n",
       "      <th>eps</th>\n",
       "      <th>pe</th>\n",
       "      <th>InRate</th>\n",
       "      <th>InfRate</th>\n",
       "      <th>Close</th>\n",
       "      <th>Adj Close</th>\n",
       "    </tr>\n",
       "    <tr>\n",
       "      <th>Date</th>\n",
       "      <th></th>\n",
       "      <th></th>\n",
       "      <th></th>\n",
       "      <th></th>\n",
       "      <th></th>\n",
       "      <th></th>\n",
       "      <th></th>\n",
       "      <th></th>\n",
       "      <th></th>\n",
       "    </tr>\n",
       "  </thead>\n",
       "  <tbody>\n",
       "    <tr>\n",
       "      <th>12/27/2021</th>\n",
       "      <td>177.089996</td>\n",
       "      <td>180.419998</td>\n",
       "      <td>177.070007</td>\n",
       "      <td>1.582562</td>\n",
       "      <td>10.786384</td>\n",
       "      <td>0.520334</td>\n",
       "      <td>1.977604</td>\n",
       "      <td>180.330002</td>\n",
       "      <td>179.586868</td>\n",
       "    </tr>\n",
       "    <tr>\n",
       "      <th>12/28/2021</th>\n",
       "      <td>180.160004</td>\n",
       "      <td>181.330002</td>\n",
       "      <td>178.529999</td>\n",
       "      <td>1.582636</td>\n",
       "      <td>10.787788</td>\n",
       "      <td>0.520138</td>\n",
       "      <td>1.977684</td>\n",
       "      <td>179.289993</td>\n",
       "      <td>178.551132</td>\n",
       "    </tr>\n",
       "    <tr>\n",
       "      <th>12/29/2021</th>\n",
       "      <td>179.330002</td>\n",
       "      <td>180.630005</td>\n",
       "      <td>178.139999</td>\n",
       "      <td>1.582711</td>\n",
       "      <td>10.789193</td>\n",
       "      <td>0.519943</td>\n",
       "      <td>1.977764</td>\n",
       "      <td>179.380005</td>\n",
       "      <td>178.640778</td>\n",
       "    </tr>\n",
       "    <tr>\n",
       "      <th>12/30/2021</th>\n",
       "      <td>179.470001</td>\n",
       "      <td>180.570007</td>\n",
       "      <td>178.089996</td>\n",
       "      <td>1.582785</td>\n",
       "      <td>10.790599</td>\n",
       "      <td>0.519747</td>\n",
       "      <td>1.977845</td>\n",
       "      <td>178.199997</td>\n",
       "      <td>177.465637</td>\n",
       "    </tr>\n",
       "    <tr>\n",
       "      <th>12/31/2021</th>\n",
       "      <td>178.089996</td>\n",
       "      <td>179.229996</td>\n",
       "      <td>177.259995</td>\n",
       "      <td>1.582859</td>\n",
       "      <td>10.792005</td>\n",
       "      <td>0.519552</td>\n",
       "      <td>1.977925</td>\n",
       "      <td>177.570007</td>\n",
       "      <td>176.838242</td>\n",
       "    </tr>\n",
       "  </tbody>\n",
       "</table>\n",
       "</div>"
      ],
      "text/plain": [
       "                  Open        High         Low       eps         pe    InRate  \\\n",
       "Date                                                                            \n",
       "12/27/2021  177.089996  180.419998  177.070007  1.582562  10.786384  0.520334   \n",
       "12/28/2021  180.160004  181.330002  178.529999  1.582636  10.787788  0.520138   \n",
       "12/29/2021  179.330002  180.630005  178.139999  1.582711  10.789193  0.519943   \n",
       "12/30/2021  179.470001  180.570007  178.089996  1.582785  10.790599  0.519747   \n",
       "12/31/2021  178.089996  179.229996  177.259995  1.582859  10.792005  0.519552   \n",
       "\n",
       "             InfRate       Close   Adj Close  \n",
       "Date                                          \n",
       "12/27/2021  1.977604  180.330002  179.586868  \n",
       "12/28/2021  1.977684  179.289993  178.551132  \n",
       "12/29/2021  1.977764  179.380005  178.640778  \n",
       "12/30/2021  1.977845  178.199997  177.465637  \n",
       "12/31/2021  1.977925  177.570007  176.838242  "
      ]
     },
     "execution_count": 21,
     "metadata": {},
     "output_type": "execute_result"
    }
   ],
   "source": [
    "df.tail()"
   ]
  },
  {
   "cell_type": "code",
   "execution_count": 39,
   "metadata": {
    "id": "nCG_d2JlhTEh"
   },
   "outputs": [],
   "source": [
    "x = df.iloc[:, 0:9].values\n",
    "\n"
   ]
  },
  {
   "cell_type": "code",
   "execution_count": 40,
   "metadata": {
    "colab": {
     "base_uri": "https://localhost:8080/"
    },
    "id": "NSKu-B-nAHRO",
    "outputId": "b93fb116-d2bc-4c6d-87ba-6fdd5e92adb1"
   },
   "outputs": [
    {
     "data": {
      "text/plain": [
       "array([['0.936384', '1.004464', '0.907924', ..., 1.76, 0.999442,\n",
       "        '0.853355'],\n",
       "       ['0.966518', '0.987723', '0.90346', ..., 2.48827564, 0.915179,\n",
       "        '0.781409'],\n",
       "       ['0.926339', '0.987165', '0.919643', ..., 2.488010875, 0.928571,\n",
       "        '0.792844'],\n",
       "       ...,\n",
       "       ['179.330002', '180.630005', '178.139999', ..., 1.97776447,\n",
       "        179.380005, '178.640778'],\n",
       "       ['179.470001', '180.570007', '178.089996', ..., 1.977844731,\n",
       "        178.199997, '177.465637'],\n",
       "       ['178.089996', '179.229996', '177.259995', ..., 1.977925055,\n",
       "        177.570007, '176.838242']], dtype=object)"
      ]
     },
     "execution_count": 40,
     "metadata": {},
     "output_type": "execute_result"
    }
   ],
   "source": [
    "x"
   ]
  },
  {
   "cell_type": "code",
   "execution_count": 41,
   "metadata": {
    "id": "I46iQ-h4ABVN"
   },
   "outputs": [],
   "source": [
    "y = df.iloc[:, 8].values"
   ]
  },
  {
   "cell_type": "code",
   "execution_count": 42,
   "metadata": {
    "colab": {
     "base_uri": "https://localhost:8080/"
    },
    "id": "NJ0wcovAAKUV",
    "outputId": "5e13f6e2-3289-419b-deb8-cb2d38750a35"
   },
   "outputs": [
    {
     "data": {
      "text/plain": [
       "array(['0.853355', '0.781409', '0.792844', ..., '178.640778',\n",
       "       '177.465637', '176.838242'], dtype=object)"
      ]
     },
     "execution_count": 42,
     "metadata": {},
     "output_type": "execute_result"
    }
   ],
   "source": [
    "y "
   ]
  },
  {
   "cell_type": "markdown",
   "metadata": {
    "id": "hXr9UgQ8ARzS"
   },
   "source": [
    "x is holding values for the open, high, low, close, Adj Close columns and y is holding the value of Adj Close columns"
   ]
  },
  {
   "cell_type": "markdown",
   "metadata": {
    "id": "6hoMPNZNAm_g"
   },
   "source": [
    "Divide the dataset into train and test"
   ]
  },
  {
   "cell_type": "code",
   "execution_count": 43,
   "metadata": {
    "id": "nQ6byuNTAqRZ"
   },
   "outputs": [],
   "source": [
    "X_train, X_test, y_train, y_test = train_test_split(x, y, test_size=0.2,  random_state=0)"
   ]
  },
  {
   "cell_type": "code",
   "execution_count": 44,
   "metadata": {
    "id": "2WnBE7GtAv1k",
    "scrolled": true
   },
   "outputs": [],
   "source": [
    "#Scaling the features\n",
    "scale = StandardScaler()\n",
    "X_train = scale.fit_transform(X_train)\n",
    "X_test = scale.transform(X_test)"
   ]
  },
  {
   "cell_type": "markdown",
   "metadata": {
    "id": "OXAoAtVhBH95"
   },
   "source": [
    "Hyperparameter Tuning\n",
    "For a random forest regression model, we are considering the follwing parameters:\n",
    "\n",
    "n_estimators — number of trees in the forest <br>\n",
    "max_depth — maximum depth in a tree <br>\n",
    "min_samples_split — minimum number of data points before the sample is split <br>\n",
    "min_samples_leaf — minimum number of leaf nodes that are required to be sampled <br>\n",
    "bootstrap — sampling for data points, true or false <br>\n",
    "random_state — generated random numbers for the random forest. <br>"
   ]
  },
  {
   "cell_type": "code",
   "execution_count": 28,
   "metadata": {
    "colab": {
     "background_save": true,
     "base_uri": "https://localhost:8080/"
    },
    "id": "FSiCC63VkOIE",
    "outputId": "341b0eb9-291c-43e7-878b-5e2b8befc4bc"
   },
   "outputs": [],
   "source": [
    "grid_rf = {\n",
    "'n_estimators': [20, 50, 100, 500, 1000],  \n",
    "'max_depth': np.arange(1, 15, 1),  \n",
    "'min_samples_split': [2, 10, 9], \n",
    "'min_samples_leaf': np.arange(1, 15, 2, dtype=int),  \n",
    "'bootstrap': [True, False], \n",
    "'random_state': [1, 2, 30, 42]\n",
    "}\n",
    "rscv = RandomizedSearchCV(estimator=RandomForestRegressor(), param_distributions=grid_rf, cv=10, n_jobs=-1, verbose=2, n_iter=200)\n",
    "rscv_fit = rscv.fit(X_train, y_train)\n",
    "best_parameters = rscv_fit.best_params_\n",
    "print(best_parameters)"
   ]
  },
  {
   "cell_type": "markdown",
   "metadata": {},
   "source": [
    "Apply model and Predict"
   ]
  },
  {
   "cell_type": "code",
   "execution_count": 45,
   "metadata": {},
   "outputs": [],
   "source": [
    "model = RandomForestRegressor(n_estimators=100, random_state=30, min_samples_split=2, min_samples_leaf=1, max_depth=12, bootstrap=True)\n",
    "model.fit(X_train, y_train)\n",
    "predict = model.predict(X_test)"
   ]
  },
  {
   "cell_type": "code",
   "execution_count": 46,
   "metadata": {},
   "outputs": [
    {
     "name": "stdout",
     "output_type": "stream",
     "text": [
      "[  0.85550561   6.01227568   0.33324011 ...   0.26047703 135.69323969\n",
      "   0.3547208 ]\n"
     ]
    }
   ],
   "source": [
    "print(predict)"
   ]
  },
  {
   "cell_type": "code",
   "execution_count": 47,
   "metadata": {},
   "outputs": [
    {
     "name": "stdout",
     "output_type": "stream",
     "text": [
      "(1108,)\n"
     ]
    }
   ],
   "source": [
    "print(predict.shape)"
   ]
  },
  {
   "cell_type": "code",
   "execution_count": 48,
   "metadata": {},
   "outputs": [
    {
     "name": "stdout",
     "output_type": "stream",
     "text": [
      "Mean Absolute Error: 0.03662\n",
      "Mean Squared Error: 0.02138\n",
      "Root Mean Squared Error: 0.14621\n",
      "(R^2) Score: 0.99998\n",
      "Train Score : 100.00% and Test Score : 100.00% using Random Tree Regressor.\n"
     ]
    }
   ],
   "source": [
    "import sklearn.metrics as metrics\n",
    "\n",
    "print(\"Mean Absolute Error:\", round(metrics.mean_absolute_error(y_test, predict), 5))\n",
    "print(\"Mean Squared Error:\", round(metrics.mean_squared_error(y_test, predict), 5))\n",
    "print(\"Root Mean Squared Error:\", round(np.sqrt(metrics.mean_squared_error(y_test, predict)), 5))\n",
    "print(\"(R^2) Score:\", round(metrics.r2_score(y_test, predict), 5))\n",
    "print(f'Train Score : {model.score(X_train, y_train) * 100:.2f}% and Test Score : {model.score(X_test, y_test) * 100:.2f}% using Random Tree Regressor.')\n",
    "             "
   ]
  },
  {
   "cell_type": "code",
   "execution_count": 49,
   "metadata": {},
   "outputs": [
    {
     "data": {
      "text/plain": [
       "Index(['1/3/2000', '1/4/2000', '1/5/2000', '1/6/2000', '1/7/2000', '1/10/2000',\n",
       "       '1/11/2000', '1/12/2000', '1/13/2000', '1/14/2000',\n",
       "       ...\n",
       "       '12/17/2021', '12/20/2021', '12/21/2021', '12/22/2021', '12/23/2021',\n",
       "       '12/27/2021', '12/28/2021', '12/29/2021', '12/30/2021', '12/31/2021'],\n",
       "      dtype='object', name='Date', length=5536)"
      ]
     },
     "execution_count": 49,
     "metadata": {},
     "output_type": "execute_result"
    }
   ],
   "source": [
    "df.index"
   ]
  },
  {
   "cell_type": "code",
   "execution_count": 50,
   "metadata": {},
   "outputs": [
    {
     "data": {
      "text/plain": [
       "'1/3/2000'"
      ]
     },
     "execution_count": 50,
     "metadata": {},
     "output_type": "execute_result"
    }
   ],
   "source": [
    "df.index[0]"
   ]
  },
  {
   "cell_type": "code",
   "execution_count": 51,
   "metadata": {},
   "outputs": [],
   "source": [
    "predictions = pd.DataFrame({\"Predictions\": predict}, index=pd.date_range(start=df.index[-1], periods=len(predict), freq=\"D\"))"
   ]
  },
  {
   "cell_type": "code",
   "execution_count": 52,
   "metadata": {},
   "outputs": [
    {
     "data": {
      "text/html": [
       "<div>\n",
       "<style scoped>\n",
       "    .dataframe tbody tr th:only-of-type {\n",
       "        vertical-align: middle;\n",
       "    }\n",
       "\n",
       "    .dataframe tbody tr th {\n",
       "        vertical-align: top;\n",
       "    }\n",
       "\n",
       "    .dataframe thead th {\n",
       "        text-align: right;\n",
       "    }\n",
       "</style>\n",
       "<table border=\"1\" class=\"dataframe\">\n",
       "  <thead>\n",
       "    <tr style=\"text-align: right;\">\n",
       "      <th></th>\n",
       "      <th>Predictions</th>\n",
       "    </tr>\n",
       "  </thead>\n",
       "  <tbody>\n",
       "    <tr>\n",
       "      <th>2021-12-31</th>\n",
       "      <td>0.855506</td>\n",
       "    </tr>\n",
       "    <tr>\n",
       "      <th>2022-01-01</th>\n",
       "      <td>6.012276</td>\n",
       "    </tr>\n",
       "    <tr>\n",
       "      <th>2022-01-02</th>\n",
       "      <td>0.333240</td>\n",
       "    </tr>\n",
       "    <tr>\n",
       "      <th>2022-01-03</th>\n",
       "      <td>26.497473</td>\n",
       "    </tr>\n",
       "    <tr>\n",
       "      <th>2022-01-04</th>\n",
       "      <td>41.957841</td>\n",
       "    </tr>\n",
       "    <tr>\n",
       "      <th>...</th>\n",
       "      <td>...</td>\n",
       "    </tr>\n",
       "    <tr>\n",
       "      <th>2025-01-07</th>\n",
       "      <td>0.545189</td>\n",
       "    </tr>\n",
       "    <tr>\n",
       "      <th>2025-01-08</th>\n",
       "      <td>30.140922</td>\n",
       "    </tr>\n",
       "    <tr>\n",
       "      <th>2025-01-09</th>\n",
       "      <td>0.260477</td>\n",
       "    </tr>\n",
       "    <tr>\n",
       "      <th>2025-01-10</th>\n",
       "      <td>135.693240</td>\n",
       "    </tr>\n",
       "    <tr>\n",
       "      <th>2025-01-11</th>\n",
       "      <td>0.354721</td>\n",
       "    </tr>\n",
       "  </tbody>\n",
       "</table>\n",
       "<p>1108 rows × 1 columns</p>\n",
       "</div>"
      ],
      "text/plain": [
       "            Predictions\n",
       "2021-12-31     0.855506\n",
       "2022-01-01     6.012276\n",
       "2022-01-02     0.333240\n",
       "2022-01-03    26.497473\n",
       "2022-01-04    41.957841\n",
       "...                 ...\n",
       "2025-01-07     0.545189\n",
       "2025-01-08    30.140922\n",
       "2025-01-09     0.260477\n",
       "2025-01-10   135.693240\n",
       "2025-01-11     0.354721\n",
       "\n",
       "[1108 rows x 1 columns]"
      ]
     },
     "execution_count": 52,
     "metadata": {},
     "output_type": "execute_result"
    }
   ],
   "source": [
    "predictions"
   ]
  },
  {
   "cell_type": "code",
   "execution_count": 53,
   "metadata": {},
   "outputs": [],
   "source": [
    "tendays_df_pred = pd.DataFrame(predictions[:10])"
   ]
  },
  {
   "cell_type": "code",
   "execution_count": 54,
   "metadata": {},
   "outputs": [
    {
     "data": {
      "text/html": [
       "<div>\n",
       "<style scoped>\n",
       "    .dataframe tbody tr th:only-of-type {\n",
       "        vertical-align: middle;\n",
       "    }\n",
       "\n",
       "    .dataframe tbody tr th {\n",
       "        vertical-align: top;\n",
       "    }\n",
       "\n",
       "    .dataframe thead th {\n",
       "        text-align: right;\n",
       "    }\n",
       "</style>\n",
       "<table border=\"1\" class=\"dataframe\">\n",
       "  <thead>\n",
       "    <tr style=\"text-align: right;\">\n",
       "      <th></th>\n",
       "      <th>Predictions</th>\n",
       "    </tr>\n",
       "  </thead>\n",
       "  <tbody>\n",
       "    <tr>\n",
       "      <th>2021-12-31</th>\n",
       "      <td>0.855506</td>\n",
       "    </tr>\n",
       "    <tr>\n",
       "      <th>2022-01-01</th>\n",
       "      <td>6.012276</td>\n",
       "    </tr>\n",
       "    <tr>\n",
       "      <th>2022-01-02</th>\n",
       "      <td>0.333240</td>\n",
       "    </tr>\n",
       "    <tr>\n",
       "      <th>2022-01-03</th>\n",
       "      <td>26.497473</td>\n",
       "    </tr>\n",
       "    <tr>\n",
       "      <th>2022-01-04</th>\n",
       "      <td>41.957841</td>\n",
       "    </tr>\n",
       "    <tr>\n",
       "      <th>2022-01-05</th>\n",
       "      <td>0.326636</td>\n",
       "    </tr>\n",
       "    <tr>\n",
       "      <th>2022-01-06</th>\n",
       "      <td>1.113560</td>\n",
       "    </tr>\n",
       "    <tr>\n",
       "      <th>2022-01-07</th>\n",
       "      <td>118.958555</td>\n",
       "    </tr>\n",
       "    <tr>\n",
       "      <th>2022-01-08</th>\n",
       "      <td>0.271130</td>\n",
       "    </tr>\n",
       "    <tr>\n",
       "      <th>2022-01-09</th>\n",
       "      <td>24.211058</td>\n",
       "    </tr>\n",
       "  </tbody>\n",
       "</table>\n",
       "</div>"
      ],
      "text/plain": [
       "            Predictions\n",
       "2021-12-31     0.855506\n",
       "2022-01-01     6.012276\n",
       "2022-01-02     0.333240\n",
       "2022-01-03    26.497473\n",
       "2022-01-04    41.957841\n",
       "2022-01-05     0.326636\n",
       "2022-01-06     1.113560\n",
       "2022-01-07   118.958555\n",
       "2022-01-08     0.271130\n",
       "2022-01-09    24.211058"
      ]
     },
     "execution_count": 54,
     "metadata": {},
     "output_type": "execute_result"
    }
   ],
   "source": [
    "tendays_df_pred "
   ]
  },
  {
   "cell_type": "code",
   "execution_count": 55,
   "metadata": {},
   "outputs": [
    {
     "name": "stderr",
     "output_type": "stream",
     "text": [
      "No artists with labels found to put in legend.  Note that artists whose label start with an underscore are ignored when legend() is called with no argument.\n"
     ]
    },
    {
     "data": {
      "image/png": "[encoded data removed]",
      "text/plain": [
       "<Figure size 1152x576 with 1 Axes>"
      ]
     },
     "metadata": {
      "needs_background": "light"
     },
     "output_type": "display_data"
    }
   ],
   "source": [
    "from sklearn.preprocessing import MinMaxScaler\n",
    "from sklearn.preprocessing import StandardScaler\n",
    "\n",
    "# predictions[len(tendays_df_pred)+(look_back*2)+1:len(df)-1, :] = test_predict\n",
    "plt.figure(figsize = (16,8))\n",
    "plt.title('Next 10 Days Price Prediction using Random Forest')\n",
    "plt.xlabel('date')\n",
    "plt.ylabel('Closing Price')\n",
    "plt.legend(fontsize=18)\n",
    "plt.plot(tendays_df_pred)\n",
    "plt.show()\n"
   ]
  },
  {
   "cell_type": "code",
   "execution_count": null,
   "metadata": {},
   "outputs": [],
   "source": []
  }
 ],
 "metadata": {
  "accelerator": "GPU",
  "colab": {
   "collapsed_sections": [],
   "provenance": []
  },
  "gpuClass": "standard",
  "kernelspec": {
   "display_name": "Python 3 (ipykernel)",
   "language": "python",
   "name": "python3"
  },
  "language_info": {
   "codemirror_mode": {
    "name": "ipython",
    "version": 3
   },
   "file_extension": ".py",
   "mimetype": "text/x-python",
   "name": "python",
   "nbconvert_exporter": "python",
   "pygments_lexer": "ipython3",
   "version": "3.9.12"
  }
 },
 "nbformat": 4,
 "nbformat_minor": 1
}
