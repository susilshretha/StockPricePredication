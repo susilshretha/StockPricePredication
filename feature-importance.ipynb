{
 "cells": [
  {
   "cell_type": "code",
   "execution_count": 2,
   "id": "9d9dbc2c",
   "metadata": {},
   "outputs": [],
   "source": [
    "# random forest for feature importance on a regression problem\n",
    "import pandas as pd\n",
    "import numpy as np\n",
    "from sklearn.datasets import make_regression\n",
    "from sklearn.ensemble import RandomForestRegressor\n",
    "from matplotlib import pyplot\n",
    "# define dataset\n"
   ]
  },
  {
   "cell_type": "code",
   "execution_count": 3,
   "id": "04aba102",
   "metadata": {},
   "outputs": [
    {
     "data": {
      "text/html": [
       "<div>\n",
       "<style scoped>\n",
       "    .dataframe tbody tr th:only-of-type {\n",
       "        vertical-align: middle;\n",
       "    }\n",
       "\n",
       "    .dataframe tbody tr th {\n",
       "        vertical-align: top;\n",
       "    }\n",
       "\n",
       "    .dataframe thead th {\n",
       "        text-align: right;\n",
       "    }\n",
       "</style>\n",
       "<table border=\"1\" class=\"dataframe\">\n",
       "  <thead>\n",
       "    <tr style=\"text-align: right;\">\n",
       "      <th></th>\n",
       "      <th>Date</th>\n",
       "      <th>Open</th>\n",
       "      <th>High</th>\n",
       "      <th>Low</th>\n",
       "      <th>eps</th>\n",
       "      <th>pe</th>\n",
       "      <th>InRate</th>\n",
       "      <th>InfRate</th>\n",
       "      <th>Close</th>\n",
       "      <th>Adj Close</th>\n",
       "      <th>Volume</th>\n",
       "    </tr>\n",
       "  </thead>\n",
       "  <tbody>\n",
       "    <tr>\n",
       "      <th>0</th>\n",
       "      <td>1/3/2000</td>\n",
       "      <td>0.936384</td>\n",
       "      <td>1.004464</td>\n",
       "      <td>0.907924</td>\n",
       "      <td>0.310000</td>\n",
       "      <td>20.770000</td>\n",
       "      <td>3.411051</td>\n",
       "      <td>1.760000</td>\n",
       "      <td>0.999442</td>\n",
       "      <td>0.853355</td>\n",
       "      <td>535796800</td>\n",
       "    </tr>\n",
       "    <tr>\n",
       "      <th>1</th>\n",
       "      <td>1/4/2000</td>\n",
       "      <td>0.966518</td>\n",
       "      <td>0.987723</td>\n",
       "      <td>0.903460</td>\n",
       "      <td>0.188723</td>\n",
       "      <td>21.050533</td>\n",
       "      <td>2.796146</td>\n",
       "      <td>2.488276</td>\n",
       "      <td>0.915179</td>\n",
       "      <td>0.781409</td>\n",
       "      <td>512377600</td>\n",
       "    </tr>\n",
       "    <tr>\n",
       "      <th>2</th>\n",
       "      <td>1/5/2000</td>\n",
       "      <td>0.926339</td>\n",
       "      <td>0.987165</td>\n",
       "      <td>0.919643</td>\n",
       "      <td>0.189153</td>\n",
       "      <td>21.045239</td>\n",
       "      <td>2.795518</td>\n",
       "      <td>2.488011</td>\n",
       "      <td>0.928571</td>\n",
       "      <td>0.792844</td>\n",
       "      <td>778321600</td>\n",
       "    </tr>\n",
       "    <tr>\n",
       "      <th>3</th>\n",
       "      <td>1/6/2000</td>\n",
       "      <td>0.947545</td>\n",
       "      <td>0.955357</td>\n",
       "      <td>0.848214</td>\n",
       "      <td>0.189583</td>\n",
       "      <td>21.039946</td>\n",
       "      <td>2.794891</td>\n",
       "      <td>2.487746</td>\n",
       "      <td>0.848214</td>\n",
       "      <td>0.724232</td>\n",
       "      <td>767972800</td>\n",
       "    </tr>\n",
       "    <tr>\n",
       "      <th>4</th>\n",
       "      <td>1/7/2000</td>\n",
       "      <td>0.861607</td>\n",
       "      <td>0.901786</td>\n",
       "      <td>0.852679</td>\n",
       "      <td>0.190012</td>\n",
       "      <td>21.034654</td>\n",
       "      <td>2.794264</td>\n",
       "      <td>2.487482</td>\n",
       "      <td>0.888393</td>\n",
       "      <td>0.758538</td>\n",
       "      <td>460734400</td>\n",
       "    </tr>\n",
       "  </tbody>\n",
       "</table>\n",
       "</div>"
      ],
      "text/plain": [
       "       Date      Open      High       Low       eps         pe    InRate  \\\n",
       "0  1/3/2000  0.936384  1.004464  0.907924  0.310000  20.770000  3.411051   \n",
       "1  1/4/2000  0.966518  0.987723  0.903460  0.188723  21.050533  2.796146   \n",
       "2  1/5/2000  0.926339  0.987165  0.919643  0.189153  21.045239  2.795518   \n",
       "3  1/6/2000  0.947545  0.955357  0.848214  0.189583  21.039946  2.794891   \n",
       "4  1/7/2000  0.861607  0.901786  0.852679  0.190012  21.034654  2.794264   \n",
       "\n",
       "    InfRate     Close  Adj Close     Volume  \n",
       "0  1.760000  0.999442   0.853355  535796800  \n",
       "1  2.488276  0.915179   0.781409  512377600  \n",
       "2  2.488011  0.928571   0.792844  778321600  \n",
       "3  2.487746  0.848214   0.724232  767972800  \n",
       "4  2.487482  0.888393   0.758538  460734400  "
      ]
     },
     "execution_count": 3,
     "metadata": {},
     "output_type": "execute_result"
    }
   ],
   "source": [
    "df = pd.read_csv('AAPL-Final.csv')\n",
    "df.head()"
   ]
  },
  {
   "cell_type": "code",
   "execution_count": 4,
   "id": "f46d4310",
   "metadata": {},
   "outputs": [
    {
     "data": {
      "text/html": [
       "<div>\n",
       "<style scoped>\n",
       "    .dataframe tbody tr th:only-of-type {\n",
       "        vertical-align: middle;\n",
       "    }\n",
       "\n",
       "    .dataframe tbody tr th {\n",
       "        vertical-align: top;\n",
       "    }\n",
       "\n",
       "    .dataframe thead th {\n",
       "        text-align: right;\n",
       "    }\n",
       "</style>\n",
       "<table border=\"1\" class=\"dataframe\">\n",
       "  <thead>\n",
       "    <tr style=\"text-align: right;\">\n",
       "      <th></th>\n",
       "      <th>Open</th>\n",
       "      <th>High</th>\n",
       "      <th>Low</th>\n",
       "      <th>eps</th>\n",
       "      <th>pe</th>\n",
       "      <th>InRate</th>\n",
       "      <th>InfRate</th>\n",
       "      <th>Close</th>\n",
       "      <th>Adj Close</th>\n",
       "      <th>Volume</th>\n",
       "    </tr>\n",
       "    <tr>\n",
       "      <th>Date</th>\n",
       "      <th></th>\n",
       "      <th></th>\n",
       "      <th></th>\n",
       "      <th></th>\n",
       "      <th></th>\n",
       "      <th></th>\n",
       "      <th></th>\n",
       "      <th></th>\n",
       "      <th></th>\n",
       "      <th></th>\n",
       "    </tr>\n",
       "  </thead>\n",
       "  <tbody>\n",
       "    <tr>\n",
       "      <th>1/3/2000</th>\n",
       "      <td>0.936384</td>\n",
       "      <td>1.004464</td>\n",
       "      <td>0.907924</td>\n",
       "      <td>0.310000</td>\n",
       "      <td>20.770000</td>\n",
       "      <td>3.411051</td>\n",
       "      <td>1.760000</td>\n",
       "      <td>0.999442</td>\n",
       "      <td>0.853355</td>\n",
       "      <td>535796800</td>\n",
       "    </tr>\n",
       "    <tr>\n",
       "      <th>1/4/2000</th>\n",
       "      <td>0.966518</td>\n",
       "      <td>0.987723</td>\n",
       "      <td>0.903460</td>\n",
       "      <td>0.188723</td>\n",
       "      <td>21.050533</td>\n",
       "      <td>2.796146</td>\n",
       "      <td>2.488276</td>\n",
       "      <td>0.915179</td>\n",
       "      <td>0.781409</td>\n",
       "      <td>512377600</td>\n",
       "    </tr>\n",
       "    <tr>\n",
       "      <th>1/5/2000</th>\n",
       "      <td>0.926339</td>\n",
       "      <td>0.987165</td>\n",
       "      <td>0.919643</td>\n",
       "      <td>0.189153</td>\n",
       "      <td>21.045239</td>\n",
       "      <td>2.795518</td>\n",
       "      <td>2.488011</td>\n",
       "      <td>0.928571</td>\n",
       "      <td>0.792844</td>\n",
       "      <td>778321600</td>\n",
       "    </tr>\n",
       "    <tr>\n",
       "      <th>1/6/2000</th>\n",
       "      <td>0.947545</td>\n",
       "      <td>0.955357</td>\n",
       "      <td>0.848214</td>\n",
       "      <td>0.189583</td>\n",
       "      <td>21.039946</td>\n",
       "      <td>2.794891</td>\n",
       "      <td>2.487746</td>\n",
       "      <td>0.848214</td>\n",
       "      <td>0.724232</td>\n",
       "      <td>767972800</td>\n",
       "    </tr>\n",
       "    <tr>\n",
       "      <th>1/7/2000</th>\n",
       "      <td>0.861607</td>\n",
       "      <td>0.901786</td>\n",
       "      <td>0.852679</td>\n",
       "      <td>0.190012</td>\n",
       "      <td>21.034654</td>\n",
       "      <td>2.794264</td>\n",
       "      <td>2.487482</td>\n",
       "      <td>0.888393</td>\n",
       "      <td>0.758538</td>\n",
       "      <td>460734400</td>\n",
       "    </tr>\n",
       "  </tbody>\n",
       "</table>\n",
       "</div>"
      ],
      "text/plain": [
       "              Open      High       Low       eps         pe    InRate  \\\n",
       "Date                                                                    \n",
       "1/3/2000  0.936384  1.004464  0.907924  0.310000  20.770000  3.411051   \n",
       "1/4/2000  0.966518  0.987723  0.903460  0.188723  21.050533  2.796146   \n",
       "1/5/2000  0.926339  0.987165  0.919643  0.189153  21.045239  2.795518   \n",
       "1/6/2000  0.947545  0.955357  0.848214  0.189583  21.039946  2.794891   \n",
       "1/7/2000  0.861607  0.901786  0.852679  0.190012  21.034654  2.794264   \n",
       "\n",
       "           InfRate     Close  Adj Close     Volume  \n",
       "Date                                                \n",
       "1/3/2000  1.760000  0.999442   0.853355  535796800  \n",
       "1/4/2000  2.488276  0.915179   0.781409  512377600  \n",
       "1/5/2000  2.488011  0.928571   0.792844  778321600  \n",
       "1/6/2000  2.487746  0.848214   0.724232  767972800  \n",
       "1/7/2000  2.487482  0.888393   0.758538  460734400  "
      ]
     },
     "execution_count": 4,
     "metadata": {},
     "output_type": "execute_result"
    }
   ],
   "source": [
    "df.set_index(\"Date\", inplace=True)\n",
    "df.head()"
   ]
  },
  {
   "cell_type": "code",
   "execution_count": 5,
   "id": "7c4339fc",
   "metadata": {},
   "outputs": [
    {
     "data": {
      "image/png": "[encoded data removed]",
      "text/plain": [
       "<Figure size 1008x576 with 1 Axes>"
      ]
     },
     "metadata": {
      "needs_background": "light"
     },
     "output_type": "display_data"
    }
   ],
   "source": [
    "from matplotlib import pyplot as plt\n",
    "\n",
    "df['Close'].plot(figsize=(14,8))\n",
    "plt.ylabel(\"Closing Price\")\n",
    "plt.show()"
   ]
  },
  {
   "cell_type": "code",
   "execution_count": 6,
   "id": "182fe6a0",
   "metadata": {},
   "outputs": [
    {
     "data": {
      "text/plain": [
       "Open         0\n",
       "High         0\n",
       "Low          0\n",
       "eps          0\n",
       "pe           0\n",
       "InRate       0\n",
       "InfRate      0\n",
       "Close        0\n",
       "Adj Close    0\n",
       "Volume       0\n",
       "dtype: int64"
      ]
     },
     "execution_count": 6,
     "metadata": {},
     "output_type": "execute_result"
    }
   ],
   "source": [
    "df.isna().sum() "
   ]
  },
  {
   "cell_type": "code",
   "execution_count": 7,
   "id": "276ee288",
   "metadata": {},
   "outputs": [
    {
     "data": {
      "text/plain": [
       "0.267857      6\n",
       "0.348214      6\n",
       "0.265179      5\n",
       "0.262500      4\n",
       "0.256429      4\n",
       "             ..\n",
       "3.478571      1\n",
       "3.638929      1\n",
       "3.498214      1\n",
       "3.717143      1\n",
       "177.570007    1\n",
       "Name: Close, Length: 5057, dtype: int64"
      ]
     },
     "execution_count": 7,
     "metadata": {},
     "output_type": "execute_result"
    }
   ],
   "source": [
    "df[\"Close\"].value_counts()"
   ]
  },
  {
   "cell_type": "code",
   "execution_count": 8,
   "id": "9176407b",
   "metadata": {},
   "outputs": [
    {
     "data": {
      "text/plain": [
       "Open        High        Low         eps       pe         InRate    InfRate   Close       Adj Close   Volume    \n",
       "0.231964    0.244107    0.230714    0.520628  17.162533  2.306215  2.291470  0.236429    0.201871    1016176000    1\n",
       "23.973213   24.080357   23.769644   1.236860  11.159798  1.184747  1.959672  23.814285   20.420700   370725600     1\n",
       "24.012501   24.190001   23.812500   1.403806  10.745268  0.892301  1.927236  24.190001   22.302607   110330800     1\n",
       "24.010000   24.219999   23.902500   1.333655  10.883986  1.018283  1.936387  23.992500   21.539148   135180000     1\n",
       "            24.157499   23.334999   1.400416  10.753257  0.898525  1.927480  23.355000   21.416540   533478800     1\n",
       "                                                                                                                  ..\n",
       "3.227143    3.284643    3.211071    0.837585  13.952021  1.825076  2.122726  3.278929    2.799654    1036173600    1\n",
       "3.226786    3.374643    3.173571    0.991244  12.658076  1.584783  2.051103  3.357143    2.866436    1043795200    1\n",
       "3.226071    3.496429    3.218214    0.982936  12.722446  1.597930  2.054749  3.442143    2.939012    1590058400    1\n",
       "3.222857    3.269643    3.199643    0.860958  13.742147  1.788885  2.111309  3.254643    2.778918    712961200     1\n",
       "181.119995  182.130005  175.529999  1.581890  10.773771  0.522098  1.976886  175.740005  175.015778  153237000     1\n",
       "Length: 5536, dtype: int64"
      ]
     },
     "execution_count": 8,
     "metadata": {},
     "output_type": "execute_result"
    }
   ],
   "source": [
    "df.value_counts()"
   ]
  },
  {
   "cell_type": "code",
   "execution_count": 9,
   "id": "04d4047e",
   "metadata": {},
   "outputs": [],
   "source": [
    "# df.drop(\"Volume\", axis=1, inplace=True)"
   ]
  },
  {
   "cell_type": "code",
   "execution_count": 10,
   "id": "d0d72edf",
   "metadata": {},
   "outputs": [
    {
     "data": {
      "text/html": [
       "<div>\n",
       "<style scoped>\n",
       "    .dataframe tbody tr th:only-of-type {\n",
       "        vertical-align: middle;\n",
       "    }\n",
       "\n",
       "    .dataframe tbody tr th {\n",
       "        vertical-align: top;\n",
       "    }\n",
       "\n",
       "    .dataframe thead th {\n",
       "        text-align: right;\n",
       "    }\n",
       "</style>\n",
       "<table border=\"1\" class=\"dataframe\">\n",
       "  <thead>\n",
       "    <tr style=\"text-align: right;\">\n",
       "      <th></th>\n",
       "      <th>Open</th>\n",
       "      <th>High</th>\n",
       "      <th>Low</th>\n",
       "      <th>eps</th>\n",
       "      <th>pe</th>\n",
       "      <th>InRate</th>\n",
       "      <th>InfRate</th>\n",
       "      <th>Close</th>\n",
       "      <th>Adj Close</th>\n",
       "      <th>Volume</th>\n",
       "    </tr>\n",
       "    <tr>\n",
       "      <th>Date</th>\n",
       "      <th></th>\n",
       "      <th></th>\n",
       "      <th></th>\n",
       "      <th></th>\n",
       "      <th></th>\n",
       "      <th></th>\n",
       "      <th></th>\n",
       "      <th></th>\n",
       "      <th></th>\n",
       "      <th></th>\n",
       "    </tr>\n",
       "  </thead>\n",
       "  <tbody>\n",
       "    <tr>\n",
       "      <th>1/3/2000</th>\n",
       "      <td>0.936384</td>\n",
       "      <td>1.004464</td>\n",
       "      <td>0.907924</td>\n",
       "      <td>0.310000</td>\n",
       "      <td>20.770000</td>\n",
       "      <td>3.411051</td>\n",
       "      <td>1.760000</td>\n",
       "      <td>0.999442</td>\n",
       "      <td>0.853355</td>\n",
       "      <td>535796800</td>\n",
       "    </tr>\n",
       "    <tr>\n",
       "      <th>1/4/2000</th>\n",
       "      <td>0.966518</td>\n",
       "      <td>0.987723</td>\n",
       "      <td>0.903460</td>\n",
       "      <td>0.188723</td>\n",
       "      <td>21.050533</td>\n",
       "      <td>2.796146</td>\n",
       "      <td>2.488276</td>\n",
       "      <td>0.915179</td>\n",
       "      <td>0.781409</td>\n",
       "      <td>512377600</td>\n",
       "    </tr>\n",
       "    <tr>\n",
       "      <th>1/5/2000</th>\n",
       "      <td>0.926339</td>\n",
       "      <td>0.987165</td>\n",
       "      <td>0.919643</td>\n",
       "      <td>0.189153</td>\n",
       "      <td>21.045239</td>\n",
       "      <td>2.795518</td>\n",
       "      <td>2.488011</td>\n",
       "      <td>0.928571</td>\n",
       "      <td>0.792844</td>\n",
       "      <td>778321600</td>\n",
       "    </tr>\n",
       "    <tr>\n",
       "      <th>1/6/2000</th>\n",
       "      <td>0.947545</td>\n",
       "      <td>0.955357</td>\n",
       "      <td>0.848214</td>\n",
       "      <td>0.189583</td>\n",
       "      <td>21.039946</td>\n",
       "      <td>2.794891</td>\n",
       "      <td>2.487746</td>\n",
       "      <td>0.848214</td>\n",
       "      <td>0.724232</td>\n",
       "      <td>767972800</td>\n",
       "    </tr>\n",
       "    <tr>\n",
       "      <th>1/7/2000</th>\n",
       "      <td>0.861607</td>\n",
       "      <td>0.901786</td>\n",
       "      <td>0.852679</td>\n",
       "      <td>0.190012</td>\n",
       "      <td>21.034654</td>\n",
       "      <td>2.794264</td>\n",
       "      <td>2.487482</td>\n",
       "      <td>0.888393</td>\n",
       "      <td>0.758538</td>\n",
       "      <td>460734400</td>\n",
       "    </tr>\n",
       "  </tbody>\n",
       "</table>\n",
       "</div>"
      ],
      "text/plain": [
       "              Open      High       Low       eps         pe    InRate  \\\n",
       "Date                                                                    \n",
       "1/3/2000  0.936384  1.004464  0.907924  0.310000  20.770000  3.411051   \n",
       "1/4/2000  0.966518  0.987723  0.903460  0.188723  21.050533  2.796146   \n",
       "1/5/2000  0.926339  0.987165  0.919643  0.189153  21.045239  2.795518   \n",
       "1/6/2000  0.947545  0.955357  0.848214  0.189583  21.039946  2.794891   \n",
       "1/7/2000  0.861607  0.901786  0.852679  0.190012  21.034654  2.794264   \n",
       "\n",
       "           InfRate     Close  Adj Close     Volume  \n",
       "Date                                                \n",
       "1/3/2000  1.760000  0.999442   0.853355  535796800  \n",
       "1/4/2000  2.488276  0.915179   0.781409  512377600  \n",
       "1/5/2000  2.488011  0.928571   0.792844  778321600  \n",
       "1/6/2000  2.487746  0.848214   0.724232  767972800  \n",
       "1/7/2000  2.487482  0.888393   0.758538  460734400  "
      ]
     },
     "execution_count": 10,
     "metadata": {},
     "output_type": "execute_result"
    }
   ],
   "source": [
    "df.head()"
   ]
  },
  {
   "cell_type": "code",
   "execution_count": 11,
   "id": "9a0641cb",
   "metadata": {},
   "outputs": [
    {
     "data": {
      "text/plain": [
       "array([[  0.936384  ,   1.004464  ,   0.907924  , ...,   1.76      ,\n",
       "          0.999442  ,   0.853355  ],\n",
       "       [  0.966518  ,   0.987723  ,   0.90346   , ...,   2.48827564,\n",
       "          0.915179  ,   0.781409  ],\n",
       "       [  0.926339  ,   0.987165  ,   0.919643  , ...,   2.48801088,\n",
       "          0.928571  ,   0.792844  ],\n",
       "       ...,\n",
       "       [179.330002  , 180.630005  , 178.139999  , ...,   1.97776447,\n",
       "        179.380005  , 178.640778  ],\n",
       "       [179.470001  , 180.570007  , 178.089996  , ...,   1.97784473,\n",
       "        178.199997  , 177.465637  ],\n",
       "       [178.089996  , 179.229996  , 177.259995  , ...,   1.97792506,\n",
       "        177.570007  , 176.838242  ]])"
      ]
     },
     "execution_count": 11,
     "metadata": {},
     "output_type": "execute_result"
    }
   ],
   "source": [
    "x = df.iloc[:, 0:9].values\n",
    "x"
   ]
  },
  {
   "cell_type": "code",
   "execution_count": 13,
   "id": "20a5814d",
   "metadata": {},
   "outputs": [
    {
     "data": {
      "text/plain": [
       "array([  0.853355,   0.781409,   0.792844, ..., 178.640778, 177.465637,\n",
       "       176.838242])"
      ]
     },
     "execution_count": 13,
     "metadata": {},
     "output_type": "execute_result"
    }
   ],
   "source": [
    "y = df.iloc[:, 8].values\n",
    "y"
   ]
  },
  {
   "cell_type": "code",
   "execution_count": 20,
   "id": "5711e0c1",
   "metadata": {},
   "outputs": [
    {
     "name": "stdout",
     "output_type": "stream",
     "text": [
      "Feature: 0, Score: 0.00311\n",
      "Feature: 1, Score: 0.00542\n",
      "Feature: 2, Score: 0.00298\n",
      "Feature: 3, Score: 0.00285\n",
      "Feature: 4, Score: 0.52535\n",
      "Feature: 5, Score: 0.42499\n",
      "Feature: 6, Score: 0.02680\n",
      "Feature: 7, Score: 0.00272\n",
      "Feature: 8, Score: 0.00297\n",
      "Feature: 9, Score: 0.00282\n"
     ]
    },
    {
     "data": {
      "image/png": "[encoded data removed]",
      "text/plain": [
       "<Figure size 432x288 with 1 Axes>"
      ]
     },
     "metadata": {
      "needs_background": "light"
     },
     "output_type": "display_data"
    }
   ],
   "source": [
    "from sklearn.datasets import make_regression\n",
    "\n",
    "x, y = make_regression(n_samples=1000, n_features=10, n_informative=5, random_state=1)\n",
    "# define the model\n",
    "model = RandomForestRegressor()\n",
    "# fit the model\n",
    "model.fit(x, y)\n",
    "# get importance\n",
    "importance = model.feature_importances_\n",
    "# summarize feature importance\n",
    "for i,v in enumerate(importance):\n",
    "\tprint('Feature: %0d, Score: %.5f' % (i,v))\n",
    "# plot feature importance\n",
    "pyplot.bar([x for x in range(len(importance))], importance)\n",
    "pyplot.show()"
   ]
  },
  {
   "cell_type": "code",
   "execution_count": null,
   "id": "28b3fdad",
   "metadata": {},
   "outputs": [],
   "source": []
  }
 ],
 "metadata": {
  "kernelspec": {
   "display_name": "Python 3 (ipykernel)",
   "language": "python",
   "name": "python3"
  },
  "language_info": {
   "codemirror_mode": {
    "name": "ipython",
    "version": 3
   },
   "file_extension": ".py",
   "mimetype": "text/x-python",
   "name": "python",
   "nbconvert_exporter": "python",
   "pygments_lexer": "ipython3",
   "version": "3.9.12"
  }
 },
 "nbformat": 4,
 "nbformat_minor": 5
}
