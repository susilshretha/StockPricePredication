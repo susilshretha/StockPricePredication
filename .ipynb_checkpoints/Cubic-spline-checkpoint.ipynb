{
 "cells": [
  {
   "cell_type": "code",
   "execution_count": 2,
   "id": "6fb92316",
   "metadata": {},
   "outputs": [
    {
     "name": "stdout",
     "output_type": "stream",
     "text": [
      "Requirement already satisfied: mmm in c:\\users\\offic\\anaconda3\\lib\\site-packages (0.4.2)\n"
     ]
    },
    {
     "ename": "ModuleNotFoundError",
     "evalue": "No module named 'mmm'",
     "output_type": "error",
     "traceback": [
      "\u001b[1;31m---------------------------------------------------------------------------\u001b[0m",
      "\u001b[1;31mModuleNotFoundError\u001b[0m                       Traceback (most recent call last)",
      "Input \u001b[1;32mIn [2]\u001b[0m, in \u001b[0;36m<cell line: 20>\u001b[1;34m()\u001b[0m\n\u001b[0;32m     18\u001b[0m     \u001b[38;5;28;01mif\u001b[39;00m module_path \u001b[38;5;129;01mnot\u001b[39;00m \u001b[38;5;129;01min\u001b[39;00m sys\u001b[38;5;241m.\u001b[39mpath:\n\u001b[0;32m     19\u001b[0m         sys\u001b[38;5;241m.\u001b[39mpath\u001b[38;5;241m.\u001b[39mappend(module_path)\n\u001b[1;32m---> 20\u001b[0m \u001b[38;5;28;01mimport\u001b[39;00m \u001b[38;5;21;01mmmm\u001b[39;00m\n",
      "\u001b[1;31mModuleNotFoundError\u001b[0m: No module named 'mmm'"
     ]
    }
   ],
   "source": [
    "# import numpy as np \n",
    "# import pandas as pd \n",
    "# from scipy import interpolate\n",
    "# import matplotlib.pyplot as plt\n",
    "# import libaries\n",
    "import pandas as pd\n",
    "from IPython.display import display\n",
    "import sys\n",
    "import os\n",
    "\n",
    "\n",
    "\n",
    "\n",
    "\n",
    "if not os.path.isdir(\"mmm\"):\n",
    "    module_path = os.path.abspath(os.path.join('..'))\n",
    "    if module_path not in sys.path:\n",
    "        sys.path.append(module_path)\n",
    "import mmm\n",
    "\n"
   ]
  },
  {
   "cell_type": "code",
   "execution_count": null,
   "id": "4abb8aba",
   "metadata": {},
   "outputs": [],
   "source": [
    "# def cubicinterpolation():\n",
    "#     x_pts=np.linspace(0, 2*np.pi, 10)\n",
    "#     y_pts=np.sin(x_pts)\n",
    "#     splines=interpolate.splrep(x_pts, y_pts)\n",
    "#     x_vals=np.linspace(0, 2*np.pi, 50)\n",
    "#     y_vals=interpolate.splev(x_vals, splines)\n",
    "#     plt.plot(x_pts, y_pts, 'o')   #plot know data points\n",
    "#     plt.plot(x_vals, y_vals, '-x')  #plot interpolated values\n",
    "\n",
    "# cubicinterpolation()"
   ]
  },
  {
   "cell_type": "code",
   "execution_count": null,
   "id": "f6af49b8",
   "metadata": {},
   "outputs": [],
   "source": [
    "# load monthly data\n",
    "file_name = \"external-inflation.csv\"\n",
    "monthly = pd.read_csv(file_name)\n",
    "monthly.head()"
   ]
  },
  {
   "cell_type": "code",
   "execution_count": null,
   "id": "16ea99f2",
   "metadata": {},
   "outputs": [],
   "source": [
    "monthly['Inflation_rate'].plot();\n"
   ]
  },
  {
   "cell_type": "code",
   "execution_count": null,
   "id": "22948e37",
   "metadata": {},
   "outputs": [],
   "source": [
    "import mmm\n",
    "from mmm.clean import group_weekly\n",
    "\n",
    "# group weekly data\n",
    "weekly = group_weekly(daily, date_col='Date')\n",
    "weekly.plot();\n",
    "weekly.head()"
   ]
  },
  {
   "cell_type": "code",
   "execution_count": null,
   "id": "47abbe8c",
   "metadata": {},
   "outputs": [],
   "source": []
  }
 ],
 "metadata": {
  "kernelspec": {
   "display_name": "Python 3 (ipykernel)",
   "language": "python",
   "name": "python3"
  },
  "language_info": {
   "codemirror_mode": {
    "name": "ipython",
    "version": 3
   },
   "file_extension": ".py",
   "mimetype": "text/x-python",
   "name": "python",
   "nbconvert_exporter": "python",
   "pygments_lexer": "ipython3",
   "version": "3.9.12"
  }
 },
 "nbformat": 4,
 "nbformat_minor": 5
}
