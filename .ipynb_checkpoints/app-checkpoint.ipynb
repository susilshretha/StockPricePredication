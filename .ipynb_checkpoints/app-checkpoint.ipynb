{
 "cells": [
  {
   "cell_type": "code",
   "execution_count": 5,
   "id": "8bcdbd55",
   "metadata": {},
   "outputs": [],
   "source": [
    "\n",
    "#This library is used to initialize the dash application.\n",
    "import dash\n",
    "# This library is used to add graphs,other visual components.\n",
    "import dash_core_components as dcc\n",
    "# This library is used to include html tags.\n",
    "import dash_html_components as html\n",
    "#For data manipulation and mathematical operations.\n",
    "import pandas as pd\n"
   ]
  },
  {
   "cell_type": "code",
   "execution_count": 6,
   "id": "cba8a880",
   "metadata": {},
   "outputs": [],
   "source": [
    "#Reading the csv file.\n",
    "data = pd.read_csv(\"AAPL-Final.csv\")\n",
    "#Manipulating the date.\n",
    "data[\"Date\"] = pd.to_datetime(data[\"Date\"], format=\"%m/%d/%Y\")\n",
    "data.sort_values(\"Date\", inplace=True)\n",
    "#Initialising application.\n",
    "app = dash.Dash(__name__)"
   ]
  },
  {
   "cell_type": "code",
   "execution_count": null,
   "id": "e03570ad",
   "metadata": {},
   "outputs": [],
   "source": [
    "MODEL_PATH = \"detect.h5\"\n",
    "model = load_model(MODEL_PATH)"
   ]
  },
  {
   "cell_type": "code",
   "execution_count": null,
   "id": "a7e949c5",
   "metadata": {},
   "outputs": [],
   "source": []
  },
  {
   "cell_type": "markdown",
   "id": "da53892c",
   "metadata": {},
   "source": [
    "layout of the application "
   ]
  },
  {
   "cell_type": "code",
   "execution_count": null,
   "id": "a80f2bdf",
   "metadata": {},
   "outputs": [],
   "source": [
    "  preds = model.predict(test_arr)"
   ]
  },
  {
   "cell_type": "code",
   "execution_count": null,
   "id": "26af4345",
   "metadata": {},
   "outputs": [],
   "source": []
  },
  {
   "cell_type": "code",
   "execution_count": 13,
   "id": "11642b00",
   "metadata": {},
   "outputs": [],
   "source": [
    "app.layout = html.Div(\n",
    "\n",
    "children=[\n",
    "\n",
    "html.H1(children=\"Stock Exchange Analytics\",),\n",
    "    \n",
    "# html.Button('LSTM MODEL', id='my-button-events-example'),\n",
    "html.P(children=\"Analyzing day wise high and low prices of indexes.\",),\n",
    "    \n",
    "dcc.Graph(\n",
    "figure={\n",
    "\"data\": [\n",
    "{\n",
    "\"x\": data[\"Date\"],\n",
    "\"y\": data[\"High\"],\n",
    "\"type\": \"lines\",\n",
    "},\n",
    "],\n",
    "\"layout\": {\"title\": \"predicted\"},\n",
    "},\n",
    "),\n",
    "    \n",
    "dcc.Graph(\n",
    "figure={\n",
    "\"predicted\": [\n",
    "{\n",
    "\"x\": predicted[\"Date\"],\n",
    "\"y\": predicted[\"Low\"],\n",
    "\"type\": \"lines\",\n",
    "},\n",
    "],\n",
    "    \n",
    "\"layout\": {\"title\": \"Day-wise lowest prices of indexes\"},\n",
    "},\n",
    "),\n",
    "    \n",
    "dcc.Graph(\n",
    "figure={\n",
    "\"data\": [\n",
    "{\n",
    "\"x\": data[\"Date\"],\n",
    "\"y\": data[\"Close\"],\n",
    "\"type\": \"lines\",\n",
    "},\n",
    "],\n",
    "\"layout\": {\"title\": \"Day-wise closing prices of indexes\"},\n",
    "},\n",
    "),\n",
    "    \n",
    "dcc.Graph(\n",
    "figure={\n",
    "\"data\": [\n",
    "{\n",
    "\"x\": data[\"Date\"],\n",
    "\"y\": data[\"Open\"],\n",
    "\"type\": \"lines\",\n",
    "},\n",
    "],\n",
    "\"layout\": {\"title\": \"Day-wise opening prices of indexes\"},\n",
    "},\n",
    "),\n",
    "],\n",
    ")\n",
    "    \n"
   ]
  },
  {
   "cell_type": "markdown",
   "id": "8723cb4c",
   "metadata": {},
   "source": [
    "Call And Run the Application"
   ]
  },
  {
   "cell_type": "code",
   "execution_count": null,
   "id": "6b313347",
   "metadata": {},
   "outputs": [
    {
     "name": "stdout",
     "output_type": "stream",
     "text": [
      "Dash is running on http://127.0.0.1:8050/\n",
      "\n",
      "Dash is running on http://127.0.0.1:8050/\n",
      "\n",
      " * Serving Flask app \"__main__\" (lazy loading)\n",
      " * Environment: production\n",
      "\u001b[31m   WARNING: This is a development server. Do not use it in a production deployment.\u001b[0m\n",
      "\u001b[2m   Use a production WSGI server instead.\u001b[0m\n",
      " * Debug mode: off\n"
     ]
    },
    {
     "name": "stderr",
     "output_type": "stream",
     "text": [
      " * Running on http://127.0.0.1:8050/ (Press CTRL+C to quit)\n",
      "127.0.0.1 - - [19/Sep/2022 16:30:46] \"GET / HTTP/1.1\" 200 -\n",
      "127.0.0.1 - - [19/Sep/2022 16:30:47] \"GET /_dash-dependencies HTTP/1.1\" 200 -\n",
      "127.0.0.1 - - [19/Sep/2022 16:30:47] \"GET /_favicon.ico?v=2.6.1 HTTP/1.1\" 200 -\n",
      "127.0.0.1 - - [19/Sep/2022 16:30:47] \"GET /_dash-layout HTTP/1.1\" 200 -\n",
      "127.0.0.1 - - [19/Sep/2022 16:30:47] \"GET /_dash-component-suites/dash/dcc/async-graph.js HTTP/1.1\" 200 -\n",
      "127.0.0.1 - - [19/Sep/2022 16:30:47] \"GET /_dash-component-suites/dash/dcc/async-plotlyjs.js HTTP/1.1\" 200 -\n"
     ]
    }
   ],
   "source": [
    "if __name__ == \"__main__\":\n",
    "    app.run_server()"
   ]
  },
  {
   "cell_type": "code",
   "execution_count": null,
   "id": "d9129452",
   "metadata": {},
   "outputs": [],
   "source": [
    "# app.layout = html.Div(\n",
    "#     children=[\n",
    "#         html.H1(children=\"Stock Exchange Analytics\",),\n",
    "#         html.P(\n",
    "#             children=\"Analyzing day wise opening and closing prices of indexes.\",\n",
    "#         ),\n",
    "#         html.Div(\n",
    "#             children=[\n",
    "#                 html.Div(\n",
    "#                     children=\"Date Range\",\n",
    "#                     className=\"menu-title\"\n",
    "#                     ),\n",
    "#                 dcc.DatePickerRange(\n",
    "#                     id=\"date-range\",\n",
    "#                     min_date_allowed=data.Date.min().date(),\n",
    "#                     max_date_allowed=data.Date.max().date(),\n",
    "#                     start_date=data.Date.min().date(),\n",
    "#                     end_date=data.Date.max().date(),\n",
    "#                 ),\n",
    "#             ]\n",
    "#         ),"
   ]
  },
  {
   "cell_type": "code",
   "execution_count": null,
   "id": "64aab2da",
   "metadata": {},
   "outputs": [],
   "source": []
  }
 ],
 "metadata": {
  "kernelspec": {
   "display_name": "Python 3 (ipykernel)",
   "language": "python",
   "name": "python3"
  },
  "language_info": {
   "codemirror_mode": {
    "name": "ipython",
    "version": 3
   },
   "file_extension": ".py",
   "mimetype": "text/x-python",
   "name": "python",
   "nbconvert_exporter": "python",
   "pygments_lexer": "ipython3",
   "version": "3.9.12"
  }
 },
 "nbformat": 4,
 "nbformat_minor": 5
}
