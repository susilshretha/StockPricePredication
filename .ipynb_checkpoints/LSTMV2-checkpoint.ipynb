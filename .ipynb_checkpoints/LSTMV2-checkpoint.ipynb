{
 "cells": [
  {
   "cell_type": "code",
   "execution_count": 1,
   "metadata": {
    "executionInfo": {
     "elapsed": 3142,
     "status": "ok",
     "timestamp": 1662651722816,
     "user": {
      "displayName": "Abhiyantraka",
      "userId": "08575671547903053425"
     },
     "user_tz": -345
    },
    "id": "ua4lzqY-nbV5"
   },
   "outputs": [],
   "source": [
    "import pandas as pd\n",
    "import numpy as np\n",
    "import matplotlib.pyplot as plt\n",
    "%matplotlib inline\n",
    "from sklearn.preprocessing import MinMaxScaler\n",
    "import tensorflow as tf\n",
    "\n",
    "#from tensorflow.keras.models import sequential, load_model \n",
    "#from tensorflow.keras.layers import LSTM, Dense, Dropout\n",
    "\n",
    "import os\n",
    "import keras\n",
    "import tensorflow as tf\n",
    "tf.version\n",
    "\n",
    "\n",
    "\n",
    "import datetime as dt\n"
   ]
  },
  {
   "cell_type": "code",
   "execution_count": 2,
   "metadata": {
    "colab": {
     "base_uri": "https://localhost:8080/",
     "height": 206
    },
    "executionInfo": {
     "elapsed": 1699,
     "status": "ok",
     "timestamp": 1662651724499,
     "user": {
      "displayName": "Abhiyantraka",
      "userId": "08575671547903053425"
     },
     "user_tz": -345
    },
    "id": "ln0FVRoUndp4",
    "outputId": "299f8316-372c-409d-c693-4a79906290b8"
   },
   "outputs": [
    {
     "data": {
      "text/html": [
       "<div>\n",
       "<style scoped>\n",
       "    .dataframe tbody tr th:only-of-type {\n",
       "        vertical-align: middle;\n",
       "    }\n",
       "\n",
       "    .dataframe tbody tr th {\n",
       "        vertical-align: top;\n",
       "    }\n",
       "\n",
       "    .dataframe thead th {\n",
       "        text-align: right;\n",
       "    }\n",
       "</style>\n",
       "<table border=\"1\" class=\"dataframe\">\n",
       "  <thead>\n",
       "    <tr style=\"text-align: right;\">\n",
       "      <th></th>\n",
       "      <th>Date</th>\n",
       "      <th>Open</th>\n",
       "      <th>High</th>\n",
       "      <th>Low</th>\n",
       "      <th>eps</th>\n",
       "      <th>pe</th>\n",
       "      <th>InRate</th>\n",
       "      <th>InfRate</th>\n",
       "      <th>Close</th>\n",
       "      <th>Adj Close</th>\n",
       "      <th>Volume</th>\n",
       "    </tr>\n",
       "  </thead>\n",
       "  <tbody>\n",
       "    <tr>\n",
       "      <th>0</th>\n",
       "      <td>1/3/2000</td>\n",
       "      <td>0.936384</td>\n",
       "      <td>1.004464</td>\n",
       "      <td>0.907924</td>\n",
       "      <td>0.310000</td>\n",
       "      <td>20.770000</td>\n",
       "      <td>3.411051</td>\n",
       "      <td>1.760000</td>\n",
       "      <td>0.999442</td>\n",
       "      <td>0.853355</td>\n",
       "      <td>535796800</td>\n",
       "    </tr>\n",
       "    <tr>\n",
       "      <th>1</th>\n",
       "      <td>1/4/2000</td>\n",
       "      <td>0.966518</td>\n",
       "      <td>0.987723</td>\n",
       "      <td>0.903460</td>\n",
       "      <td>0.188723</td>\n",
       "      <td>21.050533</td>\n",
       "      <td>2.796146</td>\n",
       "      <td>2.488276</td>\n",
       "      <td>0.915179</td>\n",
       "      <td>0.781409</td>\n",
       "      <td>512377600</td>\n",
       "    </tr>\n",
       "    <tr>\n",
       "      <th>2</th>\n",
       "      <td>1/5/2000</td>\n",
       "      <td>0.926339</td>\n",
       "      <td>0.987165</td>\n",
       "      <td>0.919643</td>\n",
       "      <td>0.189153</td>\n",
       "      <td>21.045239</td>\n",
       "      <td>2.795518</td>\n",
       "      <td>2.488011</td>\n",
       "      <td>0.928571</td>\n",
       "      <td>0.792844</td>\n",
       "      <td>778321600</td>\n",
       "    </tr>\n",
       "    <tr>\n",
       "      <th>3</th>\n",
       "      <td>1/6/2000</td>\n",
       "      <td>0.947545</td>\n",
       "      <td>0.955357</td>\n",
       "      <td>0.848214</td>\n",
       "      <td>0.189583</td>\n",
       "      <td>21.039946</td>\n",
       "      <td>2.794891</td>\n",
       "      <td>2.487746</td>\n",
       "      <td>0.848214</td>\n",
       "      <td>0.724232</td>\n",
       "      <td>767972800</td>\n",
       "    </tr>\n",
       "    <tr>\n",
       "      <th>4</th>\n",
       "      <td>1/7/2000</td>\n",
       "      <td>0.861607</td>\n",
       "      <td>0.901786</td>\n",
       "      <td>0.852679</td>\n",
       "      <td>0.190012</td>\n",
       "      <td>21.034654</td>\n",
       "      <td>2.794264</td>\n",
       "      <td>2.487482</td>\n",
       "      <td>0.888393</td>\n",
       "      <td>0.758538</td>\n",
       "      <td>460734400</td>\n",
       "    </tr>\n",
       "  </tbody>\n",
       "</table>\n",
       "</div>"
      ],
      "text/plain": [
       "       Date      Open      High       Low       eps         pe    InRate  \\\n",
       "0  1/3/2000  0.936384  1.004464  0.907924  0.310000  20.770000  3.411051   \n",
       "1  1/4/2000  0.966518  0.987723  0.903460  0.188723  21.050533  2.796146   \n",
       "2  1/5/2000  0.926339  0.987165  0.919643  0.189153  21.045239  2.795518   \n",
       "3  1/6/2000  0.947545  0.955357  0.848214  0.189583  21.039946  2.794891   \n",
       "4  1/7/2000  0.861607  0.901786  0.852679  0.190012  21.034654  2.794264   \n",
       "\n",
       "    InfRate     Close  Adj Close     Volume  \n",
       "0  1.760000  0.999442   0.853355  535796800  \n",
       "1  2.488276  0.915179   0.781409  512377600  \n",
       "2  2.488011  0.928571   0.792844  778321600  \n",
       "3  2.487746  0.848214   0.724232  767972800  \n",
       "4  2.487482  0.888393   0.758538  460734400  "
      ]
     },
     "execution_count": 2,
     "metadata": {},
     "output_type": "execute_result"
    }
   ],
   "source": [
    "df = pd.read_csv('AAPL-Final.csv')\n",
    "df.head()"
   ]
  },
  {
   "cell_type": "code",
   "execution_count": 3,
   "metadata": {
    "colab": {
     "base_uri": "https://localhost:8080/",
     "height": 206
    },
    "executionInfo": {
     "elapsed": 115,
     "status": "ok",
     "timestamp": 1662651724504,
     "user": {
      "displayName": "Abhiyantraka",
      "userId": "08575671547903053425"
     },
     "user_tz": -345
    },
    "id": "FsBe2k28ntb3",
    "outputId": "a0e72c38-b5e1-4685-ad93-e76285f2e7e3"
   },
   "outputs": [
    {
     "data": {
      "text/html": [
       "<div>\n",
       "<style scoped>\n",
       "    .dataframe tbody tr th:only-of-type {\n",
       "        vertical-align: middle;\n",
       "    }\n",
       "\n",
       "    .dataframe tbody tr th {\n",
       "        vertical-align: top;\n",
       "    }\n",
       "\n",
       "    .dataframe thead th {\n",
       "        text-align: right;\n",
       "    }\n",
       "</style>\n",
       "<table border=\"1\" class=\"dataframe\">\n",
       "  <thead>\n",
       "    <tr style=\"text-align: right;\">\n",
       "      <th></th>\n",
       "      <th>Date</th>\n",
       "      <th>Open</th>\n",
       "      <th>High</th>\n",
       "      <th>Low</th>\n",
       "      <th>eps</th>\n",
       "      <th>pe</th>\n",
       "      <th>InRate</th>\n",
       "      <th>InfRate</th>\n",
       "      <th>Close</th>\n",
       "      <th>Adj Close</th>\n",
       "      <th>Volume</th>\n",
       "    </tr>\n",
       "  </thead>\n",
       "  <tbody>\n",
       "    <tr>\n",
       "      <th>5531</th>\n",
       "      <td>12/27/2021</td>\n",
       "      <td>177.089996</td>\n",
       "      <td>180.419998</td>\n",
       "      <td>177.070007</td>\n",
       "      <td>1.582562</td>\n",
       "      <td>10.786384</td>\n",
       "      <td>0.520334</td>\n",
       "      <td>1.977604</td>\n",
       "      <td>180.330002</td>\n",
       "      <td>179.586868</td>\n",
       "      <td>74919600</td>\n",
       "    </tr>\n",
       "    <tr>\n",
       "      <th>5532</th>\n",
       "      <td>12/28/2021</td>\n",
       "      <td>180.160004</td>\n",
       "      <td>181.330002</td>\n",
       "      <td>178.529999</td>\n",
       "      <td>1.582636</td>\n",
       "      <td>10.787788</td>\n",
       "      <td>0.520138</td>\n",
       "      <td>1.977684</td>\n",
       "      <td>179.289993</td>\n",
       "      <td>178.551132</td>\n",
       "      <td>79144300</td>\n",
       "    </tr>\n",
       "    <tr>\n",
       "      <th>5533</th>\n",
       "      <td>12/29/2021</td>\n",
       "      <td>179.330002</td>\n",
       "      <td>180.630005</td>\n",
       "      <td>178.139999</td>\n",
       "      <td>1.582711</td>\n",
       "      <td>10.789193</td>\n",
       "      <td>0.519943</td>\n",
       "      <td>1.977764</td>\n",
       "      <td>179.380005</td>\n",
       "      <td>178.640778</td>\n",
       "      <td>62348900</td>\n",
       "    </tr>\n",
       "    <tr>\n",
       "      <th>5534</th>\n",
       "      <td>12/30/2021</td>\n",
       "      <td>179.470001</td>\n",
       "      <td>180.570007</td>\n",
       "      <td>178.089996</td>\n",
       "      <td>1.582785</td>\n",
       "      <td>10.790599</td>\n",
       "      <td>0.519747</td>\n",
       "      <td>1.977845</td>\n",
       "      <td>178.199997</td>\n",
       "      <td>177.465637</td>\n",
       "      <td>59773000</td>\n",
       "    </tr>\n",
       "    <tr>\n",
       "      <th>5535</th>\n",
       "      <td>12/31/2021</td>\n",
       "      <td>178.089996</td>\n",
       "      <td>179.229996</td>\n",
       "      <td>177.259995</td>\n",
       "      <td>1.582859</td>\n",
       "      <td>10.792005</td>\n",
       "      <td>0.519552</td>\n",
       "      <td>1.977925</td>\n",
       "      <td>177.570007</td>\n",
       "      <td>176.838242</td>\n",
       "      <td>64062300</td>\n",
       "    </tr>\n",
       "  </tbody>\n",
       "</table>\n",
       "</div>"
      ],
      "text/plain": [
       "            Date        Open        High         Low       eps         pe  \\\n",
       "5531  12/27/2021  177.089996  180.419998  177.070007  1.582562  10.786384   \n",
       "5532  12/28/2021  180.160004  181.330002  178.529999  1.582636  10.787788   \n",
       "5533  12/29/2021  179.330002  180.630005  178.139999  1.582711  10.789193   \n",
       "5534  12/30/2021  179.470001  180.570007  178.089996  1.582785  10.790599   \n",
       "5535  12/31/2021  178.089996  179.229996  177.259995  1.582859  10.792005   \n",
       "\n",
       "        InRate   InfRate       Close   Adj Close    Volume  \n",
       "5531  0.520334  1.977604  180.330002  179.586868  74919600  \n",
       "5532  0.520138  1.977684  179.289993  178.551132  79144300  \n",
       "5533  0.519943  1.977764  179.380005  178.640778  62348900  \n",
       "5534  0.519747  1.977845  178.199997  177.465637  59773000  \n",
       "5535  0.519552  1.977925  177.570007  176.838242  64062300  "
      ]
     },
     "execution_count": 3,
     "metadata": {},
     "output_type": "execute_result"
    }
   ],
   "source": [
    "df.tail()"
   ]
  },
  {
   "cell_type": "code",
   "execution_count": 4,
   "metadata": {
    "colab": {
     "base_uri": "https://localhost:8080/"
    },
    "executionInfo": {
     "elapsed": 112,
     "status": "ok",
     "timestamp": 1662651724506,
     "user": {
      "displayName": "Abhiyantraka",
      "userId": "08575671547903053425"
     },
     "user_tz": -345
    },
    "id": "igCi71fwnyxj",
    "outputId": "1a8a1f6c-1c35-41b3-f156-74e3874226c1"
   },
   "outputs": [
    {
     "data": {
      "text/plain": [
       "0         0.999442\n",
       "1         0.915179\n",
       "2         0.928571\n",
       "3         0.848214\n",
       "4         0.888393\n",
       "           ...    \n",
       "5531    180.330002\n",
       "5532    179.289993\n",
       "5533    179.380005\n",
       "5534    178.199997\n",
       "5535    177.570007\n",
       "Name: Close, Length: 5536, dtype: float64"
      ]
     },
     "execution_count": 4,
     "metadata": {},
     "output_type": "execute_result"
    }
   ],
   "source": [
    "df1=df.reset_index()['Close']\n",
    "df1"
   ]
  },
  {
   "cell_type": "code",
   "execution_count": 5,
   "metadata": {
    "colab": {
     "base_uri": "https://localhost:8080/",
     "height": 282
    },
    "executionInfo": {
     "elapsed": 99,
     "status": "ok",
     "timestamp": 1662651724508,
     "user": {
      "displayName": "Abhiyantraka",
      "userId": "08575671547903053425"
     },
     "user_tz": -345
    },
    "id": "WuV1FMeAocr-",
    "outputId": "40d6a0f1-8d70-4dce-b08d-9db0e45802a9"
   },
   "outputs": [
    {
     "data": {
      "text/plain": [
       "[<matplotlib.lines.Line2D at 0x25310f0a0d0>]"
      ]
     },
     "execution_count": 5,
     "metadata": {},
     "output_type": "execute_result"
    },
    {
     "data": {
      "image/png": "[encoded data removed]",
      "text/plain": [
       "<Figure size 432x288 with 1 Axes>"
      ]
     },
     "metadata": {
      "needs_background": "light"
     },
     "output_type": "display_data"
    }
   ],
   "source": [
    "plt.plot(df1)\n"
   ]
  },
  {
   "cell_type": "markdown",
   "metadata": {
    "id": "pDk-q6Tqpy_2"
   },
   "source": [
    "**Scaling the dataset**"
   ]
  },
  {
   "cell_type": "code",
   "execution_count": 6,
   "metadata": {
    "executionInfo": {
     "elapsed": 86,
     "status": "ok",
     "timestamp": 1662651724511,
     "user": {
      "displayName": "Abhiyantraka",
      "userId": "08575671547903053425"
     },
     "user_tz": -345
    },
    "id": "1MKTVcxyp21u"
   },
   "outputs": [],
   "source": [
    "from sklearn.preprocessing import MinMaxScaler\n",
    "scaler=MinMaxScaler(feature_range=(0,1))\n",
    "df1=scaler.fit_transform(np.array(df1).reshape(-1,1))"
   ]
  },
  {
   "cell_type": "code",
   "execution_count": 7,
   "metadata": {
    "colab": {
     "base_uri": "https://localhost:8080/"
    },
    "executionInfo": {
     "elapsed": 84,
     "status": "ok",
     "timestamp": 1662651724512,
     "user": {
      "displayName": "Abhiyantraka",
      "userId": "08575671547903053425"
     },
     "user_tz": -345
    },
    "id": "vKOF4Hw0p8MG",
    "outputId": "494172d9-357a-4f6d-b00a-6ce20bfc1bd3"
   },
   "outputs": [
    {
     "data": {
      "text/plain": [
       "array([[0.00424861],\n",
       "       [0.00378073],\n",
       "       [0.00385509],\n",
       "       ...,\n",
       "       [0.99472504],\n",
       "       [0.98817293],\n",
       "       [0.98467484]])"
      ]
     },
     "execution_count": 7,
     "metadata": {},
     "output_type": "execute_result"
    }
   ],
   "source": [
    "df1"
   ]
  },
  {
   "cell_type": "markdown",
   "metadata": {
    "id": "KfaEWOPoq24M"
   },
   "source": [
    "Splitting dataset into train and test split"
   ]
  },
  {
   "cell_type": "code",
   "execution_count": 8,
   "metadata": {
    "executionInfo": {
     "elapsed": 76,
     "status": "ok",
     "timestamp": 1662651724513,
     "user": {
      "displayName": "Abhiyantraka",
      "userId": "08575671547903053425"
     },
     "user_tz": -345
    },
    "id": "hMynHD_BrMBP"
   },
   "outputs": [],
   "source": [
    "training_size=int(len(df1)*0.8)\n",
    "test_size=len(df1)-training_size\n"
   ]
  },
  {
   "cell_type": "code",
   "execution_count": 9,
   "metadata": {
    "colab": {
     "base_uri": "https://localhost:8080/"
    },
    "executionInfo": {
     "elapsed": 76,
     "status": "ok",
     "timestamp": 1662651724515,
     "user": {
      "displayName": "Abhiyantraka",
      "userId": "08575671547903053425"
     },
     "user_tz": -345
    },
    "id": "enZJ0o4zq55_",
    "outputId": "5d289587-2ad2-4886-d29c-793d9711f191"
   },
   "outputs": [
    {
     "data": {
      "text/plain": [
       "(4428, 1108)"
      ]
     },
     "execution_count": 9,
     "metadata": {},
     "output_type": "execute_result"
    }
   ],
   "source": [
    "training_size, test_size\n"
   ]
  },
  {
   "cell_type": "code",
   "execution_count": 10,
   "metadata": {
    "executionInfo": {
     "elapsed": 70,
     "status": "ok",
     "timestamp": 1662651724516,
     "user": {
      "displayName": "Abhiyantraka",
      "userId": "08575671547903053425"
     },
     "user_tz": -345
    },
    "id": "F9l5z6-RwcNM"
   },
   "outputs": [],
   "source": [
    "train_data,test_data=df1[0:training_size,:],df1[training_size:len(df1),:1]\n"
   ]
  },
  {
   "cell_type": "code",
   "execution_count": 11,
   "metadata": {
    "colab": {
     "base_uri": "https://localhost:8080/"
    },
    "executionInfo": {
     "elapsed": 72,
     "status": "ok",
     "timestamp": 1662651724520,
     "user": {
      "displayName": "Abhiyantraka",
      "userId": "08575671547903053425"
     },
     "user_tz": -345
    },
    "id": "rq2jbSt0wMTQ",
    "outputId": "f62ac9f5-2e8e-4214-daf3-fb2fdc064aad"
   },
   "outputs": [
    {
     "data": {
      "text/plain": [
       "4428"
      ]
     },
     "execution_count": 11,
     "metadata": {},
     "output_type": "execute_result"
    }
   ],
   "source": [
    "train_data\n",
    "len(train_data)"
   ]
  },
  {
   "cell_type": "code",
   "execution_count": 12,
   "metadata": {
    "colab": {
     "base_uri": "https://localhost:8080/"
    },
    "executionInfo": {
     "elapsed": 64,
     "status": "ok",
     "timestamp": 1662651724521,
     "user": {
      "displayName": "Abhiyantraka",
      "userId": "08575671547903053425"
     },
     "user_tz": -345
    },
    "id": "s02Vfwbbwp8c",
    "outputId": "f81aed94-6d01-499f-b501-ea15bb1a7b73"
   },
   "outputs": [
    {
     "data": {
      "text/plain": [
       "1108"
      ]
     },
     "execution_count": 12,
     "metadata": {},
     "output_type": "execute_result"
    }
   ],
   "source": [
    "test_data\n",
    "len(test_data)\n"
   ]
  },
  {
   "cell_type": "code",
   "execution_count": 13,
   "metadata": {
    "executionInfo": {
     "elapsed": 57,
     "status": "ok",
     "timestamp": 1662651724522,
     "user": {
      "displayName": "Abhiyantraka",
      "userId": "08575671547903053425"
     },
     "user_tz": -345
    },
    "id": "q4cRbXVZws6w"
   },
   "outputs": [],
   "source": [
    "# convert an array of values into a dataset matrix\n",
    "def create_dataset(dataset, time_step=1):\n",
    "\tdataX, dataY = [], []\n",
    "\tfor i in range(len(dataset)-time_step-1):\n",
    "\t\ta = dataset[i:(i+time_step), 0]   ###i=0, 0,1,2,3-----99   100 \n",
    "\t\tdataX.append(a)\n",
    "\t\tdataY.append(dataset[i + time_step, 0])\n",
    "\treturn np.array(dataX), np.array(dataY)"
   ]
  },
  {
   "cell_type": "code",
   "execution_count": 14,
   "metadata": {
    "executionInfo": {
     "elapsed": 664,
     "status": "ok",
     "timestamp": 1662651725131,
     "user": {
      "displayName": "Abhiyantraka",
      "userId": "08575671547903053425"
     },
     "user_tz": -345
    },
    "id": "y4WiC4GD-iJ9"
   },
   "outputs": [],
   "source": [
    "# reshape into X=t,t+1,t+2,t+3 and Y=t+4\n",
    "time_step = 100\n",
    "X_train, y_train = create_dataset(train_data, time_step)\n",
    "X_test, ytest = create_dataset(test_data, time_step)"
   ]
  },
  {
   "cell_type": "code",
   "execution_count": 15,
   "metadata": {
    "colab": {
     "base_uri": "https://localhost:8080/"
    },
    "executionInfo": {
     "elapsed": 47,
     "status": "ok",
     "timestamp": 1662651725133,
     "user": {
      "displayName": "Abhiyantraka",
      "userId": "08575671547903053425"
     },
     "user_tz": -345
    },
    "id": "ZSbm96eGFdJS",
    "outputId": "f73f23ab-0b57-4a12-8c47-baa98485d673"
   },
   "outputs": [
    {
     "name": "stdout",
     "output_type": "stream",
     "text": [
      "(4327, 100)\n",
      "(4327,)\n"
     ]
    },
    {
     "data": {
      "text/plain": [
       "(None, None)"
      ]
     },
     "execution_count": 15,
     "metadata": {},
     "output_type": "execute_result"
    }
   ],
   "source": [
    "print(X_train.shape), print(y_train.shape)\n"
   ]
  },
  {
   "cell_type": "code",
   "execution_count": 16,
   "metadata": {
    "colab": {
     "base_uri": "https://localhost:8080/"
    },
    "executionInfo": {
     "elapsed": 45,
     "status": "ok",
     "timestamp": 1662651725138,
     "user": {
      "displayName": "Abhiyantraka",
      "userId": "08575671547903053425"
     },
     "user_tz": -345
    },
    "id": "gi-xpYJ2Fm7p",
    "outputId": "c95e387e-b80a-4bac-ed92-3c3d413584c8"
   },
   "outputs": [
    {
     "name": "stdout",
     "output_type": "stream",
     "text": [
      "(1007, 100)\n",
      "(1007,)\n"
     ]
    },
    {
     "data": {
      "text/plain": [
       "(None, None)"
      ]
     },
     "execution_count": 16,
     "metadata": {},
     "output_type": "execute_result"
    }
   ],
   "source": [
    "print(X_test.shape), print(ytest.shape)\n"
   ]
  },
  {
   "cell_type": "code",
   "execution_count": 17,
   "metadata": {
    "executionInfo": {
     "elapsed": 34,
     "status": "ok",
     "timestamp": 1662651725140,
     "user": {
      "displayName": "Abhiyantraka",
      "userId": "08575671547903053425"
     },
     "user_tz": -345
    },
    "id": "qnd6XTPDFpdT"
   },
   "outputs": [],
   "source": [
    "# reshape input to be [samples, time steps, features] \n",
    "X_train =X_train.reshape(X_train.shape[0],X_train.shape[1] , 1)   #shape[0]=4327, shape[1]=100 \n",
    "X_test = X_test.reshape(X_test.shape[0],X_test.shape[1] , 1)"
   ]
  },
  {
   "cell_type": "markdown",
   "metadata": {
    "id": "Czyytf1FHzV7"
   },
   "source": [
    "**Create LSTM model**"
   ]
  },
  {
   "cell_type": "code",
   "execution_count": 18,
   "metadata": {
    "executionInfo": {
     "elapsed": 33,
     "status": "ok",
     "timestamp": 1662651725141,
     "user": {
      "displayName": "Abhiyantraka",
      "userId": "08575671547903053425"
     },
     "user_tz": -345
    },
    "id": "pj7Q2kFTH3GD"
   },
   "outputs": [],
   "source": [
    "from tensorflow.keras.models import Sequential\n",
    "from tensorflow.keras.layers import Dense\n",
    "from tensorflow.keras.layers import LSTM"
   ]
  },
  {
   "cell_type": "code",
   "execution_count": 19,
   "metadata": {
    "executionInfo": {
     "elapsed": 3880,
     "status": "ok",
     "timestamp": 1662651728990,
     "user": {
      "displayName": "Abhiyantraka",
      "userId": "08575671547903053425"
     },
     "user_tz": -345
    },
    "id": "4rWvFrjIwGoe"
   },
   "outputs": [],
   "source": [
    "#Creating LSTM model\n",
    "#model = Sequential()\n",
    "#model.add(LSTM(units=96, return_sequences=True, input_shape=(x_train.shape[1], 1)))\n",
    "#model.add(Dropout(0.2))\n",
    "#model.add(LSTM(units=96, return_sequences=True))\n",
    "#model.add(Dropout(0.2))\n",
    "#model.add(LSTM(units=96))\n",
    "#model.add(Dropout(0.2))\n",
    "#model.add(Dense(units=1))\n",
    "\n",
    "#model = keras.Sequential()\n",
    "#model.add(keras.layers.LSTM(units=192, input_shape=(x_train.shape[1], 1)))\n",
    "#model.add(keras.layers.Dropout(0.2))\n",
    "#model.add(keras.layers.Dense(1))\n",
    "\n",
    "\n",
    "\n",
    "\n",
    "\n",
    "model=Sequential()\n",
    "model.add(LSTM(50,return_sequences=True,input_shape=(100,1)))  # input_shape= (x_train.shape[1], 1)\n",
    "model.add(LSTM(50,return_sequences=True))\n",
    "model.add(LSTM(50))\n",
    "model.add(Dense(1))\n",
    "model.compile(loss='mean_squared_error',optimizer='adam')"
   ]
  },
  {
   "cell_type": "code",
   "execution_count": 20,
   "metadata": {
    "colab": {
     "base_uri": "https://localhost:8080/"
    },
    "executionInfo": {
     "elapsed": 83,
     "status": "ok",
     "timestamp": 1662651728992,
     "user": {
      "displayName": "Abhiyantraka",
      "userId": "08575671547903053425"
     },
     "user_tz": -345
    },
    "id": "_ozj71JYp89f",
    "outputId": "fea5f840-abe5-48b7-943f-62258bf80c67"
   },
   "outputs": [
    {
     "name": "stdout",
     "output_type": "stream",
     "text": [
      "Model: \"sequential\"\n",
      "_________________________________________________________________\n",
      " Layer (type)                Output Shape              Param #   \n",
      "=================================================================\n",
      " lstm (LSTM)                 (None, 100, 50)           10400     \n",
      "                                                                 \n",
      " lstm_1 (LSTM)               (None, 100, 50)           20200     \n",
      "                                                                 \n",
      " lstm_2 (LSTM)               (None, 50)                20200     \n",
      "                                                                 \n",
      " dense (Dense)               (None, 1)                 51        \n",
      "                                                                 \n",
      "=================================================================\n",
      "Total params: 50,851\n",
      "Trainable params: 50,851\n",
      "Non-trainable params: 0\n",
      "_________________________________________________________________\n"
     ]
    }
   ],
   "source": [
    "model.summary()"
   ]
  },
  {
   "cell_type": "code",
   "execution_count": 21,
   "metadata": {
    "colab": {
     "base_uri": "https://localhost:8080/"
    },
    "executionInfo": {
     "elapsed": 146397,
     "status": "ok",
     "timestamp": 1662651875326,
     "user": {
      "displayName": "Abhiyantraka",
      "userId": "08575671547903053425"
     },
     "user_tz": -345
    },
    "id": "TPoWhhxkosej",
    "outputId": "23339731-c461-44dc-eeb5-7db197c0cd77"
   },
   "outputs": [
    {
     "name": "stdout",
     "output_type": "stream",
     "text": [
      "Epoch 1/100\n",
      "68/68 [==============================] - 37s 352ms/step - loss: 5.3653e-04 - val_loss: 0.0068\n",
      "Epoch 2/100\n",
      "68/68 [==============================] - 19s 283ms/step - loss: 1.7857e-05 - val_loss: 0.0053\n",
      "Epoch 3/100\n",
      "68/68 [==============================] - 20s 289ms/step - loss: 1.6815e-05 - val_loss: 0.0054\n",
      "Epoch 4/100\n",
      "68/68 [==============================] - 19s 287ms/step - loss: 1.6634e-05 - val_loss: 0.0045\n",
      "Epoch 5/100\n",
      "68/68 [==============================] - 19s 281ms/step - loss: 1.6157e-05 - val_loss: 0.0046\n",
      "Epoch 6/100\n",
      "68/68 [==============================] - 19s 280ms/step - loss: 1.6317e-05 - val_loss: 0.0041\n",
      "Epoch 7/100\n",
      "68/68 [==============================] - 19s 280ms/step - loss: 1.4891e-05 - val_loss: 0.0030\n",
      "Epoch 8/100\n",
      "68/68 [==============================] - 18s 270ms/step - loss: 1.5454e-05 - val_loss: 0.0035\n",
      "Epoch 9/100\n",
      "68/68 [==============================] - 22s 319ms/step - loss: 1.2569e-05 - val_loss: 0.0030\n",
      "Epoch 10/100\n",
      "68/68 [==============================] - 27s 397ms/step - loss: 1.3172e-05 - val_loss: 0.0023\n",
      "Epoch 11/100\n",
      "68/68 [==============================] - 15s 225ms/step - loss: 1.4039e-05 - val_loss: 0.0020\n",
      "Epoch 12/100\n",
      "68/68 [==============================] - 18s 260ms/step - loss: 1.2608e-05 - val_loss: 0.0020\n",
      "Epoch 13/100\n",
      "68/68 [==============================] - 15s 227ms/step - loss: 1.2322e-05 - val_loss: 0.0019\n",
      "Epoch 14/100\n",
      "68/68 [==============================] - 13s 186ms/step - loss: 1.1112e-05 - val_loss: 0.0020\n",
      "Epoch 15/100\n",
      "68/68 [==============================] - 12s 183ms/step - loss: 1.1800e-05 - val_loss: 0.0017\n",
      "Epoch 16/100\n",
      "68/68 [==============================] - 13s 188ms/step - loss: 1.0124e-05 - val_loss: 0.0018\n",
      "Epoch 17/100\n",
      "68/68 [==============================] - 12s 183ms/step - loss: 1.0170e-05 - val_loss: 0.0017\n",
      "Epoch 18/100\n",
      "68/68 [==============================] - 13s 194ms/step - loss: 1.0433e-05 - val_loss: 0.0012\n",
      "Epoch 19/100\n",
      "68/68 [==============================] - 14s 201ms/step - loss: 1.2450e-05 - val_loss: 0.0021\n",
      "Epoch 20/100\n",
      "68/68 [==============================] - 14s 209ms/step - loss: 1.0448e-05 - val_loss: 0.0023\n",
      "Epoch 21/100\n",
      "68/68 [==============================] - 14s 211ms/step - loss: 9.7671e-06 - val_loss: 0.0016\n",
      "Epoch 22/100\n",
      "68/68 [==============================] - 13s 197ms/step - loss: 9.7754e-06 - val_loss: 0.0011\n",
      "Epoch 23/100\n",
      "68/68 [==============================] - 12s 181ms/step - loss: 9.8709e-06 - val_loss: 0.0014\n",
      "Epoch 24/100\n",
      "68/68 [==============================] - 13s 187ms/step - loss: 8.2648e-06 - val_loss: 7.3761e-04\n",
      "Epoch 25/100\n",
      "68/68 [==============================] - 14s 211ms/step - loss: 9.3976e-06 - val_loss: 0.0013\n",
      "Epoch 26/100\n",
      "68/68 [==============================] - 13s 190ms/step - loss: 9.3367e-06 - val_loss: 0.0010\n",
      "Epoch 27/100\n",
      "68/68 [==============================] - 12s 180ms/step - loss: 7.9416e-06 - val_loss: 0.0014\n",
      "Epoch 28/100\n",
      "68/68 [==============================] - 12s 182ms/step - loss: 8.8049e-06 - val_loss: 8.9464e-04\n",
      "Epoch 29/100\n",
      "68/68 [==============================] - 12s 183ms/step - loss: 8.3465e-06 - val_loss: 0.0013\n",
      "Epoch 30/100\n",
      "68/68 [==============================] - 13s 191ms/step - loss: 8.6083e-06 - val_loss: 0.0014\n",
      "Epoch 31/100\n",
      "68/68 [==============================] - 12s 182ms/step - loss: 8.1846e-06 - val_loss: 9.9917e-04\n",
      "Epoch 32/100\n",
      "68/68 [==============================] - 12s 175ms/step - loss: 8.0922e-06 - val_loss: 6.6525e-04\n",
      "Epoch 33/100\n",
      "68/68 [==============================] - 12s 176ms/step - loss: 7.2661e-06 - val_loss: 0.0011\n",
      "Epoch 34/100\n",
      "68/68 [==============================] - 12s 172ms/step - loss: 8.8607e-06 - val_loss: 7.3692e-04\n",
      "Epoch 35/100\n",
      "68/68 [==============================] - 12s 175ms/step - loss: 8.2031e-06 - val_loss: 0.0015\n",
      "Epoch 36/100\n",
      "68/68 [==============================] - 12s 171ms/step - loss: 7.3234e-06 - val_loss: 9.9328e-04\n",
      "Epoch 37/100\n",
      "68/68 [==============================] - 12s 172ms/step - loss: 8.8352e-06 - val_loss: 9.6296e-04\n",
      "Epoch 38/100\n",
      "68/68 [==============================] - 12s 173ms/step - loss: 7.7374e-06 - val_loss: 8.5170e-04\n",
      "Epoch 39/100\n",
      "68/68 [==============================] - 12s 172ms/step - loss: 7.6172e-06 - val_loss: 9.0510e-04\n",
      "Epoch 40/100\n",
      "68/68 [==============================] - 12s 176ms/step - loss: 7.2273e-06 - val_loss: 0.0012\n",
      "Epoch 41/100\n",
      "68/68 [==============================] - 12s 176ms/step - loss: 8.8407e-06 - val_loss: 4.9408e-04\n",
      "Epoch 42/100\n",
      "68/68 [==============================] - 12s 173ms/step - loss: 7.3928e-06 - val_loss: 5.8198e-04\n",
      "Epoch 43/100\n",
      "68/68 [==============================] - 12s 171ms/step - loss: 7.0054e-06 - val_loss: 4.5405e-04\n",
      "Epoch 44/100\n",
      "68/68 [==============================] - 12s 173ms/step - loss: 6.5814e-06 - val_loss: 5.3882e-04\n",
      "Epoch 45/100\n",
      "68/68 [==============================] - 12s 176ms/step - loss: 6.8545e-06 - val_loss: 8.1806e-04\n",
      "Epoch 46/100\n",
      "68/68 [==============================] - 12s 176ms/step - loss: 8.3415e-06 - val_loss: 6.6357e-04\n",
      "Epoch 47/100\n",
      "68/68 [==============================] - 12s 173ms/step - loss: 6.1365e-06 - val_loss: 8.1047e-04\n",
      "Epoch 48/100\n",
      "68/68 [==============================] - 12s 173ms/step - loss: 5.4573e-06 - val_loss: 7.1678e-04\n",
      "Epoch 49/100\n",
      "68/68 [==============================] - 12s 173ms/step - loss: 5.5713e-06 - val_loss: 0.0010\n",
      "Epoch 50/100\n",
      "68/68 [==============================] - 12s 173ms/step - loss: 5.3546e-06 - val_loss: 3.7190e-04\n",
      "Epoch 51/100\n",
      "68/68 [==============================] - 12s 178ms/step - loss: 5.4052e-06 - val_loss: 9.5216e-04\n",
      "Epoch 52/100\n",
      "68/68 [==============================] - 12s 174ms/step - loss: 5.1300e-06 - val_loss: 4.5503e-04\n",
      "Epoch 53/100\n",
      "68/68 [==============================] - 12s 172ms/step - loss: 4.7738e-06 - val_loss: 5.0589e-04\n",
      "Epoch 54/100\n",
      "68/68 [==============================] - 12s 172ms/step - loss: 5.6316e-06 - val_loss: 4.2127e-04\n",
      "Epoch 55/100\n",
      "68/68 [==============================] - 12s 173ms/step - loss: 4.9598e-06 - val_loss: 3.9016e-04\n",
      "Epoch 56/100\n",
      "68/68 [==============================] - 13s 184ms/step - loss: 4.8645e-06 - val_loss: 0.0012\n",
      "Epoch 57/100\n",
      "68/68 [==============================] - 13s 190ms/step - loss: 4.8300e-06 - val_loss: 3.4180e-04\n",
      "Epoch 58/100\n",
      "68/68 [==============================] - 12s 175ms/step - loss: 4.7915e-06 - val_loss: 5.2680e-04\n",
      "Epoch 59/100\n",
      "68/68 [==============================] - 12s 174ms/step - loss: 4.7412e-06 - val_loss: 2.6677e-04\n",
      "Epoch 60/100\n",
      "68/68 [==============================] - 12s 175ms/step - loss: 5.8718e-06 - val_loss: 5.2664e-04\n",
      "Epoch 61/100\n",
      "68/68 [==============================] - 12s 174ms/step - loss: 4.4887e-06 - val_loss: 3.0320e-04\n",
      "Epoch 62/100\n",
      "68/68 [==============================] - 12s 176ms/step - loss: 4.8243e-06 - val_loss: 3.0899e-04\n",
      "Epoch 63/100\n",
      "68/68 [==============================] - 12s 174ms/step - loss: 5.0217e-06 - val_loss: 5.2011e-04\n",
      "Epoch 64/100\n",
      "68/68 [==============================] - 12s 174ms/step - loss: 4.9225e-06 - val_loss: 4.7005e-04\n",
      "Epoch 65/100\n",
      "68/68 [==============================] - 12s 174ms/step - loss: 4.5042e-06 - val_loss: 9.4913e-04\n",
      "Epoch 66/100\n",
      "68/68 [==============================] - 12s 174ms/step - loss: 4.8216e-06 - val_loss: 3.6101e-04\n",
      "Epoch 67/100\n",
      "68/68 [==============================] - 12s 177ms/step - loss: 4.3660e-06 - val_loss: 2.1177e-04\n",
      "Epoch 68/100\n",
      "68/68 [==============================] - 12s 177ms/step - loss: 4.4615e-06 - val_loss: 3.1648e-04\n",
      "Epoch 69/100\n",
      "68/68 [==============================] - 12s 173ms/step - loss: 4.0701e-06 - val_loss: 3.7878e-04\n",
      "Epoch 70/100\n",
      "68/68 [==============================] - 13s 189ms/step - loss: 3.9804e-06 - val_loss: 5.8330e-04\n",
      "Epoch 71/100\n",
      "68/68 [==============================] - 13s 191ms/step - loss: 4.3488e-06 - val_loss: 4.7021e-04\n",
      "Epoch 72/100\n",
      "68/68 [==============================] - 13s 184ms/step - loss: 3.9116e-06 - val_loss: 4.5516e-04\n",
      "Epoch 73/100\n",
      "68/68 [==============================] - 12s 178ms/step - loss: 4.2060e-06 - val_loss: 3.1059e-04\n",
      "Epoch 74/100\n",
      "68/68 [==============================] - 12s 182ms/step - loss: 3.5154e-06 - val_loss: 4.0959e-04\n",
      "Epoch 75/100\n",
      "68/68 [==============================] - 12s 173ms/step - loss: 4.3097e-06 - val_loss: 3.4568e-04\n",
      "Epoch 76/100\n"
     ]
    },
    {
     "name": "stdout",
     "output_type": "stream",
     "text": [
      "68/68 [==============================] - 12s 172ms/step - loss: 3.6715e-06 - val_loss: 4.6485e-04\n",
      "Epoch 77/100\n",
      "68/68 [==============================] - 13s 185ms/step - loss: 3.3717e-06 - val_loss: 3.2562e-04\n",
      "Epoch 78/100\n",
      "68/68 [==============================] - 13s 198ms/step - loss: 3.8279e-06 - val_loss: 3.6463e-04\n",
      "Epoch 79/100\n",
      "68/68 [==============================] - 14s 202ms/step - loss: 3.6187e-06 - val_loss: 3.1871e-04\n",
      "Epoch 80/100\n",
      "68/68 [==============================] - 14s 198ms/step - loss: 3.5349e-06 - val_loss: 1.7566e-04\n",
      "Epoch 81/100\n",
      "68/68 [==============================] - 14s 213ms/step - loss: 3.6155e-06 - val_loss: 4.1448e-04\n",
      "Epoch 82/100\n",
      "68/68 [==============================] - 14s 206ms/step - loss: 3.8442e-06 - val_loss: 4.5560e-04\n",
      "Epoch 83/100\n",
      "68/68 [==============================] - 13s 185ms/step - loss: 3.3201e-06 - val_loss: 2.8191e-04\n",
      "Epoch 84/100\n",
      "68/68 [==============================] - 13s 192ms/step - loss: 3.7004e-06 - val_loss: 3.3569e-04\n",
      "Epoch 85/100\n",
      "68/68 [==============================] - 15s 217ms/step - loss: 3.5650e-06 - val_loss: 4.4017e-04\n",
      "Epoch 86/100\n",
      "68/68 [==============================] - 14s 208ms/step - loss: 3.0241e-06 - val_loss: 5.3009e-04\n",
      "Epoch 87/100\n",
      "68/68 [==============================] - 12s 176ms/step - loss: 3.9802e-06 - val_loss: 3.4166e-04\n",
      "Epoch 88/100\n",
      "68/68 [==============================] - 12s 178ms/step - loss: 3.2033e-06 - val_loss: 5.6555e-04\n",
      "Epoch 89/100\n",
      "68/68 [==============================] - 12s 175ms/step - loss: 3.5900e-06 - val_loss: 3.1812e-04\n",
      "Epoch 90/100\n",
      "68/68 [==============================] - 12s 178ms/step - loss: 3.9085e-06 - val_loss: 4.3549e-04\n",
      "Epoch 91/100\n",
      "68/68 [==============================] - 12s 178ms/step - loss: 3.0063e-06 - val_loss: 3.9913e-04\n",
      "Epoch 92/100\n",
      "68/68 [==============================] - 12s 176ms/step - loss: 2.6032e-06 - val_loss: 4.3131e-04\n",
      "Epoch 93/100\n",
      "68/68 [==============================] - 12s 176ms/step - loss: 2.8237e-06 - val_loss: 2.2557e-04\n",
      "Epoch 94/100\n",
      "68/68 [==============================] - 12s 179ms/step - loss: 3.8265e-06 - val_loss: 1.8964e-04\n",
      "Epoch 95/100\n",
      "68/68 [==============================] - 12s 176ms/step - loss: 3.9764e-06 - val_loss: 3.6950e-04\n",
      "Epoch 96/100\n",
      "68/68 [==============================] - 12s 176ms/step - loss: 3.2493e-06 - val_loss: 4.1185e-04\n",
      "Epoch 97/100\n",
      "68/68 [==============================] - 12s 178ms/step - loss: 3.7426e-06 - val_loss: 3.7469e-04\n",
      "Epoch 98/100\n",
      "68/68 [==============================] - 12s 177ms/step - loss: 2.8152e-06 - val_loss: 2.1554e-04\n",
      "Epoch 99/100\n",
      "68/68 [==============================] - 12s 180ms/step - loss: 4.1114e-06 - val_loss: 2.6921e-04\n",
      "Epoch 100/100\n",
      "68/68 [==============================] - 12s 177ms/step - loss: 2.3207e-06 - val_loss: 2.9412e-04\n"
     ]
    }
   ],
   "source": [
    "#Train the model\n",
    "model.fit(X_train,y_train,validation_data=(X_test,ytest),epochs=100,batch_size=64,verbose=1)\n",
    "model.save('LSTM_prediction.h5')"
   ]
  },
  {
   "cell_type": "code",
   "execution_count": 22,
   "metadata": {
    "executionInfo": {
     "elapsed": 1614,
     "status": "ok",
     "timestamp": 1662651876882,
     "user": {
      "displayName": "Abhiyantraka",
      "userId": "08575671547903053425"
     },
     "user_tz": -345
    },
    "id": "szcqxHmeop1z"
   },
   "outputs": [
    {
     "name": "stdout",
     "output_type": "stream",
     "text": [
      "136/136 [==============================] - 7s 42ms/step\n",
      "32/32 [==============================] - 1s 44ms/step\n"
     ]
    }
   ],
   "source": [
    "## Lets Do the prediction and check performance metrics\n",
    "train_predict=model.predict(X_train)\n",
    "test_predict=model.predict(X_test)\n",
    "# predict = model.predict(X_test)"
   ]
  },
  {
   "cell_type": "code",
   "execution_count": 40,
   "metadata": {},
   "outputs": [
    {
     "data": {
      "text/html": [
       "<div>\n",
       "<style scoped>\n",
       "    .dataframe tbody tr th:only-of-type {\n",
       "        vertical-align: middle;\n",
       "    }\n",
       "\n",
       "    .dataframe tbody tr th {\n",
       "        vertical-align: top;\n",
       "    }\n",
       "\n",
       "    .dataframe thead th {\n",
       "        text-align: right;\n",
       "    }\n",
       "</style>\n",
       "<table border=\"1\" class=\"dataframe\">\n",
       "  <thead>\n",
       "    <tr style=\"text-align: right;\">\n",
       "      <th></th>\n",
       "      <th>Date</th>\n",
       "      <th>Open</th>\n",
       "      <th>High</th>\n",
       "      <th>Low</th>\n",
       "      <th>eps</th>\n",
       "      <th>pe</th>\n",
       "      <th>InRate</th>\n",
       "      <th>InfRate</th>\n",
       "      <th>Adj Close</th>\n",
       "      <th>Volume</th>\n",
       "    </tr>\n",
       "  </thead>\n",
       "  <tbody>\n",
       "    <tr>\n",
       "      <th>0</th>\n",
       "      <td>1/3/2017</td>\n",
       "      <td>28.950001</td>\n",
       "      <td>29.082500</td>\n",
       "      <td>28.690001</td>\n",
       "      <td>1.438775</td>\n",
       "      <td>10.653285</td>\n",
       "      <td>0.827070</td>\n",
       "      <td>1.926190</td>\n",
       "      <td>27.219833</td>\n",
       "      <td>115127600</td>\n",
       "    </tr>\n",
       "    <tr>\n",
       "      <th>1</th>\n",
       "      <td>1/4/2017</td>\n",
       "      <td>28.962500</td>\n",
       "      <td>29.127501</td>\n",
       "      <td>28.937500</td>\n",
       "      <td>1.438930</td>\n",
       "      <td>10.652835</td>\n",
       "      <td>0.826777</td>\n",
       "      <td>1.926192</td>\n",
       "      <td>27.189369</td>\n",
       "      <td>84472400</td>\n",
       "    </tr>\n",
       "    <tr>\n",
       "      <th>2</th>\n",
       "      <td>1/5/2017</td>\n",
       "      <td>28.980000</td>\n",
       "      <td>29.215000</td>\n",
       "      <td>28.952499</td>\n",
       "      <td>1.439085</td>\n",
       "      <td>10.652384</td>\n",
       "      <td>0.826483</td>\n",
       "      <td>1.926194</td>\n",
       "      <td>27.327641</td>\n",
       "      <td>88774400</td>\n",
       "    </tr>\n",
       "    <tr>\n",
       "      <th>3</th>\n",
       "      <td>1/6/2017</td>\n",
       "      <td>29.195000</td>\n",
       "      <td>29.540001</td>\n",
       "      <td>29.117500</td>\n",
       "      <td>1.439240</td>\n",
       "      <td>10.651934</td>\n",
       "      <td>0.826190</td>\n",
       "      <td>1.926196</td>\n",
       "      <td>27.632294</td>\n",
       "      <td>127007600</td>\n",
       "    </tr>\n",
       "    <tr>\n",
       "      <th>4</th>\n",
       "      <td>1/9/2017</td>\n",
       "      <td>29.487499</td>\n",
       "      <td>29.857500</td>\n",
       "      <td>29.485001</td>\n",
       "      <td>1.439394</td>\n",
       "      <td>10.651483</td>\n",
       "      <td>0.825897</td>\n",
       "      <td>1.926198</td>\n",
       "      <td>27.885395</td>\n",
       "      <td>134247600</td>\n",
       "    </tr>\n",
       "    <tr>\n",
       "      <th>...</th>\n",
       "      <td>...</td>\n",
       "      <td>...</td>\n",
       "      <td>...</td>\n",
       "      <td>...</td>\n",
       "      <td>...</td>\n",
       "      <td>...</td>\n",
       "      <td>...</td>\n",
       "      <td>...</td>\n",
       "      <td>...</td>\n",
       "      <td>...</td>\n",
       "    </tr>\n",
       "    <tr>\n",
       "      <th>1254</th>\n",
       "      <td>12/27/2021</td>\n",
       "      <td>177.089996</td>\n",
       "      <td>180.419998</td>\n",
       "      <td>177.070007</td>\n",
       "      <td>1.582562</td>\n",
       "      <td>10.786384</td>\n",
       "      <td>0.520334</td>\n",
       "      <td>1.977604</td>\n",
       "      <td>179.586868</td>\n",
       "      <td>74919600</td>\n",
       "    </tr>\n",
       "    <tr>\n",
       "      <th>1255</th>\n",
       "      <td>12/28/2021</td>\n",
       "      <td>180.160004</td>\n",
       "      <td>181.330002</td>\n",
       "      <td>178.529999</td>\n",
       "      <td>1.582636</td>\n",
       "      <td>10.787788</td>\n",
       "      <td>0.520138</td>\n",
       "      <td>1.977684</td>\n",
       "      <td>178.551132</td>\n",
       "      <td>79144300</td>\n",
       "    </tr>\n",
       "    <tr>\n",
       "      <th>1256</th>\n",
       "      <td>12/29/2021</td>\n",
       "      <td>179.330002</td>\n",
       "      <td>180.630005</td>\n",
       "      <td>178.139999</td>\n",
       "      <td>1.582711</td>\n",
       "      <td>10.789193</td>\n",
       "      <td>0.519943</td>\n",
       "      <td>1.977764</td>\n",
       "      <td>178.640778</td>\n",
       "      <td>62348900</td>\n",
       "    </tr>\n",
       "    <tr>\n",
       "      <th>1257</th>\n",
       "      <td>12/30/2021</td>\n",
       "      <td>179.470001</td>\n",
       "      <td>180.570007</td>\n",
       "      <td>178.089996</td>\n",
       "      <td>1.582785</td>\n",
       "      <td>10.790599</td>\n",
       "      <td>0.519747</td>\n",
       "      <td>1.977845</td>\n",
       "      <td>177.465637</td>\n",
       "      <td>59773000</td>\n",
       "    </tr>\n",
       "    <tr>\n",
       "      <th>1258</th>\n",
       "      <td>12/31/2021</td>\n",
       "      <td>178.089996</td>\n",
       "      <td>179.229996</td>\n",
       "      <td>177.259995</td>\n",
       "      <td>1.582859</td>\n",
       "      <td>10.792005</td>\n",
       "      <td>0.519552</td>\n",
       "      <td>1.977925</td>\n",
       "      <td>176.838242</td>\n",
       "      <td>64062300</td>\n",
       "    </tr>\n",
       "  </tbody>\n",
       "</table>\n",
       "<p>1259 rows × 10 columns</p>\n",
       "</div>"
      ],
      "text/plain": [
       "            Date        Open        High         Low       eps         pe  \\\n",
       "0       1/3/2017   28.950001   29.082500   28.690001  1.438775  10.653285   \n",
       "1       1/4/2017   28.962500   29.127501   28.937500  1.438930  10.652835   \n",
       "2       1/5/2017   28.980000   29.215000   28.952499  1.439085  10.652384   \n",
       "3       1/6/2017   29.195000   29.540001   29.117500  1.439240  10.651934   \n",
       "4       1/9/2017   29.487499   29.857500   29.485001  1.439394  10.651483   \n",
       "...          ...         ...         ...         ...       ...        ...   \n",
       "1254  12/27/2021  177.089996  180.419998  177.070007  1.582562  10.786384   \n",
       "1255  12/28/2021  180.160004  181.330002  178.529999  1.582636  10.787788   \n",
       "1256  12/29/2021  179.330002  180.630005  178.139999  1.582711  10.789193   \n",
       "1257  12/30/2021  179.470001  180.570007  178.089996  1.582785  10.790599   \n",
       "1258  12/31/2021  178.089996  179.229996  177.259995  1.582859  10.792005   \n",
       "\n",
       "        InRate   InfRate   Adj Close     Volume  \n",
       "0     0.827070  1.926190   27.219833  115127600  \n",
       "1     0.826777  1.926192   27.189369   84472400  \n",
       "2     0.826483  1.926194   27.327641   88774400  \n",
       "3     0.826190  1.926196   27.632294  127007600  \n",
       "4     0.825897  1.926198   27.885395  134247600  \n",
       "...        ...       ...         ...        ...  \n",
       "1254  0.520334  1.977604  179.586868   74919600  \n",
       "1255  0.520138  1.977684  178.551132   79144300  \n",
       "1256  0.519943  1.977764  178.640778   62348900  \n",
       "1257  0.519747  1.977845  177.465637   59773000  \n",
       "1258  0.519552  1.977925  176.838242   64062300  \n",
       "\n",
       "[1259 rows x 10 columns]"
      ]
     },
     "execution_count": 40,
     "metadata": {},
     "output_type": "execute_result"
    }
   ],
   "source": [
    "df = pd.read_csv(\"test.csv\")\n",
    "df\n",
    "\n",
    "# print(predict)"
   ]
  },
  {
   "cell_type": "code",
   "execution_count": 43,
   "metadata": {},
   "outputs": [
    {
     "name": "stdout",
     "output_type": "stream",
     "text": [
      "32/32 [==============================] - 2s 65ms/step\n"
     ]
    },
    {
     "data": {
      "text/plain": [
       "array([[0.23510055],\n",
       "       [0.23742256],\n",
       "       [0.23887107],\n",
       "       ...,\n",
       "       [0.95080864],\n",
       "       [0.95069236],\n",
       "       [0.94746363]], dtype=float32)"
      ]
     },
     "execution_count": 43,
     "metadata": {},
     "output_type": "execute_result"
    }
   ],
   "source": [
    "test_predict=model.predict()\n",
    "test_predict\n",
    "\n",
    "# predictions = pd.DataFrame({\"Predictions\": predict}, index=pd.date_range(start=df.index[-1], periods=len(predict), freq=\"D\"))"
   ]
  },
  {
   "cell_type": "code",
   "execution_count": 24,
   "metadata": {
    "executionInfo": {
     "elapsed": 41,
     "status": "ok",
     "timestamp": 1662651876883,
     "user": {
      "displayName": "Abhiyantraka",
      "userId": "08575671547903053425"
     },
     "user_tz": -345
    },
    "id": "TEkvaU3fTkZ5"
   },
   "outputs": [],
   "source": [
    "##Transformback to original form\n",
    "train_predict=scaler.inverse_transform(train_predict)\n",
    "test_predict=scaler.inverse_transform(test_predict)"
   ]
  },
  {
   "cell_type": "code",
   "execution_count": 25,
   "metadata": {
    "colab": {
     "base_uri": "https://localhost:8080/"
    },
    "executionInfo": {
     "elapsed": 32,
     "status": "ok",
     "timestamp": 1662651876884,
     "user": {
      "displayName": "Abhiyantraka",
      "userId": "08575671547903053425"
     },
     "user_tz": -345
    },
    "id": "WNO7MnJfTmcl",
    "outputId": "06f10836-4996-4de2-a1dd-d99353b48839"
   },
   "outputs": [
    {
     "data": {
      "text/plain": [
       "15.11938105406464"
      ]
     },
     "execution_count": 25,
     "metadata": {},
     "output_type": "execute_result"
    }
   ],
   "source": [
    "### Calculate RMSE performance metrics\n",
    "import math\n",
    "from sklearn.metrics import mean_squared_error\n",
    "math.sqrt(mean_squared_error(y_train,train_predict))\n"
   ]
  },
  {
   "cell_type": "code",
   "execution_count": 26,
   "metadata": {
    "colab": {
     "base_uri": "https://localhost:8080/"
    },
    "executionInfo": {
     "elapsed": 27,
     "status": "ok",
     "timestamp": 1662651876885,
     "user": {
      "displayName": "Abhiyantraka",
      "userId": "08575671547903053425"
     },
     "user_tz": -345
    },
    "id": "m0tnd2A8Trev",
    "outputId": "de136697-5d21-4219-a31b-5b7073ac0931"
   },
   "outputs": [
    {
     "name": "stdout",
     "output_type": "stream",
     "text": [
      "Mean Squared Error: 90.39447443616515\n",
      "Mean absolute error: 81.9595627164235\n",
      "Root Mean Squared Error: 90.39447443616515\n"
     ]
    }
   ],
   "source": [
    "### Test Data RMSE\n",
    "import sklearn.metrics as metrics\n",
    "\n",
    "print(\"Mean Squared Error:\",math.sqrt(mean_squared_error(ytest,test_predict)))\n",
    "\n",
    "print(\"Mean absolute error:\",metrics.mean_absolute_error(ytest, test_predict))\n",
    "\n",
    "print(\"Root Mean Squared Error:\", (np.sqrt(metrics.mean_squared_error(ytest, test_predict))))\n"
   ]
  },
  {
   "cell_type": "code",
   "execution_count": 27,
   "metadata": {
    "executionInfo": {
     "elapsed": 19,
     "status": "ok",
     "timestamp": 1662651876886,
     "user": {
      "displayName": "Abhiyantraka",
      "userId": "08575671547903053425"
     },
     "user_tz": -345
    },
    "id": "_BtHcWO2wYbW"
   },
   "outputs": [],
   "source": [
    "### Plotting \n",
    "import numpy as np\n",
    "look_back=100\n",
    "trainPredictPlot = np.empty_like(df1)\n",
    "trainPredictPlot[:, :] = np.nan\n",
    "trainPredictPlot[look_back:len(train_predict)+look_back, :] = train_predict\n"
   ]
  },
  {
   "cell_type": "code",
   "execution_count": 28,
   "metadata": {
    "executionInfo": {
     "elapsed": 19,
     "status": "ok",
     "timestamp": 1662651876887,
     "user": {
      "displayName": "Abhiyantraka",
      "userId": "08575671547903053425"
     },
     "user_tz": -345
    },
    "id": "tTpr6JUjwlRT"
   },
   "outputs": [],
   "source": [
    "# shift test predictions for plotting\n",
    "testPredictPlot = np.empty_like(df1)\n",
    "testPredictPlot[:, :] = np.nan\n",
    "testPredictPlot[len(train_predict)+(look_back*2)+1:len(df1)-1, :] = test_predict"
   ]
  },
  {
   "cell_type": "code",
   "execution_count": null,
   "metadata": {},
   "outputs": [],
   "source": []
  },
  {
   "cell_type": "code",
   "execution_count": 29,
   "metadata": {
    "colab": {
     "base_uri": "https://localhost:8080/",
     "height": 282
    },
    "executionInfo": {
     "elapsed": 1524,
     "status": "ok",
     "timestamp": 1662651878394,
     "user": {
      "displayName": "Abhiyantraka",
      "userId": "08575671547903053425"
     },
     "user_tz": -345
    },
    "id": "1Mw8tUxxwmzD",
    "outputId": "36ec7514-79f3-4e08-a9fb-b23e47e95e25"
   },
   "outputs": [
    {
     "data": {
      "text/plain": [
       "[<matplotlib.lines.Line2D at 0x2532312ff40>]"
      ]
     },
     "execution_count": 29,
     "metadata": {},
     "output_type": "execute_result"
    },
    {
     "data": {
      "image/png": "[encoded data removed]",
      "text/plain": [
       "<Figure size 432x288 with 1 Axes>"
      ]
     },
     "metadata": {
      "needs_background": "light"
     },
     "output_type": "display_data"
    }
   ],
   "source": [
    "# plot baseline and predictions\n",
    "plt.plot(scaler.inverse_transform(df1))\n",
    "plt.plot(trainPredictPlot)"
   ]
  },
  {
   "cell_type": "code",
   "execution_count": 30,
   "metadata": {
    "colab": {
     "base_uri": "https://localhost:8080/",
     "height": 265
    },
    "executionInfo": {
     "elapsed": 113,
     "status": "ok",
     "timestamp": 1662651878399,
     "user": {
      "displayName": "Abhiyantraka",
      "userId": "08575671547903053425"
     },
     "user_tz": -345
    },
    "id": "2JXBlqyMwuVI",
    "outputId": "5fefd1e9-c0c4-46de-dbec-19f8d2f87177"
   },
   "outputs": [
    {
     "data": {
      "image/png": "[encoded data removed]",
      "text/plain": [
       "<Figure size 432x288 with 1 Axes>"
      ]
     },
     "metadata": {
      "needs_background": "light"
     },
     "output_type": "display_data"
    }
   ],
   "source": [
    "plt.plot(testPredictPlot)\n",
    "plt.show()"
   ]
  },
  {
   "cell_type": "code",
   "execution_count": 31,
   "metadata": {
    "executionInfo": {
     "elapsed": 110,
     "status": "ok",
     "timestamp": 1662651878402,
     "user": {
      "displayName": "Abhiyantraka",
      "userId": "08575671547903053425"
     },
     "user_tz": -345
    },
    "id": "eYDBpajUTy3o"
   },
   "outputs": [],
   "source": [
    "### Plotting \n",
    "look_back=100    #timestamps dieako\n",
    "trainPredictPlot = np.empty_like(df1)\n",
    "trainPredictPlot[:, :] = np.nan\n",
    "trainPredictPlot[look_back:len(train_predict)+look_back, :] = train_predict\n",
    "\n"
   ]
  },
  {
   "cell_type": "code",
   "execution_count": 32,
   "metadata": {
    "executionInfo": {
     "elapsed": 113,
     "status": "ok",
     "timestamp": 1662651878410,
     "user": {
      "displayName": "Abhiyantraka",
      "userId": "08575671547903053425"
     },
     "user_tz": -345
    },
    "id": "ayChK0MIolW9"
   },
   "outputs": [],
   "source": [
    "# shift test predictions for plotting\n",
    "testPredictPlot = np.empty_like(df1)\n",
    "testPredictPlot[:, :] = np.nan\n",
    "testPredictPlot[len(train_predict)+(look_back*2)+1:len(df1)-1, :] = test_predict"
   ]
  },
  {
   "cell_type": "code",
   "execution_count": 61,
   "metadata": {
    "executionInfo": {
     "elapsed": 111,
     "status": "ok",
     "timestamp": 1662651878412,
     "user": {
      "displayName": "Abhiyantraka",
      "userId": "08575671547903053425"
     },
     "user_tz": -345
    },
    "id": "vv9gd4v1oaYf"
   },
   "outputs": [
    {
     "data": {
      "image/png": "[encoded data removed]",
      "text/plain": [
       "<Figure size 432x288 with 1 Axes>"
      ]
     },
     "metadata": {
      "needs_background": "light"
     },
     "output_type": "display_data"
    }
   ],
   "source": [
    "# plot baseline and predictions\n",
    "plt.plot(scaler.inverse_transform(df1))\n",
    "plt.plot(trainPredictPlot)\n",
    "plt.show()"
   ]
  },
  {
   "cell_type": "code",
   "execution_count": 33,
   "metadata": {
    "colab": {
     "base_uri": "https://localhost:8080/"
    },
    "executionInfo": {
     "elapsed": 597,
     "status": "ok",
     "timestamp": 1662652096793,
     "user": {
      "displayName": "Abhiyantraka",
      "userId": "08575671547903053425"
     },
     "user_tz": -345
    },
    "id": "5cQwxsF-UthD",
    "outputId": "1bec642a-b964-45a8-bfc0-f72e29ba1a92"
   },
   "outputs": [
    {
     "data": {
      "text/plain": [
       "1108"
      ]
     },
     "execution_count": 33,
     "metadata": {},
     "output_type": "execute_result"
    }
   ],
   "source": [
    "len(test_data)\n"
   ]
  },
  {
   "cell_type": "code",
   "execution_count": 34,
   "metadata": {
    "colab": {
     "base_uri": "https://localhost:8080/"
    },
    "executionInfo": {
     "elapsed": 847,
     "status": "ok",
     "timestamp": 1662653384595,
     "user": {
      "displayName": "Abhiyantraka",
      "userId": "08575671547903053425"
     },
     "user_tz": -345
    },
    "id": "CLABD2fdyZfd",
    "outputId": "fecb9772-f41c-4e4c-cfb3-4a05ff5645c8"
   },
   "outputs": [
    {
     "data": {
      "text/plain": [
       "(1, 100)"
      ]
     },
     "execution_count": 34,
     "metadata": {},
     "output_type": "execute_result"
    }
   ],
   "source": [
    "x_input=test_data[1008:].reshape(1,-1)    #taking previous 100 day data \n",
    "x_input.shape"
   ]
  },
  {
   "cell_type": "code",
   "execution_count": null,
   "metadata": {
    "id": "NwmfL51r3UGs"
   },
   "outputs": [],
   "source": []
  },
  {
   "cell_type": "code",
   "execution_count": 35,
   "metadata": {
    "executionInfo": {
     "elapsed": 571,
     "status": "ok",
     "timestamp": 1662653568154,
     "user": {
      "displayName": "Abhiyantraka",
      "userId": "08575671547903053425"
     },
     "user_tz": -345
    },
    "id": "oWGBjYquz2sx"
   },
   "outputs": [],
   "source": [
    "temp_input=list(x_input)\n",
    "temp_input=temp_input[0].tolist()"
   ]
  },
  {
   "cell_type": "code",
   "execution_count": 65,
   "metadata": {
    "colab": {
     "base_uri": "https://localhost:8080/"
    },
    "executionInfo": {
     "elapsed": 585,
     "status": "ok",
     "timestamp": 1662653571294,
     "user": {
      "displayName": "Abhiyantraka",
      "userId": "08575671547903053425"
     },
     "user_tz": -345
    },
    "id": "NxmcPPU9z4dY",
    "outputId": "b34e1990-d6d3-4866-e82d-33b62e9b8dc2"
   },
   "outputs": [
    {
     "data": {
      "text/plain": [
       "[0.8086017715157645,\n",
       " 0.8254261472827038,\n",
       " 0.8265922327658255,\n",
       " 0.8378084296019568,\n",
       " 0.8326445477470436,\n",
       " 0.8113780729798149,\n",
       " 0.8132659357649573,\n",
       " 0.8215393418908421,\n",
       " 0.8299793261045698,\n",
       " 0.8294795252098056,\n",
       " 0.8224832788360164,\n",
       " 0.8179301000141503,\n",
       " 0.8238159313017752,\n",
       " 0.8489136354581582,\n",
       " 0.8417508165491289,\n",
       " 0.8455265476720168,\n",
       " 0.8518565094574487,\n",
       " 0.8554657513341406,\n",
       " 0.8687364667796984,\n",
       " 0.8599633486006963,\n",
       " 0.8541886748710892,\n",
       " 0.8258703666221577,\n",
       " 0.8290908874256621,\n",
       " 0.8211506208176544,\n",
       " 0.826203511692638,\n",
       " 0.8248708536742763,\n",
       " 0.8097122754435758,\n",
       " 0.7923881765183132,\n",
       " 0.7951089019796562,\n",
       " 0.8085462732494981,\n",
       " 0.8139878019086252,\n",
       " 0.8144875139617425,\n",
       " 0.8058809627653775,\n",
       " 0.7866690066075752,\n",
       " 0.7917773901962222,\n",
       " 0.7843924171966423,\n",
       " 0.7907778772483405,\n",
       " 0.7712882687337216,\n",
       " 0.782226907607286,\n",
       " 0.7871687186606926,\n",
       " 0.7943315375697222,\n",
       " 0.7921660279803657,\n",
       " 0.7916663159272485,\n",
       " 0.7844479154629087,\n",
       " 0.7811164036794744,\n",
       " 0.7969412720511353,\n",
       " 0.8029380887660871,\n",
       " 0.8124330786413598,\n",
       " 0.8247042866916391,\n",
       " 0.8274805881556895,\n",
       " 0.8287021663524745,\n",
       " 0.8243156433548925,\n",
       " 0.8240379965506786,\n",
       " 0.8278138109626106,\n",
       " 0.8252040820338004,\n",
       " 0.845859770478938,\n",
       " 0.8304790381576873,\n",
       " 0.8258148739084943,\n",
       " 0.8317006163544723,\n",
       " 0.8398629482113833,\n",
       " 0.8369200797646957,\n",
       " 0.8386968682808646,\n",
       " 0.8340326984790687,\n",
       " 0.8360871393520544,\n",
       " 0.8200401168898431,\n",
       " 0.8197624700856293,\n",
       " 0.8315340438192322,\n",
       " 0.8315895420854986,\n",
       " 0.8371421450135993,\n",
       " 0.8509681540675849,\n",
       " 0.8752884993666368,\n",
       " 0.8901695196347702,\n",
       " 0.8927792485635805,\n",
       " 0.8949447637055398,\n",
       " 0.8978876321522273,\n",
       " 0.8694027569206588,\n",
       " 0.8884482238322648,\n",
       " 0.9165443835432487,\n",
       " 0.9136015095439584,\n",
       " 0.9079933306131502,\n",
       " 0.8973323385437998,\n",
       " 0.9166554578122225,\n",
       " 0.9491936332344518,\n",
       " 0.9708488346274712,\n",
       " 0.9679614588944471,\n",
       " 0.9951136816602567,\n",
       " 0.9745135692178264,\n",
       " 0.9666843824313957,\n",
       " 0.9942808245366592,\n",
       " 0.9551904555020065,\n",
       " 0.9489715624329453,\n",
       " 0.9412534499154883,\n",
       " 0.9592439111655493,\n",
       " 0.9739582756093987,\n",
       " 0.9775119414833833,\n",
       " 1.0,\n",
       " 0.994225242981349,\n",
       " 0.9947250438761132,\n",
       " 0.9881729280001308,\n",
       " 0.9846748436814566]"
      ]
     },
     "execution_count": 65,
     "metadata": {},
     "output_type": "execute_result"
    }
   ],
   "source": [
    "temp_input\n"
   ]
  },
  {
   "cell_type": "code",
   "execution_count": 36,
   "metadata": {
    "colab": {
     "base_uri": "https://localhost:8080/"
    },
    "executionInfo": {
     "elapsed": 1879,
     "status": "ok",
     "timestamp": 1662653580223,
     "user": {
      "displayName": "Abhiyantraka",
      "userId": "08575671547903053425"
     },
     "user_tz": -345
    },
    "id": "R7-CA3rzz_hg",
    "outputId": "3230ead0-9362-4789-9759-8c2951c4de7c"
   },
   "outputs": [
    {
     "name": "stdout",
     "output_type": "stream",
     "text": [
      "[0.9357092]\n",
      "101\n",
      "1 day input [0.82542615 0.82659223 0.83780843 0.83264455 0.81137807 0.81326594\n",
      " 0.82153934 0.82997933 0.82947953 0.82248328 0.8179301  0.82381593\n",
      " 0.84891364 0.84175082 0.84552655 0.85185651 0.85546575 0.86873647\n",
      " 0.85996335 0.85418867 0.82587037 0.82909089 0.82115062 0.82620351\n",
      " 0.82487085 0.80971228 0.79238818 0.7951089  0.80854627 0.8139878\n",
      " 0.81448751 0.80588096 0.78666901 0.79177739 0.78439242 0.79077788\n",
      " 0.77128827 0.78222691 0.78716872 0.79433154 0.79216603 0.79166632\n",
      " 0.78444792 0.7811164  0.79694127 0.80293809 0.81243308 0.82470429\n",
      " 0.82748059 0.82870217 0.82431564 0.824038   0.82781381 0.82520408\n",
      " 0.84585977 0.83047904 0.82581487 0.83170062 0.83986295 0.83692008\n",
      " 0.83869687 0.8340327  0.83608714 0.82004012 0.81976247 0.83153404\n",
      " 0.83158954 0.83714215 0.85096815 0.8752885  0.89016952 0.89277925\n",
      " 0.89494476 0.89788763 0.86940276 0.88844822 0.91654438 0.91360151\n",
      " 0.90799333 0.89733234 0.91665546 0.94919363 0.97084883 0.96796146\n",
      " 0.99511368 0.97451357 0.96668438 0.99428082 0.95519046 0.94897156\n",
      " 0.94125345 0.95924391 0.97395828 0.97751194 1.         0.99422524\n",
      " 0.99472504 0.98817293 0.98467484 0.93570918]\n",
      "1 day output [[0.9006517]]\n",
      "2 day input [0.82659223 0.83780843 0.83264455 0.81137807 0.81326594 0.82153934\n",
      " 0.82997933 0.82947953 0.82248328 0.8179301  0.82381593 0.84891364\n",
      " 0.84175082 0.84552655 0.85185651 0.85546575 0.86873647 0.85996335\n",
      " 0.85418867 0.82587037 0.82909089 0.82115062 0.82620351 0.82487085\n",
      " 0.80971228 0.79238818 0.7951089  0.80854627 0.8139878  0.81448751\n",
      " 0.80588096 0.78666901 0.79177739 0.78439242 0.79077788 0.77128827\n",
      " 0.78222691 0.78716872 0.79433154 0.79216603 0.79166632 0.78444792\n",
      " 0.7811164  0.79694127 0.80293809 0.81243308 0.82470429 0.82748059\n",
      " 0.82870217 0.82431564 0.824038   0.82781381 0.82520408 0.84585977\n",
      " 0.83047904 0.82581487 0.83170062 0.83986295 0.83692008 0.83869687\n",
      " 0.8340327  0.83608714 0.82004012 0.81976247 0.83153404 0.83158954\n",
      " 0.83714215 0.85096815 0.8752885  0.89016952 0.89277925 0.89494476\n",
      " 0.89788763 0.86940276 0.88844822 0.91654438 0.91360151 0.90799333\n",
      " 0.89733234 0.91665546 0.94919363 0.97084883 0.96796146 0.99511368\n",
      " 0.97451357 0.96668438 0.99428082 0.95519046 0.94897156 0.94125345\n",
      " 0.95924391 0.97395828 0.97751194 1.         0.99422524 0.99472504\n",
      " 0.98817293 0.98467484 0.93570918 0.90065169]\n",
      "2 day output [[0.8628254]]\n",
      "3 day input [0.83780843 0.83264455 0.81137807 0.81326594 0.82153934 0.82997933\n",
      " 0.82947953 0.82248328 0.8179301  0.82381593 0.84891364 0.84175082\n",
      " 0.84552655 0.85185651 0.85546575 0.86873647 0.85996335 0.85418867\n",
      " 0.82587037 0.82909089 0.82115062 0.82620351 0.82487085 0.80971228\n",
      " 0.79238818 0.7951089  0.80854627 0.8139878  0.81448751 0.80588096\n",
      " 0.78666901 0.79177739 0.78439242 0.79077788 0.77128827 0.78222691\n",
      " 0.78716872 0.79433154 0.79216603 0.79166632 0.78444792 0.7811164\n",
      " 0.79694127 0.80293809 0.81243308 0.82470429 0.82748059 0.82870217\n",
      " 0.82431564 0.824038   0.82781381 0.82520408 0.84585977 0.83047904\n",
      " 0.82581487 0.83170062 0.83986295 0.83692008 0.83869687 0.8340327\n",
      " 0.83608714 0.82004012 0.81976247 0.83153404 0.83158954 0.83714215\n",
      " 0.85096815 0.8752885  0.89016952 0.89277925 0.89494476 0.89788763\n",
      " 0.86940276 0.88844822 0.91654438 0.91360151 0.90799333 0.89733234\n",
      " 0.91665546 0.94919363 0.97084883 0.96796146 0.99511368 0.97451357\n",
      " 0.96668438 0.99428082 0.95519046 0.94897156 0.94125345 0.95924391\n",
      " 0.97395828 0.97751194 1.         0.99422524 0.99472504 0.98817293\n",
      " 0.98467484 0.93570918 0.90065169 0.86282539]\n",
      "3 day output [[0.8268495]]\n",
      "4 day input [0.83264455 0.81137807 0.81326594 0.82153934 0.82997933 0.82947953\n",
      " 0.82248328 0.8179301  0.82381593 0.84891364 0.84175082 0.84552655\n",
      " 0.85185651 0.85546575 0.86873647 0.85996335 0.85418867 0.82587037\n",
      " 0.82909089 0.82115062 0.82620351 0.82487085 0.80971228 0.79238818\n",
      " 0.7951089  0.80854627 0.8139878  0.81448751 0.80588096 0.78666901\n",
      " 0.79177739 0.78439242 0.79077788 0.77128827 0.78222691 0.78716872\n",
      " 0.79433154 0.79216603 0.79166632 0.78444792 0.7811164  0.79694127\n",
      " 0.80293809 0.81243308 0.82470429 0.82748059 0.82870217 0.82431564\n",
      " 0.824038   0.82781381 0.82520408 0.84585977 0.83047904 0.82581487\n",
      " 0.83170062 0.83986295 0.83692008 0.83869687 0.8340327  0.83608714\n",
      " 0.82004012 0.81976247 0.83153404 0.83158954 0.83714215 0.85096815\n",
      " 0.8752885  0.89016952 0.89277925 0.89494476 0.89788763 0.86940276\n",
      " 0.88844822 0.91654438 0.91360151 0.90799333 0.89733234 0.91665546\n",
      " 0.94919363 0.97084883 0.96796146 0.99511368 0.97451357 0.96668438\n",
      " 0.99428082 0.95519046 0.94897156 0.94125345 0.95924391 0.97395828\n",
      " 0.97751194 1.         0.99422524 0.99472504 0.98817293 0.98467484\n",
      " 0.93570918 0.90065169 0.86282539 0.82684952]\n",
      "4 day output [[0.79405755]]\n",
      "5 day input [0.81137807 0.81326594 0.82153934 0.82997933 0.82947953 0.82248328\n",
      " 0.8179301  0.82381593 0.84891364 0.84175082 0.84552655 0.85185651\n",
      " 0.85546575 0.86873647 0.85996335 0.85418867 0.82587037 0.82909089\n",
      " 0.82115062 0.82620351 0.82487085 0.80971228 0.79238818 0.7951089\n",
      " 0.80854627 0.8139878  0.81448751 0.80588096 0.78666901 0.79177739\n",
      " 0.78439242 0.79077788 0.77128827 0.78222691 0.78716872 0.79433154\n",
      " 0.79216603 0.79166632 0.78444792 0.7811164  0.79694127 0.80293809\n",
      " 0.81243308 0.82470429 0.82748059 0.82870217 0.82431564 0.824038\n",
      " 0.82781381 0.82520408 0.84585977 0.83047904 0.82581487 0.83170062\n",
      " 0.83986295 0.83692008 0.83869687 0.8340327  0.83608714 0.82004012\n",
      " 0.81976247 0.83153404 0.83158954 0.83714215 0.85096815 0.8752885\n",
      " 0.89016952 0.89277925 0.89494476 0.89788763 0.86940276 0.88844822\n",
      " 0.91654438 0.91360151 0.90799333 0.89733234 0.91665546 0.94919363\n",
      " 0.97084883 0.96796146 0.99511368 0.97451357 0.96668438 0.99428082\n",
      " 0.95519046 0.94897156 0.94125345 0.95924391 0.97395828 0.97751194\n",
      " 1.         0.99422524 0.99472504 0.98817293 0.98467484 0.93570918\n",
      " 0.90065169 0.86282539 0.82684952 0.79405755]\n",
      "5 day output [[0.7646402]]\n",
      "6 day input [0.81326594 0.82153934 0.82997933 0.82947953 0.82248328 0.8179301\n",
      " 0.82381593 0.84891364 0.84175082 0.84552655 0.85185651 0.85546575\n",
      " 0.86873647 0.85996335 0.85418867 0.82587037 0.82909089 0.82115062\n",
      " 0.82620351 0.82487085 0.80971228 0.79238818 0.7951089  0.80854627\n",
      " 0.8139878  0.81448751 0.80588096 0.78666901 0.79177739 0.78439242\n",
      " 0.79077788 0.77128827 0.78222691 0.78716872 0.79433154 0.79216603\n",
      " 0.79166632 0.78444792 0.7811164  0.79694127 0.80293809 0.81243308\n",
      " 0.82470429 0.82748059 0.82870217 0.82431564 0.824038   0.82781381\n",
      " 0.82520408 0.84585977 0.83047904 0.82581487 0.83170062 0.83986295\n",
      " 0.83692008 0.83869687 0.8340327  0.83608714 0.82004012 0.81976247\n",
      " 0.83153404 0.83158954 0.83714215 0.85096815 0.8752885  0.89016952\n",
      " 0.89277925 0.89494476 0.89788763 0.86940276 0.88844822 0.91654438\n",
      " 0.91360151 0.90799333 0.89733234 0.91665546 0.94919363 0.97084883\n",
      " 0.96796146 0.99511368 0.97451357 0.96668438 0.99428082 0.95519046\n",
      " 0.94897156 0.94125345 0.95924391 0.97395828 0.97751194 1.\n",
      " 0.99422524 0.99472504 0.98817293 0.98467484 0.93570918 0.90065169\n",
      " 0.86282539 0.82684952 0.79405755 0.76464021]\n",
      "6 day output [[0.7381261]]\n",
      "7 day input [0.82153934 0.82997933 0.82947953 0.82248328 0.8179301  0.82381593\n",
      " 0.84891364 0.84175082 0.84552655 0.85185651 0.85546575 0.86873647\n",
      " 0.85996335 0.85418867 0.82587037 0.82909089 0.82115062 0.82620351\n",
      " 0.82487085 0.80971228 0.79238818 0.7951089  0.80854627 0.8139878\n",
      " 0.81448751 0.80588096 0.78666901 0.79177739 0.78439242 0.79077788\n",
      " 0.77128827 0.78222691 0.78716872 0.79433154 0.79216603 0.79166632\n",
      " 0.78444792 0.7811164  0.79694127 0.80293809 0.81243308 0.82470429\n",
      " 0.82748059 0.82870217 0.82431564 0.824038   0.82781381 0.82520408\n",
      " 0.84585977 0.83047904 0.82581487 0.83170062 0.83986295 0.83692008\n",
      " 0.83869687 0.8340327  0.83608714 0.82004012 0.81976247 0.83153404\n",
      " 0.83158954 0.83714215 0.85096815 0.8752885  0.89016952 0.89277925\n",
      " 0.89494476 0.89788763 0.86940276 0.88844822 0.91654438 0.91360151\n",
      " 0.90799333 0.89733234 0.91665546 0.94919363 0.97084883 0.96796146\n",
      " 0.99511368 0.97451357 0.96668438 0.99428082 0.95519046 0.94897156\n",
      " 0.94125345 0.95924391 0.97395828 0.97751194 1.         0.99422524\n",
      " 0.99472504 0.98817293 0.98467484 0.93570918 0.90065169 0.86282539\n",
      " 0.82684952 0.79405755 0.76464021 0.7381261 ]\n",
      "7 day output [[0.7137588]]\n",
      "8 day input [0.82997933 0.82947953 0.82248328 0.8179301  0.82381593 0.84891364\n",
      " 0.84175082 0.84552655 0.85185651 0.85546575 0.86873647 0.85996335\n",
      " 0.85418867 0.82587037 0.82909089 0.82115062 0.82620351 0.82487085\n",
      " 0.80971228 0.79238818 0.7951089  0.80854627 0.8139878  0.81448751\n",
      " 0.80588096 0.78666901 0.79177739 0.78439242 0.79077788 0.77128827\n",
      " 0.78222691 0.78716872 0.79433154 0.79216603 0.79166632 0.78444792\n",
      " 0.7811164  0.79694127 0.80293809 0.81243308 0.82470429 0.82748059\n",
      " 0.82870217 0.82431564 0.824038   0.82781381 0.82520408 0.84585977\n",
      " 0.83047904 0.82581487 0.83170062 0.83986295 0.83692008 0.83869687\n",
      " 0.8340327  0.83608714 0.82004012 0.81976247 0.83153404 0.83158954\n",
      " 0.83714215 0.85096815 0.8752885  0.89016952 0.89277925 0.89494476\n",
      " 0.89788763 0.86940276 0.88844822 0.91654438 0.91360151 0.90799333\n",
      " 0.89733234 0.91665546 0.94919363 0.97084883 0.96796146 0.99511368\n",
      " 0.97451357 0.96668438 0.99428082 0.95519046 0.94897156 0.94125345\n",
      " 0.95924391 0.97395828 0.97751194 1.         0.99422524 0.99472504\n",
      " 0.98817293 0.98467484 0.93570918 0.90065169 0.86282539 0.82684952\n",
      " 0.79405755 0.76464021 0.7381261  0.71375883]\n",
      "8 day output [[0.6907678]]\n",
      "9 day input [0.82947953 0.82248328 0.8179301  0.82381593 0.84891364 0.84175082\n",
      " 0.84552655 0.85185651 0.85546575 0.86873647 0.85996335 0.85418867\n",
      " 0.82587037 0.82909089 0.82115062 0.82620351 0.82487085 0.80971228\n",
      " 0.79238818 0.7951089  0.80854627 0.8139878  0.81448751 0.80588096\n",
      " 0.78666901 0.79177739 0.78439242 0.79077788 0.77128827 0.78222691\n",
      " 0.78716872 0.79433154 0.79216603 0.79166632 0.78444792 0.7811164\n",
      " 0.79694127 0.80293809 0.81243308 0.82470429 0.82748059 0.82870217\n",
      " 0.82431564 0.824038   0.82781381 0.82520408 0.84585977 0.83047904\n",
      " 0.82581487 0.83170062 0.83986295 0.83692008 0.83869687 0.8340327\n",
      " 0.83608714 0.82004012 0.81976247 0.83153404 0.83158954 0.83714215\n",
      " 0.85096815 0.8752885  0.89016952 0.89277925 0.89494476 0.89788763\n",
      " 0.86940276 0.88844822 0.91654438 0.91360151 0.90799333 0.89733234\n",
      " 0.91665546 0.94919363 0.97084883 0.96796146 0.99511368 0.97451357\n",
      " 0.96668438 0.99428082 0.95519046 0.94897156 0.94125345 0.95924391\n",
      " 0.97395828 0.97751194 1.         0.99422524 0.99472504 0.98817293\n",
      " 0.98467484 0.93570918 0.90065169 0.86282539 0.82684952 0.79405755\n",
      " 0.76464021 0.7381261  0.71375883 0.69076782]\n"
     ]
    },
    {
     "name": "stdout",
     "output_type": "stream",
     "text": [
      "9 day output [[0.66853344]]\n",
      "[[0.9357091784477234], [0.9006516933441162], [0.8628253936767578], [0.8268495202064514], [0.7940575480461121], [0.764640212059021], [0.7381260991096497], [0.7137588262557983], [0.6907678246498108], [0.668533444404602]]\n"
     ]
    }
   ],
   "source": [
    "# demonstrate prediction for next 30 days\n",
    "\n",
    "lst_output=[]\n",
    "n_steps=100\n",
    "i=0\n",
    "while(i<10):\n",
    "    \n",
    "    if(len(temp_input)>100):\n",
    "        #print(temp_input)\n",
    "        x_input=np.array(temp_input[1:])\n",
    "        print(\"{} day input {}\".format(i,x_input))\n",
    "        x_input=x_input.reshape(1,-1)\n",
    "        x_input = x_input.reshape((1, n_steps, 1))\n",
    "        #print(x_input)\n",
    "\n",
    "        yhat = model.predict(x_input, verbose=0)\n",
    "        print(\"{} day output {}\".format(i,yhat))\n",
    "        temp_input.extend(yhat[0].tolist())\n",
    "        temp_input=temp_input[1:]\n",
    "        #print(temp_input)\n",
    "\n",
    "        lst_output.extend(yhat.tolist())\n",
    "        i=i+1\n",
    "    else:\n",
    "        x_input = x_input.reshape((1, n_steps,1))\n",
    "        yhat = model.predict(x_input, verbose=0)\n",
    "        print(yhat[0])\n",
    "        temp_input.extend(yhat[0].tolist())\n",
    "        print(len(temp_input))\n",
    "        lst_output.extend(yhat.tolist())\n",
    "        i=i+1\n",
    "    \n",
    "\n",
    "print(lst_output)"
   ]
  },
  {
   "cell_type": "code",
   "execution_count": 37,
   "metadata": {
    "executionInfo": {
     "elapsed": 601,
     "status": "ok",
     "timestamp": 1662654262835,
     "user": {
      "displayName": "Abhiyantraka",
      "userId": "08575671547903053425"
     },
     "user_tz": -345
    },
    "id": "r_j5hK5H044W"
   },
   "outputs": [],
   "source": [
    "day_new=np.arange(1,101)\n",
    "day_pred=np.arange(101,131)"
   ]
  },
  {
   "cell_type": "code",
   "execution_count": 38,
   "metadata": {
    "colab": {
     "base_uri": "https://localhost:8080/"
    },
    "executionInfo": {
     "elapsed": 589,
     "status": "ok",
     "timestamp": 1662654271992,
     "user": {
      "displayName": "Abhiyantraka",
      "userId": "08575671547903053425"
     },
     "user_tz": -345
    },
    "id": "83QjeA966qlM",
    "outputId": "f201a231-bbca-4e68-9cdd-91f46b31716c"
   },
   "outputs": [
    {
     "data": {
      "text/plain": [
       "5536"
      ]
     },
     "execution_count": 38,
     "metadata": {},
     "output_type": "execute_result"
    }
   ],
   "source": [
    "len(df1)\n"
   ]
  },
  {
   "cell_type": "code",
   "execution_count": 44,
   "metadata": {
    "colab": {
     "base_uri": "https://localhost:8080/",
     "height": 282
    },
    "executionInfo": {
     "elapsed": 815,
     "status": "ok",
     "timestamp": 1662654336564,
     "user": {
      "displayName": "Abhiyantraka",
      "userId": "08575671547903053425"
     },
     "user_tz": -345
    },
    "id": "J0JxiaG56s0U",
    "outputId": "5d15c817-865b-41f0-95e9-c32084e6a2f8"
   },
   "outputs": [],
   "source": [
    "# plt.plot(day_new,scaler.inverse_transform(df1[5436:]))   # last 100 day \n",
    "# plt.plot(day_pred,scaler.inverse_transform(lst_output))"
   ]
  },
  {
   "cell_type": "code",
   "execution_count": 72,
   "metadata": {
    "colab": {
     "base_uri": "https://localhost:8080/",
     "height": 282
    },
    "executionInfo": {
     "elapsed": 2314,
     "status": "ok",
     "timestamp": 1662655478148,
     "user": {
      "displayName": "Abhiyantraka",
      "userId": "08575671547903053425"
     },
     "user_tz": -345
    },
    "id": "b_FJ6_Uc68h0",
    "outputId": "28d5c23c-c185-4b89-ae43-1e140fe19211"
   },
   "outputs": [
    {
     "data": {
      "text/plain": [
       "[<matplotlib.lines.Line2D at 0x1a4636f2cd0>]"
      ]
     },
     "execution_count": 72,
     "metadata": {},
     "output_type": "execute_result"
    },
    {
     "data": {
      "image/png": "[encoded data removed]",
      "text/plain": [
       "<Figure size 432x288 with 1 Axes>"
      ]
     },
     "metadata": {
      "needs_background": "light"
     },
     "output_type": "display_data"
    }
   ],
   "source": [
    "df3=df1.tolist()\n",
    "df3.extend(lst_output)\n",
    "plt.plot(df3[1200:])"
   ]
  },
  {
   "cell_type": "code",
   "execution_count": 73,
   "metadata": {
    "executionInfo": {
     "elapsed": 4,
     "status": "ok",
     "timestamp": 1662655492632,
     "user": {
      "displayName": "Abhiyantraka",
      "userId": "08575671547903053425"
     },
     "user_tz": -345
    },
    "id": "Lmm40_s0_SkQ"
   },
   "outputs": [],
   "source": [
    "df3=scaler.inverse_transform(df3).tolist()\n"
   ]
  },
  {
   "cell_type": "code",
   "execution_count": 74,
   "metadata": {
    "colab": {
     "base_uri": "https://localhost:8080/",
     "height": 282
    },
    "executionInfo": {
     "elapsed": 1286,
     "status": "ok",
     "timestamp": 1662655506294,
     "user": {
      "displayName": "Abhiyantraka",
      "userId": "08575671547903053425"
     },
     "user_tz": -345
    },
    "id": "uHiLNVxK_WqJ",
    "outputId": "0597dd04-db70-4a11-abcb-15489abfc661"
   },
   "outputs": [
    {
     "data": {
      "text/plain": [
       "[<matplotlib.lines.Line2D at 0x1a4636b5d00>]"
      ]
     },
     "execution_count": 74,
     "metadata": {},
     "output_type": "execute_result"
    },
    {
     "data": {
      "image/png": "[encoded data removed]",
      "text/plain": [
       "<Figure size 432x288 with 1 Axes>"
      ]
     },
     "metadata": {
      "needs_background": "light"
     },
     "output_type": "display_data"
    }
   ],
   "source": [
    "plt.plot(df3)\n"
   ]
  },
  {
   "cell_type": "code",
   "execution_count": null,
   "metadata": {
    "id": "aSlGZmhg_Z7z"
   },
   "outputs": [],
   "source": []
  },
  {
   "cell_type": "code",
   "execution_count": null,
   "metadata": {},
   "outputs": [],
   "source": []
  }
 ],
 "metadata": {
  "accelerator": "GPU",
  "colab": {
   "authorship_tag": "ABX9TyOQRZntzqR+VN6yvk667KDe",
   "collapsed_sections": [],
   "mount_file_id": "1H_EbgVwn3ks3qn03FblD5m49UXc70tyN",
   "provenance": []
  },
  "gpuClass": "standard",
  "kernelspec": {
   "display_name": "Python 3 (ipykernel)",
   "language": "python",
   "name": "python3"
  },
  "language_info": {
   "codemirror_mode": {
    "name": "ipython",
    "version": 3
   },
   "file_extension": ".py",
   "mimetype": "text/x-python",
   "name": "python",
   "nbconvert_exporter": "python",
   "pygments_lexer": "ipython3",
   "version": "3.9.12"
  }
 },
 "nbformat": 4,
 "nbformat_minor": 1
}
