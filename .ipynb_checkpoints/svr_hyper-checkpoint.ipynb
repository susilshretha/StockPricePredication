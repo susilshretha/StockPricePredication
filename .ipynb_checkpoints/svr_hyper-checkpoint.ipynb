{
 "cells": [
  {
   "cell_type": "code",
   "execution_count": 23,
   "id": "37810464",
   "metadata": {
    "id": "37810464"
   },
   "outputs": [],
   "source": [
    "import pandas as pd\n",
    "import numpy as np\n",
    "from datetime import datetime as dt\n",
    "import plotly.graph_objs as go\n",
    "import plotly.express as px\n",
    "# model\n",
    "#from model import prediction\n",
    "from sklearn.model_selection import train_test_split\n",
    "from sklearn.model_selection import GridSearchCV\n",
    "from sklearn.svm import SVR\n",
    "from datetime import date, timedelta\n"
   ]
  },
  {
   "cell_type": "code",
   "execution_count": 42,
   "id": "cd130edd",
   "metadata": {
    "colab": {
     "base_uri": "https://localhost:8080/",
     "height": 424
    },
    "id": "cd130edd",
    "outputId": "b759fd9c-62f3-42ac-b01b-7acc357aedd7"
   },
   "outputs": [
    {
     "data": {
      "text/html": [
       "<div>\n",
       "<style scoped>\n",
       "    .dataframe tbody tr th:only-of-type {\n",
       "        vertical-align: middle;\n",
       "    }\n",
       "\n",
       "    .dataframe tbody tr th {\n",
       "        vertical-align: top;\n",
       "    }\n",
       "\n",
       "    .dataframe thead th {\n",
       "        text-align: right;\n",
       "    }\n",
       "</style>\n",
       "<table border=\"1\" class=\"dataframe\">\n",
       "  <thead>\n",
       "    <tr style=\"text-align: right;\">\n",
       "      <th></th>\n",
       "      <th>Date</th>\n",
       "      <th>Open</th>\n",
       "      <th>High</th>\n",
       "      <th>Low</th>\n",
       "      <th>eps</th>\n",
       "      <th>pe</th>\n",
       "      <th>InRate</th>\n",
       "      <th>InfRate</th>\n",
       "      <th>Close</th>\n",
       "      <th>Adj Close</th>\n",
       "      <th>Volume</th>\n",
       "    </tr>\n",
       "  </thead>\n",
       "  <tbody>\n",
       "    <tr>\n",
       "      <th>0</th>\n",
       "      <td>1/3/2000</td>\n",
       "      <td>0.936384</td>\n",
       "      <td>1.004464</td>\n",
       "      <td>0.907924</td>\n",
       "      <td>0.310000</td>\n",
       "      <td>20.770000</td>\n",
       "      <td>3.411051</td>\n",
       "      <td>1.760000</td>\n",
       "      <td>0.999442</td>\n",
       "      <td>0.853355</td>\n",
       "      <td>535796800</td>\n",
       "    </tr>\n",
       "    <tr>\n",
       "      <th>1</th>\n",
       "      <td>1/4/2000</td>\n",
       "      <td>0.966518</td>\n",
       "      <td>0.987723</td>\n",
       "      <td>0.903460</td>\n",
       "      <td>0.188723</td>\n",
       "      <td>21.050533</td>\n",
       "      <td>2.796146</td>\n",
       "      <td>2.488276</td>\n",
       "      <td>0.915179</td>\n",
       "      <td>0.781409</td>\n",
       "      <td>512377600</td>\n",
       "    </tr>\n",
       "    <tr>\n",
       "      <th>2</th>\n",
       "      <td>1/5/2000</td>\n",
       "      <td>0.926339</td>\n",
       "      <td>0.987165</td>\n",
       "      <td>0.919643</td>\n",
       "      <td>0.189153</td>\n",
       "      <td>21.045239</td>\n",
       "      <td>2.795518</td>\n",
       "      <td>2.488011</td>\n",
       "      <td>0.928571</td>\n",
       "      <td>0.792844</td>\n",
       "      <td>778321600</td>\n",
       "    </tr>\n",
       "    <tr>\n",
       "      <th>3</th>\n",
       "      <td>1/6/2000</td>\n",
       "      <td>0.947545</td>\n",
       "      <td>0.955357</td>\n",
       "      <td>0.848214</td>\n",
       "      <td>0.189583</td>\n",
       "      <td>21.039946</td>\n",
       "      <td>2.794891</td>\n",
       "      <td>2.487746</td>\n",
       "      <td>0.848214</td>\n",
       "      <td>0.724232</td>\n",
       "      <td>767972800</td>\n",
       "    </tr>\n",
       "    <tr>\n",
       "      <th>4</th>\n",
       "      <td>1/7/2000</td>\n",
       "      <td>0.861607</td>\n",
       "      <td>0.901786</td>\n",
       "      <td>0.852679</td>\n",
       "      <td>0.190012</td>\n",
       "      <td>21.034654</td>\n",
       "      <td>2.794264</td>\n",
       "      <td>2.487482</td>\n",
       "      <td>0.888393</td>\n",
       "      <td>0.758538</td>\n",
       "      <td>460734400</td>\n",
       "    </tr>\n",
       "    <tr>\n",
       "      <th>...</th>\n",
       "      <td>...</td>\n",
       "      <td>...</td>\n",
       "      <td>...</td>\n",
       "      <td>...</td>\n",
       "      <td>...</td>\n",
       "      <td>...</td>\n",
       "      <td>...</td>\n",
       "      <td>...</td>\n",
       "      <td>...</td>\n",
       "      <td>...</td>\n",
       "      <td>...</td>\n",
       "    </tr>\n",
       "    <tr>\n",
       "      <th>5531</th>\n",
       "      <td>12/27/2021</td>\n",
       "      <td>177.089996</td>\n",
       "      <td>180.419998</td>\n",
       "      <td>177.070007</td>\n",
       "      <td>1.582562</td>\n",
       "      <td>10.786384</td>\n",
       "      <td>0.520334</td>\n",
       "      <td>1.977604</td>\n",
       "      <td>180.330002</td>\n",
       "      <td>179.586868</td>\n",
       "      <td>74919600</td>\n",
       "    </tr>\n",
       "    <tr>\n",
       "      <th>5532</th>\n",
       "      <td>12/28/2021</td>\n",
       "      <td>180.160004</td>\n",
       "      <td>181.330002</td>\n",
       "      <td>178.529999</td>\n",
       "      <td>1.582636</td>\n",
       "      <td>10.787788</td>\n",
       "      <td>0.520138</td>\n",
       "      <td>1.977684</td>\n",
       "      <td>179.289993</td>\n",
       "      <td>178.551132</td>\n",
       "      <td>79144300</td>\n",
       "    </tr>\n",
       "    <tr>\n",
       "      <th>5533</th>\n",
       "      <td>12/29/2021</td>\n",
       "      <td>179.330002</td>\n",
       "      <td>180.630005</td>\n",
       "      <td>178.139999</td>\n",
       "      <td>1.582711</td>\n",
       "      <td>10.789193</td>\n",
       "      <td>0.519943</td>\n",
       "      <td>1.977764</td>\n",
       "      <td>179.380005</td>\n",
       "      <td>178.640778</td>\n",
       "      <td>62348900</td>\n",
       "    </tr>\n",
       "    <tr>\n",
       "      <th>5534</th>\n",
       "      <td>12/30/2021</td>\n",
       "      <td>179.470001</td>\n",
       "      <td>180.570007</td>\n",
       "      <td>178.089996</td>\n",
       "      <td>1.582785</td>\n",
       "      <td>10.790599</td>\n",
       "      <td>0.519747</td>\n",
       "      <td>1.977845</td>\n",
       "      <td>178.199997</td>\n",
       "      <td>177.465637</td>\n",
       "      <td>59773000</td>\n",
       "    </tr>\n",
       "    <tr>\n",
       "      <th>5535</th>\n",
       "      <td>12/31/2021</td>\n",
       "      <td>178.089996</td>\n",
       "      <td>179.229996</td>\n",
       "      <td>177.259995</td>\n",
       "      <td>1.582859</td>\n",
       "      <td>10.792005</td>\n",
       "      <td>0.519552</td>\n",
       "      <td>1.977925</td>\n",
       "      <td>177.570007</td>\n",
       "      <td>176.838242</td>\n",
       "      <td>64062300</td>\n",
       "    </tr>\n",
       "  </tbody>\n",
       "</table>\n",
       "<p>5536 rows × 11 columns</p>\n",
       "</div>"
      ],
      "text/plain": [
       "            Date        Open        High         Low       eps         pe  \\\n",
       "0       1/3/2000    0.936384    1.004464    0.907924  0.310000  20.770000   \n",
       "1       1/4/2000    0.966518    0.987723    0.903460  0.188723  21.050533   \n",
       "2       1/5/2000    0.926339    0.987165    0.919643  0.189153  21.045239   \n",
       "3       1/6/2000    0.947545    0.955357    0.848214  0.189583  21.039946   \n",
       "4       1/7/2000    0.861607    0.901786    0.852679  0.190012  21.034654   \n",
       "...          ...         ...         ...         ...       ...        ...   \n",
       "5531  12/27/2021  177.089996  180.419998  177.070007  1.582562  10.786384   \n",
       "5532  12/28/2021  180.160004  181.330002  178.529999  1.582636  10.787788   \n",
       "5533  12/29/2021  179.330002  180.630005  178.139999  1.582711  10.789193   \n",
       "5534  12/30/2021  179.470001  180.570007  178.089996  1.582785  10.790599   \n",
       "5535  12/31/2021  178.089996  179.229996  177.259995  1.582859  10.792005   \n",
       "\n",
       "        InRate   InfRate       Close   Adj Close     Volume  \n",
       "0     3.411051  1.760000    0.999442    0.853355  535796800  \n",
       "1     2.796146  2.488276    0.915179    0.781409  512377600  \n",
       "2     2.795518  2.488011    0.928571    0.792844  778321600  \n",
       "3     2.794891  2.487746    0.848214    0.724232  767972800  \n",
       "4     2.794264  2.487482    0.888393    0.758538  460734400  \n",
       "...        ...       ...         ...         ...        ...  \n",
       "5531  0.520334  1.977604  180.330002  179.586868   74919600  \n",
       "5532  0.520138  1.977684  179.289993  178.551132   79144300  \n",
       "5533  0.519943  1.977764  179.380005  178.640778   62348900  \n",
       "5534  0.519747  1.977845  178.199997  177.465637   59773000  \n",
       "5535  0.519552  1.977925  177.570007  176.838242   64062300  \n",
       "\n",
       "[5536 rows x 11 columns]"
      ]
     },
     "execution_count": 42,
     "metadata": {},
     "output_type": "execute_result"
    }
   ],
   "source": [
    "## load the data\n",
    "\n",
    "df=pd.read_csv('AAPL-Final.csv')\n",
    "df\n"
   ]
  },
  {
   "cell_type": "code",
   "execution_count": 43,
   "id": "Duoe6G3Ln3Mz",
   "metadata": {
    "id": "Duoe6G3Ln3Mz"
   },
   "outputs": [],
   "source": [
    "# from google.colab import drive\n",
    "# drive.mount('/content/drive')"
   ]
  },
  {
   "cell_type": "code",
   "execution_count": 44,
   "id": "31fc473e",
   "metadata": {
    "colab": {
     "base_uri": "https://localhost:8080/",
     "height": 238
    },
    "id": "31fc473e",
    "outputId": "caa422dd-94cd-4869-8d60-7e52bb56b641"
   },
   "outputs": [
    {
     "data": {
      "text/html": [
       "<div>\n",
       "<style scoped>\n",
       "    .dataframe tbody tr th:only-of-type {\n",
       "        vertical-align: middle;\n",
       "    }\n",
       "\n",
       "    .dataframe tbody tr th {\n",
       "        vertical-align: top;\n",
       "    }\n",
       "\n",
       "    .dataframe thead th {\n",
       "        text-align: right;\n",
       "    }\n",
       "</style>\n",
       "<table border=\"1\" class=\"dataframe\">\n",
       "  <thead>\n",
       "    <tr style=\"text-align: right;\">\n",
       "      <th></th>\n",
       "      <th>Open</th>\n",
       "      <th>High</th>\n",
       "      <th>Low</th>\n",
       "      <th>eps</th>\n",
       "      <th>pe</th>\n",
       "      <th>InRate</th>\n",
       "      <th>InfRate</th>\n",
       "      <th>Close</th>\n",
       "      <th>Adj Close</th>\n",
       "      <th>Volume</th>\n",
       "    </tr>\n",
       "    <tr>\n",
       "      <th>Date</th>\n",
       "      <th></th>\n",
       "      <th></th>\n",
       "      <th></th>\n",
       "      <th></th>\n",
       "      <th></th>\n",
       "      <th></th>\n",
       "      <th></th>\n",
       "      <th></th>\n",
       "      <th></th>\n",
       "      <th></th>\n",
       "    </tr>\n",
       "  </thead>\n",
       "  <tbody>\n",
       "    <tr>\n",
       "      <th>1/3/2000</th>\n",
       "      <td>0.936384</td>\n",
       "      <td>1.004464</td>\n",
       "      <td>0.907924</td>\n",
       "      <td>0.310000</td>\n",
       "      <td>20.770000</td>\n",
       "      <td>3.411051</td>\n",
       "      <td>1.760000</td>\n",
       "      <td>0.999442</td>\n",
       "      <td>0.853355</td>\n",
       "      <td>535796800</td>\n",
       "    </tr>\n",
       "    <tr>\n",
       "      <th>1/4/2000</th>\n",
       "      <td>0.966518</td>\n",
       "      <td>0.987723</td>\n",
       "      <td>0.903460</td>\n",
       "      <td>0.188723</td>\n",
       "      <td>21.050533</td>\n",
       "      <td>2.796146</td>\n",
       "      <td>2.488276</td>\n",
       "      <td>0.915179</td>\n",
       "      <td>0.781409</td>\n",
       "      <td>512377600</td>\n",
       "    </tr>\n",
       "    <tr>\n",
       "      <th>1/5/2000</th>\n",
       "      <td>0.926339</td>\n",
       "      <td>0.987165</td>\n",
       "      <td>0.919643</td>\n",
       "      <td>0.189153</td>\n",
       "      <td>21.045239</td>\n",
       "      <td>2.795518</td>\n",
       "      <td>2.488011</td>\n",
       "      <td>0.928571</td>\n",
       "      <td>0.792844</td>\n",
       "      <td>778321600</td>\n",
       "    </tr>\n",
       "    <tr>\n",
       "      <th>1/6/2000</th>\n",
       "      <td>0.947545</td>\n",
       "      <td>0.955357</td>\n",
       "      <td>0.848214</td>\n",
       "      <td>0.189583</td>\n",
       "      <td>21.039946</td>\n",
       "      <td>2.794891</td>\n",
       "      <td>2.487746</td>\n",
       "      <td>0.848214</td>\n",
       "      <td>0.724232</td>\n",
       "      <td>767972800</td>\n",
       "    </tr>\n",
       "    <tr>\n",
       "      <th>1/7/2000</th>\n",
       "      <td>0.861607</td>\n",
       "      <td>0.901786</td>\n",
       "      <td>0.852679</td>\n",
       "      <td>0.190012</td>\n",
       "      <td>21.034654</td>\n",
       "      <td>2.794264</td>\n",
       "      <td>2.487482</td>\n",
       "      <td>0.888393</td>\n",
       "      <td>0.758538</td>\n",
       "      <td>460734400</td>\n",
       "    </tr>\n",
       "  </tbody>\n",
       "</table>\n",
       "</div>"
      ],
      "text/plain": [
       "              Open      High       Low       eps         pe    InRate  \\\n",
       "Date                                                                    \n",
       "1/3/2000  0.936384  1.004464  0.907924  0.310000  20.770000  3.411051   \n",
       "1/4/2000  0.966518  0.987723  0.903460  0.188723  21.050533  2.796146   \n",
       "1/5/2000  0.926339  0.987165  0.919643  0.189153  21.045239  2.795518   \n",
       "1/6/2000  0.947545  0.955357  0.848214  0.189583  21.039946  2.794891   \n",
       "1/7/2000  0.861607  0.901786  0.852679  0.190012  21.034654  2.794264   \n",
       "\n",
       "           InfRate     Close  Adj Close     Volume  \n",
       "Date                                                \n",
       "1/3/2000  1.760000  0.999442   0.853355  535796800  \n",
       "1/4/2000  2.488276  0.915179   0.781409  512377600  \n",
       "1/5/2000  2.488011  0.928571   0.792844  778321600  \n",
       "1/6/2000  2.487746  0.848214   0.724232  767972800  \n",
       "1/7/2000  2.487482  0.888393   0.758538  460734400  "
      ]
     },
     "execution_count": 44,
     "metadata": {},
     "output_type": "execute_result"
    }
   ],
   "source": [
    "df.set_index(\"Date\", inplace=True)\n",
    "df.head()"
   ]
  },
  {
   "cell_type": "code",
   "execution_count": 45,
   "id": "eba166c2",
   "metadata": {
    "colab": {
     "base_uri": "https://localhost:8080/"
    },
    "id": "eba166c2",
    "outputId": "a9aaeb43-efa6-4a27-dccc-213e59d253cc"
   },
   "outputs": [
    {
     "data": {
      "text/plain": [
       "dtype('float64')"
      ]
     },
     "execution_count": 45,
     "metadata": {},
     "output_type": "execute_result"
    }
   ],
   "source": [
    "df['Close'].dtypes"
   ]
  },
  {
   "cell_type": "code",
   "execution_count": 46,
   "id": "i51MWAmLossq",
   "metadata": {
    "colab": {
     "base_uri": "https://localhost:8080/"
    },
    "id": "i51MWAmLossq",
    "outputId": "3567b335-28a3-4d7e-e4fe-cb5337ecaf64"
   },
   "outputs": [
    {
     "data": {
      "text/plain": [
       "Date\n",
       "1/3/2000    0.999442\n",
       "1/4/2000    0.915179\n",
       "1/5/2000    0.928571\n",
       "1/6/2000    0.848214\n",
       "1/7/2000    0.888393\n",
       "Name: Close, dtype: float64"
      ]
     },
     "execution_count": 46,
     "metadata": {},
     "output_type": "execute_result"
    }
   ],
   "source": [
    "df[\"Close\"].head()"
   ]
  },
  {
   "cell_type": "code",
   "execution_count": 47,
   "id": "edd7858d",
   "metadata": {
    "id": "edd7858d"
   },
   "outputs": [],
   "source": [
    "df[\"Close\"] = df[\"Close\"].astype(str).str.replace(\",\",\"\")\n",
    "close = df[\"Close\"].apply(lambda x: float(x))\n",
    "df[\"Close\"]=df[\"Close\"].apply(pd.to_numeric)"
   ]
  },
  {
   "cell_type": "code",
   "execution_count": 48,
   "id": "RZmm2HeBo8SQ",
   "metadata": {
    "id": "RZmm2HeBo8SQ"
   },
   "outputs": [],
   "source": [
    "df[\"Open\"] = df[\"Open\"].astype(str).str.replace(\",\",\"\")\n",
    "open = df[\"Close\"].apply(lambda x: float(x))"
   ]
  },
  {
   "cell_type": "code",
   "execution_count": 49,
   "id": "943PKgfZ6ehY",
   "metadata": {
    "id": "943PKgfZ6ehY"
   },
   "outputs": [],
   "source": [
    "df[\"High\"] = df[\"High\"].astype(str).str.replace(\",\",\"\")\n",
    "high = df[\"High\"].apply(lambda x: float(x))"
   ]
  },
  {
   "cell_type": "code",
   "execution_count": 50,
   "id": "DpaJwTzQpaGU",
   "metadata": {
    "id": "DpaJwTzQpaGU"
   },
   "outputs": [],
   "source": [
    "df[\"Low\"] = df[\"Low\"].astype(str).str.replace(\",\",\"\")\n",
    "low = df[\"Low\"].apply(lambda x: float(x))"
   ]
  },
  {
   "cell_type": "code",
   "execution_count": 51,
   "id": "2b5EIhWSsHrZ",
   "metadata": {
    "id": "2b5EIhWSsHrZ"
   },
   "outputs": [],
   "source": [
    "df[\"Adj Close\"] = df[\"Adj Close\"].astype(str).str.replace(\",\",\"\")\n",
    "adjclose = df[\"Adj Close\"].apply(lambda x: float(x))"
   ]
  },
  {
   "cell_type": "code",
   "execution_count": 52,
   "id": "WWenLBxLsRe3",
   "metadata": {
    "colab": {
     "base_uri": "https://localhost:8080/",
     "height": 680
    },
    "id": "WWenLBxLsRe3",
    "outputId": "aa4645ca-9d60-4d88-c3d8-dd2a6ef8079f"
   },
   "outputs": [
    {
     "data": {
      "image/png": "[encoded data removed]",
      "text/plain": [
       "<Figure size 1008x576 with 1 Axes>"
      ]
     },
     "metadata": {
      "needs_background": "light"
     },
     "output_type": "display_data"
    }
   ],
   "source": [
    "import matplotlib.pyplot as plt\n",
    "df['Close'].plot(figsize=(14,8))\n",
    "plt.ylabel(\"Closing Price\")\n",
    "plt.show()"
   ]
  },
  {
   "cell_type": "markdown",
   "id": "HHyBO3cjsm_J",
   "metadata": {
    "id": "HHyBO3cjsm_J"
   },
   "source": [
    "Data Preprocessing"
   ]
  },
  {
   "cell_type": "code",
   "execution_count": 53,
   "id": "Ha-xEcIyse71",
   "metadata": {
    "colab": {
     "base_uri": "https://localhost:8080/"
    },
    "id": "Ha-xEcIyse71",
    "outputId": "4245a59c-462c-4bf0-b60c-d4f61b05828f"
   },
   "outputs": [
    {
     "data": {
      "text/plain": [
       "Open         0\n",
       "High         0\n",
       "Low          0\n",
       "eps          0\n",
       "pe           0\n",
       "InRate       0\n",
       "InfRate      0\n",
       "Close        0\n",
       "Adj Close    0\n",
       "Volume       0\n",
       "dtype: int64"
      ]
     },
     "execution_count": 53,
     "metadata": {},
     "output_type": "execute_result"
    }
   ],
   "source": [
    "df.isna().sum() "
   ]
  },
  {
   "cell_type": "code",
   "execution_count": 54,
   "id": "95vZB4E3tura",
   "metadata": {
    "colab": {
     "base_uri": "https://localhost:8080/"
    },
    "id": "95vZB4E3tura",
    "outputId": "100107f7-0339-4162-9229-1ea3945fb3be"
   },
   "outputs": [
    {
     "data": {
      "text/plain": [
       "0.267857      6\n",
       "0.348214      6\n",
       "0.265179      5\n",
       "0.262500      4\n",
       "0.256429      4\n",
       "             ..\n",
       "3.478571      1\n",
       "3.638929      1\n",
       "3.498214      1\n",
       "3.717143      1\n",
       "177.570007    1\n",
       "Name: Close, Length: 5057, dtype: int64"
      ]
     },
     "execution_count": 54,
     "metadata": {},
     "output_type": "execute_result"
    }
   ],
   "source": [
    "df[\"Close\"].value_counts()"
   ]
  },
  {
   "cell_type": "code",
   "execution_count": 55,
   "id": "KNH2d4wgtzpV",
   "metadata": {
    "colab": {
     "base_uri": "https://localhost:8080/"
    },
    "id": "KNH2d4wgtzpV",
    "outputId": "c1916c43-eda9-4a27-b790-7bf7d6687a7e"
   },
   "outputs": [
    {
     "data": {
      "text/plain": [
       "Open        High        Low         eps       pe         InRate    InfRate   Close       Adj Close   Volume    \n",
       "0.231964    0.244107    0.230714    0.520628  17.162533  2.306215  2.291470  0.236429    0.201871    1016176000    1\n",
       "3.285357    3.357143    3.273214    0.861585  13.736580  1.787913  2.111005  3.352500    2.862472    686896000     1\n",
       "3.303929    3.327143    3.196429    0.837267  13.954909  1.687106  2.330000  3.197857    2.730433    1074836000    1\n",
       "3.301071    3.33        3.214643    0.986667  12.693451  1.592028  2.053108  3.218571    2.748118    1178976400    1\n",
       "3.293214    3.31        3.252143    0.838221  13.946249  1.824093  2.122413  3.273571    2.795079    870486400     1\n",
       "                                                                                                                  ..\n",
       "128.960007  129.100006  126.120003  1.561417  10.489156  0.572979  1.959141  126.660004  125.365196  192541500     1\n",
       "128.949997  130.389999  128.520004  1.567962  10.558083  0.557236  1.964058  130.360001  129.220169  88844600      1\n",
       "128.899994  129.580002  128.039993  1.561326  10.488323  0.573195  1.959077  128.699997  127.384323  94359800      1\n",
       "128.889999  131.740005  128.429993  1.562322  10.497625  0.570827  1.959785  131.009995  129.670715  97664900      1\n",
       "99.172501   99.25       96.7425     1.551429  10.415619  0.596276  1.952692  97.000000   95.670547   103433200     1\n",
       "Length: 5536, dtype: int64"
      ]
     },
     "execution_count": 55,
     "metadata": {},
     "output_type": "execute_result"
    }
   ],
   "source": [
    "df.value_counts()"
   ]
  },
  {
   "cell_type": "code",
   "execution_count": 56,
   "id": "knqHJAOdt6Ja",
   "metadata": {
    "colab": {
     "base_uri": "https://localhost:8080/",
     "height": 238
    },
    "id": "knqHJAOdt6Ja",
    "outputId": "355f3a80-7249-416d-a4ca-58045aaf369e"
   },
   "outputs": [
    {
     "data": {
      "text/html": [
       "<div>\n",
       "<style scoped>\n",
       "    .dataframe tbody tr th:only-of-type {\n",
       "        vertical-align: middle;\n",
       "    }\n",
       "\n",
       "    .dataframe tbody tr th {\n",
       "        vertical-align: top;\n",
       "    }\n",
       "\n",
       "    .dataframe thead th {\n",
       "        text-align: right;\n",
       "    }\n",
       "</style>\n",
       "<table border=\"1\" class=\"dataframe\">\n",
       "  <thead>\n",
       "    <tr style=\"text-align: right;\">\n",
       "      <th></th>\n",
       "      <th>Open</th>\n",
       "      <th>High</th>\n",
       "      <th>Low</th>\n",
       "      <th>eps</th>\n",
       "      <th>pe</th>\n",
       "      <th>InRate</th>\n",
       "      <th>InfRate</th>\n",
       "      <th>Close</th>\n",
       "      <th>Adj Close</th>\n",
       "      <th>Volume</th>\n",
       "    </tr>\n",
       "    <tr>\n",
       "      <th>Date</th>\n",
       "      <th></th>\n",
       "      <th></th>\n",
       "      <th></th>\n",
       "      <th></th>\n",
       "      <th></th>\n",
       "      <th></th>\n",
       "      <th></th>\n",
       "      <th></th>\n",
       "      <th></th>\n",
       "      <th></th>\n",
       "    </tr>\n",
       "  </thead>\n",
       "  <tbody>\n",
       "    <tr>\n",
       "      <th>1/3/2000</th>\n",
       "      <td>0.936384</td>\n",
       "      <td>1.004464</td>\n",
       "      <td>0.907924</td>\n",
       "      <td>0.310000</td>\n",
       "      <td>20.770000</td>\n",
       "      <td>3.411051</td>\n",
       "      <td>1.760000</td>\n",
       "      <td>0.999442</td>\n",
       "      <td>0.853355</td>\n",
       "      <td>535796800</td>\n",
       "    </tr>\n",
       "    <tr>\n",
       "      <th>1/4/2000</th>\n",
       "      <td>0.966518</td>\n",
       "      <td>0.987723</td>\n",
       "      <td>0.90346</td>\n",
       "      <td>0.188723</td>\n",
       "      <td>21.050533</td>\n",
       "      <td>2.796146</td>\n",
       "      <td>2.488276</td>\n",
       "      <td>0.915179</td>\n",
       "      <td>0.781409</td>\n",
       "      <td>512377600</td>\n",
       "    </tr>\n",
       "    <tr>\n",
       "      <th>1/5/2000</th>\n",
       "      <td>0.926339</td>\n",
       "      <td>0.987165</td>\n",
       "      <td>0.919643</td>\n",
       "      <td>0.189153</td>\n",
       "      <td>21.045239</td>\n",
       "      <td>2.795518</td>\n",
       "      <td>2.488011</td>\n",
       "      <td>0.928571</td>\n",
       "      <td>0.792844</td>\n",
       "      <td>778321600</td>\n",
       "    </tr>\n",
       "    <tr>\n",
       "      <th>1/6/2000</th>\n",
       "      <td>0.947545</td>\n",
       "      <td>0.955357</td>\n",
       "      <td>0.848214</td>\n",
       "      <td>0.189583</td>\n",
       "      <td>21.039946</td>\n",
       "      <td>2.794891</td>\n",
       "      <td>2.487746</td>\n",
       "      <td>0.848214</td>\n",
       "      <td>0.724232</td>\n",
       "      <td>767972800</td>\n",
       "    </tr>\n",
       "    <tr>\n",
       "      <th>1/7/2000</th>\n",
       "      <td>0.861607</td>\n",
       "      <td>0.901786</td>\n",
       "      <td>0.852679</td>\n",
       "      <td>0.190012</td>\n",
       "      <td>21.034654</td>\n",
       "      <td>2.794264</td>\n",
       "      <td>2.487482</td>\n",
       "      <td>0.888393</td>\n",
       "      <td>0.758538</td>\n",
       "      <td>460734400</td>\n",
       "    </tr>\n",
       "  </tbody>\n",
       "</table>\n",
       "</div>"
      ],
      "text/plain": [
       "              Open      High       Low       eps         pe    InRate  \\\n",
       "Date                                                                    \n",
       "1/3/2000  0.936384  1.004464  0.907924  0.310000  20.770000  3.411051   \n",
       "1/4/2000  0.966518  0.987723   0.90346  0.188723  21.050533  2.796146   \n",
       "1/5/2000  0.926339  0.987165  0.919643  0.189153  21.045239  2.795518   \n",
       "1/6/2000  0.947545  0.955357  0.848214  0.189583  21.039946  2.794891   \n",
       "1/7/2000  0.861607  0.901786  0.852679  0.190012  21.034654  2.794264   \n",
       "\n",
       "           InfRate     Close Adj Close     Volume  \n",
       "Date                                               \n",
       "1/3/2000  1.760000  0.999442  0.853355  535796800  \n",
       "1/4/2000  2.488276  0.915179  0.781409  512377600  \n",
       "1/5/2000  2.488011  0.928571  0.792844  778321600  \n",
       "1/6/2000  2.487746  0.848214  0.724232  767972800  \n",
       "1/7/2000  2.487482  0.888393  0.758538  460734400  "
      ]
     },
     "execution_count": 56,
     "metadata": {},
     "output_type": "execute_result"
    }
   ],
   "source": [
    "df.head()"
   ]
  },
  {
   "cell_type": "code",
   "execution_count": 57,
   "id": "55U6J7o8uCBj",
   "metadata": {
    "id": "55U6J7o8uCBj"
   },
   "outputs": [],
   "source": [
    "df.drop('Volume', axis=1, inplace=True)"
   ]
  },
  {
   "cell_type": "code",
   "execution_count": 58,
   "id": "F9IH771TuIyU",
   "metadata": {
    "colab": {
     "base_uri": "https://localhost:8080/",
     "height": 238
    },
    "id": "F9IH771TuIyU",
    "outputId": "72c94b42-e08e-43c5-beee-231d579a9638"
   },
   "outputs": [
    {
     "data": {
      "text/html": [
       "<div>\n",
       "<style scoped>\n",
       "    .dataframe tbody tr th:only-of-type {\n",
       "        vertical-align: middle;\n",
       "    }\n",
       "\n",
       "    .dataframe tbody tr th {\n",
       "        vertical-align: top;\n",
       "    }\n",
       "\n",
       "    .dataframe thead th {\n",
       "        text-align: right;\n",
       "    }\n",
       "</style>\n",
       "<table border=\"1\" class=\"dataframe\">\n",
       "  <thead>\n",
       "    <tr style=\"text-align: right;\">\n",
       "      <th></th>\n",
       "      <th>Open</th>\n",
       "      <th>High</th>\n",
       "      <th>Low</th>\n",
       "      <th>eps</th>\n",
       "      <th>pe</th>\n",
       "      <th>InRate</th>\n",
       "      <th>InfRate</th>\n",
       "      <th>Close</th>\n",
       "      <th>Adj Close</th>\n",
       "    </tr>\n",
       "    <tr>\n",
       "      <th>Date</th>\n",
       "      <th></th>\n",
       "      <th></th>\n",
       "      <th></th>\n",
       "      <th></th>\n",
       "      <th></th>\n",
       "      <th></th>\n",
       "      <th></th>\n",
       "      <th></th>\n",
       "      <th></th>\n",
       "    </tr>\n",
       "  </thead>\n",
       "  <tbody>\n",
       "    <tr>\n",
       "      <th>1/3/2000</th>\n",
       "      <td>0.936384</td>\n",
       "      <td>1.004464</td>\n",
       "      <td>0.907924</td>\n",
       "      <td>0.310000</td>\n",
       "      <td>20.770000</td>\n",
       "      <td>3.411051</td>\n",
       "      <td>1.760000</td>\n",
       "      <td>0.999442</td>\n",
       "      <td>0.853355</td>\n",
       "    </tr>\n",
       "    <tr>\n",
       "      <th>1/4/2000</th>\n",
       "      <td>0.966518</td>\n",
       "      <td>0.987723</td>\n",
       "      <td>0.90346</td>\n",
       "      <td>0.188723</td>\n",
       "      <td>21.050533</td>\n",
       "      <td>2.796146</td>\n",
       "      <td>2.488276</td>\n",
       "      <td>0.915179</td>\n",
       "      <td>0.781409</td>\n",
       "    </tr>\n",
       "    <tr>\n",
       "      <th>1/5/2000</th>\n",
       "      <td>0.926339</td>\n",
       "      <td>0.987165</td>\n",
       "      <td>0.919643</td>\n",
       "      <td>0.189153</td>\n",
       "      <td>21.045239</td>\n",
       "      <td>2.795518</td>\n",
       "      <td>2.488011</td>\n",
       "      <td>0.928571</td>\n",
       "      <td>0.792844</td>\n",
       "    </tr>\n",
       "    <tr>\n",
       "      <th>1/6/2000</th>\n",
       "      <td>0.947545</td>\n",
       "      <td>0.955357</td>\n",
       "      <td>0.848214</td>\n",
       "      <td>0.189583</td>\n",
       "      <td>21.039946</td>\n",
       "      <td>2.794891</td>\n",
       "      <td>2.487746</td>\n",
       "      <td>0.848214</td>\n",
       "      <td>0.724232</td>\n",
       "    </tr>\n",
       "    <tr>\n",
       "      <th>1/7/2000</th>\n",
       "      <td>0.861607</td>\n",
       "      <td>0.901786</td>\n",
       "      <td>0.852679</td>\n",
       "      <td>0.190012</td>\n",
       "      <td>21.034654</td>\n",
       "      <td>2.794264</td>\n",
       "      <td>2.487482</td>\n",
       "      <td>0.888393</td>\n",
       "      <td>0.758538</td>\n",
       "    </tr>\n",
       "  </tbody>\n",
       "</table>\n",
       "</div>"
      ],
      "text/plain": [
       "              Open      High       Low       eps         pe    InRate  \\\n",
       "Date                                                                    \n",
       "1/3/2000  0.936384  1.004464  0.907924  0.310000  20.770000  3.411051   \n",
       "1/4/2000  0.966518  0.987723   0.90346  0.188723  21.050533  2.796146   \n",
       "1/5/2000  0.926339  0.987165  0.919643  0.189153  21.045239  2.795518   \n",
       "1/6/2000  0.947545  0.955357  0.848214  0.189583  21.039946  2.794891   \n",
       "1/7/2000  0.861607  0.901786  0.852679  0.190012  21.034654  2.794264   \n",
       "\n",
       "           InfRate     Close Adj Close  \n",
       "Date                                    \n",
       "1/3/2000  1.760000  0.999442  0.853355  \n",
       "1/4/2000  2.488276  0.915179  0.781409  \n",
       "1/5/2000  2.488011  0.928571  0.792844  \n",
       "1/6/2000  2.487746  0.848214  0.724232  \n",
       "1/7/2000  2.487482  0.888393  0.758538  "
      ]
     },
     "execution_count": 58,
     "metadata": {},
     "output_type": "execute_result"
    }
   ],
   "source": [
    "df.head()"
   ]
  },
  {
   "cell_type": "markdown",
   "id": "OqdFWDaKuQzv",
   "metadata": {
    "id": "OqdFWDaKuQzv"
   },
   "source": [
    "Feature Selection"
   ]
  },
  {
   "cell_type": "code",
   "execution_count": 59,
   "id": "MsjYlN0KuH6w",
   "metadata": {
    "colab": {
     "base_uri": "https://localhost:8080/"
    },
    "id": "MsjYlN0KuH6w",
    "outputId": "afba3fc4-3b4d-4dc5-be19-4293b7224332"
   },
   "outputs": [
    {
     "data": {
      "text/plain": [
       "array([['0.936384', '1.004464', '0.907924', ..., 1.76, 0.999442,\n",
       "        '0.853355'],\n",
       "       ['0.966518', '0.987723', '0.90346', ..., 2.48827564, 0.915179,\n",
       "        '0.781409'],\n",
       "       ['0.926339', '0.987165', '0.919643', ..., 2.488010875, 0.928571,\n",
       "        '0.792844'],\n",
       "       ...,\n",
       "       ['179.330002', '180.630005', '178.139999', ..., 1.97776447,\n",
       "        179.380005, '178.640778'],\n",
       "       ['179.470001', '180.570007', '178.089996', ..., 1.977844731,\n",
       "        178.199997, '177.465637'],\n",
       "       ['178.089996', '179.229996', '177.259995', ..., 1.977925055,\n",
       "        177.570007, '176.838242']], dtype=object)"
      ]
     },
     "execution_count": 59,
     "metadata": {},
     "output_type": "execute_result"
    }
   ],
   "source": [
    "x = df.iloc[:, 0:9].values\n",
    "x"
   ]
  },
  {
   "cell_type": "code",
   "execution_count": 60,
   "id": "UNQt7-XwueDc",
   "metadata": {
    "colab": {
     "base_uri": "https://localhost:8080/"
    },
    "id": "UNQt7-XwueDc",
    "outputId": "521c8b2f-114e-42ba-b1a7-dd32c6dfd489"
   },
   "outputs": [
    {
     "data": {
      "text/plain": [
       "array(['0.853355', '0.781409', '0.792844', ..., '178.640778',\n",
       "       '177.465637', '176.838242'], dtype=object)"
      ]
     },
     "execution_count": 60,
     "metadata": {},
     "output_type": "execute_result"
    }
   ],
   "source": [
    "y = df.iloc[:, 8].values\n",
    "y"
   ]
  },
  {
   "cell_type": "markdown",
   "id": "ySN7EuRFus-d",
   "metadata": {
    "id": "ySN7EuRFus-d"
   },
   "source": [
    "Spliting The dataset into train and test"
   ]
  },
  {
   "cell_type": "code",
   "execution_count": 61,
   "id": "pyWYYZUqujfU",
   "metadata": {
    "id": "pyWYYZUqujfU"
   },
   "outputs": [],
   "source": [
    "X_train, X_test, y_train, y_test = train_test_split(x, y, test_size=0.2,  random_state=0)"
   ]
  },
  {
   "cell_type": "code",
   "execution_count": 62,
   "id": "_tXEllvXu3CK",
   "metadata": {
    "id": "_tXEllvXu3CK"
   },
   "outputs": [],
   "source": [
    "#Scaling the features\n",
    "from sklearn.preprocessing import StandardScaler\n",
    "from sklearn.preprocessing import MinMaxScaler\n",
    "\n",
    "\n",
    "scale = StandardScaler()\n",
    "X_train = scale.fit_transform(X_train)\n",
    "X_test = scale.transform(X_test)\n"
   ]
  },
  {
   "cell_type": "markdown",
   "id": "OX2KhuKFvLSt",
   "metadata": {
    "id": "OX2KhuKFvLSt"
   },
   "source": [
    "Hyperparameter Tuning For a support vector regression model, we are considering the follwing parameters:\n",
    "\n",
    "c — Regularization parameter\n",
    "\n",
    "\n",
    "gamma — Kernel coefficient for ‘rbf’, ‘poly’ and ‘sigmoid’.\n",
    "\n",
    "\n",
    "Kernel — Specifies the kernel type to be used in the algorithm. If none is given, ‘rbf’ will be used. If a callable is given it is used to precompute the kernel matrix.\n"
   ]
  },
  {
   "cell_type": "code",
   "execution_count": 63,
   "id": "7b74c96a",
   "metadata": {},
   "outputs": [],
   "source": [
    "# from sklearn.model_selection import RandomizedSearchCV\n",
    "# svm = {\n",
    "#     'C': [0.1, 1, 10, 100, 1000], \n",
    "#     'gamma': [1, 0.1, 0.01, 0.001, 0.0001],\n",
    "#     'kernel': ['rbf','linear', 'poly', 'sigmoid']\n",
    "#     }\n",
    "\n",
    "\n",
    "# rscv = RandomizedSearchCV(SVR(),param_distributions=svm,cv=10,n_iter=10,verbose=True,n_jobs=-1)\n",
    "# rscv_fit = rscv.fit(X_train, y_train)\n",
    "# best_parameters = rscv_fit.best_params_\n",
    "# print(best_parameters)"
   ]
  },
  {
   "cell_type": "code",
   "execution_count": 64,
   "id": "8wSbrIql31f8",
   "metadata": {
    "id": "8wSbrIql31f8"
   },
   "outputs": [
    {
     "data": {
      "text/plain": [
       "SVR(C=100, gamma=0.0001, kernel='linear')"
      ]
     },
     "execution_count": 64,
     "metadata": {},
     "output_type": "execute_result"
    }
   ],
   "source": [
    "model = SVR(kernel= 'linear', gamma= 0.0001, C=100)\n",
    "model.fit(X_train,y_train)"
   ]
  },
  {
   "cell_type": "code",
   "execution_count": 65,
   "id": "KDxNvznK3_Y0",
   "metadata": {
    "id": "KDxNvznK3_Y0"
   },
   "outputs": [
    {
     "data": {
      "text/plain": [
       "array([  0.95460037,   5.94109509,   0.36217733, ...,   0.27252211,\n",
       "       135.49373165,   0.3836559 ])"
      ]
     },
     "execution_count": 65,
     "metadata": {},
     "output_type": "execute_result"
    }
   ],
   "source": [
    "predict = model.predict(X_test)\n",
    "predict\n"
   ]
  },
  {
   "cell_type": "code",
   "execution_count": 66,
   "id": "oY2U0BA74RgB",
   "metadata": {
    "id": "oY2U0BA74RgB"
   },
   "outputs": [
    {
     "name": "stdout",
     "output_type": "stream",
     "text": [
      "(1108,)\n"
     ]
    }
   ],
   "source": [
    "print(predict.shape)"
   ]
  },
  {
   "cell_type": "code",
   "execution_count": 67,
   "id": "b2a6cc59",
   "metadata": {},
   "outputs": [
    {
     "name": "stdout",
     "output_type": "stream",
     "text": [
      "Mean Absolute Error: 0.04508\n",
      "Mean Squared Error: 0.00271\n",
      "Root Mean Squared Error: 0.05208\n",
      "(R^2) Score: 1.0\n",
      "Train Score : 100.00% and Test Score : 100.00% using Support Vector Regressor.\n"
     ]
    }
   ],
   "source": [
    "import sklearn.metrics as metrics\n",
    "\n",
    "print(\"Mean Absolute Error:\", round(metrics.mean_absolute_error(y_test, predict), 5))\n",
    "print(\"Mean Squared Error:\", round(metrics.mean_squared_error(y_test, predict), 5))\n",
    "print(\"Root Mean Squared Error:\", round(np.sqrt(metrics.mean_squared_error(y_test, predict)), 5))\n",
    "print(\"(R^2) Score:\", round(metrics.r2_score(y_test, predict), 5))\n",
    "print(f'Train Score : {model.score(X_train, y_train) * 100:.2f}% and Test Score : {model.score(X_test, y_test) * 100:.2f}% using Support Vector Regressor.')\n",
    "             "
   ]
  },
  {
   "cell_type": "code",
   "execution_count": 69,
   "id": "6ee92f9f",
   "metadata": {},
   "outputs": [
    {
     "data": {
      "text/plain": [
       "Index(['1/3/2000', '1/4/2000', '1/5/2000', '1/6/2000', '1/7/2000', '1/10/2000',\n",
       "       '1/11/2000', '1/12/2000', '1/13/2000', '1/14/2000',\n",
       "       ...\n",
       "       '12/17/2021', '12/20/2021', '12/21/2021', '12/22/2021', '12/23/2021',\n",
       "       '12/27/2021', '12/28/2021', '12/29/2021', '12/30/2021', '12/31/2021'],\n",
       "      dtype='object', name='Date', length=5536)"
      ]
     },
     "execution_count": 69,
     "metadata": {},
     "output_type": "execute_result"
    }
   ],
   "source": [
    "df.index"
   ]
  },
  {
   "cell_type": "code",
   "execution_count": 70,
   "id": "5e5c5498",
   "metadata": {},
   "outputs": [
    {
     "data": {
      "text/plain": [
       "'1/3/2000'"
      ]
     },
     "execution_count": 70,
     "metadata": {},
     "output_type": "execute_result"
    }
   ],
   "source": [
    "df.index[0]"
   ]
  },
  {
   "cell_type": "code",
   "execution_count": 71,
   "id": "2be16f46",
   "metadata": {},
   "outputs": [],
   "source": [
    "predictions = pd.DataFrame({\"Predictions\": predict}, index=pd.date_range(start=df.index[-1], periods=len(predict), freq=\"D\"))"
   ]
  },
  {
   "cell_type": "code",
   "execution_count": 72,
   "id": "58508cbd",
   "metadata": {},
   "outputs": [
    {
     "data": {
      "text/html": [
       "<div>\n",
       "<style scoped>\n",
       "    .dataframe tbody tr th:only-of-type {\n",
       "        vertical-align: middle;\n",
       "    }\n",
       "\n",
       "    .dataframe tbody tr th {\n",
       "        vertical-align: top;\n",
       "    }\n",
       "\n",
       "    .dataframe thead th {\n",
       "        text-align: right;\n",
       "    }\n",
       "</style>\n",
       "<table border=\"1\" class=\"dataframe\">\n",
       "  <thead>\n",
       "    <tr style=\"text-align: right;\">\n",
       "      <th></th>\n",
       "      <th>Predictions</th>\n",
       "    </tr>\n",
       "  </thead>\n",
       "  <tbody>\n",
       "    <tr>\n",
       "      <th>2021-12-31</th>\n",
       "      <td>0.954600</td>\n",
       "    </tr>\n",
       "    <tr>\n",
       "      <th>2022-01-01</th>\n",
       "      <td>5.941095</td>\n",
       "    </tr>\n",
       "    <tr>\n",
       "      <th>2022-01-02</th>\n",
       "      <td>0.362177</td>\n",
       "    </tr>\n",
       "    <tr>\n",
       "      <th>2022-01-03</th>\n",
       "      <td>26.483950</td>\n",
       "    </tr>\n",
       "    <tr>\n",
       "      <th>2022-01-04</th>\n",
       "      <td>41.924356</td>\n",
       "    </tr>\n",
       "    <tr>\n",
       "      <th>...</th>\n",
       "      <td>...</td>\n",
       "    </tr>\n",
       "    <tr>\n",
       "      <th>2025-01-07</th>\n",
       "      <td>0.503836</td>\n",
       "    </tr>\n",
       "    <tr>\n",
       "      <th>2025-01-08</th>\n",
       "      <td>30.164378</td>\n",
       "    </tr>\n",
       "    <tr>\n",
       "      <th>2025-01-09</th>\n",
       "      <td>0.272522</td>\n",
       "    </tr>\n",
       "    <tr>\n",
       "      <th>2025-01-10</th>\n",
       "      <td>135.493732</td>\n",
       "    </tr>\n",
       "    <tr>\n",
       "      <th>2025-01-11</th>\n",
       "      <td>0.383656</td>\n",
       "    </tr>\n",
       "  </tbody>\n",
       "</table>\n",
       "<p>1108 rows × 1 columns</p>\n",
       "</div>"
      ],
      "text/plain": [
       "            Predictions\n",
       "2021-12-31     0.954600\n",
       "2022-01-01     5.941095\n",
       "2022-01-02     0.362177\n",
       "2022-01-03    26.483950\n",
       "2022-01-04    41.924356\n",
       "...                 ...\n",
       "2025-01-07     0.503836\n",
       "2025-01-08    30.164378\n",
       "2025-01-09     0.272522\n",
       "2025-01-10   135.493732\n",
       "2025-01-11     0.383656\n",
       "\n",
       "[1108 rows x 1 columns]"
      ]
     },
     "execution_count": 72,
     "metadata": {},
     "output_type": "execute_result"
    }
   ],
   "source": [
    "predictions"
   ]
  },
  {
   "cell_type": "code",
   "execution_count": 73,
   "id": "d243f2a1",
   "metadata": {},
   "outputs": [],
   "source": [
    "tendays_df_pred = pd.DataFrame(predictions[:10])"
   ]
  },
  {
   "cell_type": "code",
   "execution_count": 74,
   "id": "2ea79b5c",
   "metadata": {},
   "outputs": [
    {
     "data": {
      "text/html": [
       "<div>\n",
       "<style scoped>\n",
       "    .dataframe tbody tr th:only-of-type {\n",
       "        vertical-align: middle;\n",
       "    }\n",
       "\n",
       "    .dataframe tbody tr th {\n",
       "        vertical-align: top;\n",
       "    }\n",
       "\n",
       "    .dataframe thead th {\n",
       "        text-align: right;\n",
       "    }\n",
       "</style>\n",
       "<table border=\"1\" class=\"dataframe\">\n",
       "  <thead>\n",
       "    <tr style=\"text-align: right;\">\n",
       "      <th></th>\n",
       "      <th>Predictions</th>\n",
       "    </tr>\n",
       "  </thead>\n",
       "  <tbody>\n",
       "    <tr>\n",
       "      <th>2021-12-31</th>\n",
       "      <td>0.954600</td>\n",
       "    </tr>\n",
       "    <tr>\n",
       "      <th>2022-01-01</th>\n",
       "      <td>5.941095</td>\n",
       "    </tr>\n",
       "    <tr>\n",
       "      <th>2022-01-02</th>\n",
       "      <td>0.362177</td>\n",
       "    </tr>\n",
       "    <tr>\n",
       "      <th>2022-01-03</th>\n",
       "      <td>26.483950</td>\n",
       "    </tr>\n",
       "    <tr>\n",
       "      <th>2022-01-04</th>\n",
       "      <td>41.924356</td>\n",
       "    </tr>\n",
       "    <tr>\n",
       "      <th>2022-01-05</th>\n",
       "      <td>0.341379</td>\n",
       "    </tr>\n",
       "    <tr>\n",
       "      <th>2022-01-06</th>\n",
       "      <td>1.061718</td>\n",
       "    </tr>\n",
       "    <tr>\n",
       "      <th>2022-01-07</th>\n",
       "      <td>118.877724</td>\n",
       "    </tr>\n",
       "    <tr>\n",
       "      <th>2022-01-08</th>\n",
       "      <td>0.256381</td>\n",
       "    </tr>\n",
       "    <tr>\n",
       "      <th>2022-01-09</th>\n",
       "      <td>24.269682</td>\n",
       "    </tr>\n",
       "  </tbody>\n",
       "</table>\n",
       "</div>"
      ],
      "text/plain": [
       "            Predictions\n",
       "2021-12-31     0.954600\n",
       "2022-01-01     5.941095\n",
       "2022-01-02     0.362177\n",
       "2022-01-03    26.483950\n",
       "2022-01-04    41.924356\n",
       "2022-01-05     0.341379\n",
       "2022-01-06     1.061718\n",
       "2022-01-07   118.877724\n",
       "2022-01-08     0.256381\n",
       "2022-01-09    24.269682"
      ]
     },
     "execution_count": 74,
     "metadata": {},
     "output_type": "execute_result"
    }
   ],
   "source": [
    "tendays_df_pred"
   ]
  },
  {
   "cell_type": "code",
   "execution_count": 76,
   "id": "cc8f9846",
   "metadata": {},
   "outputs": [
    {
     "name": "stderr",
     "output_type": "stream",
     "text": [
      "No artists with labels found to put in legend.  Note that artists whose label start with an underscore are ignored when legend() is called with no argument.\n"
     ]
    },
    {
     "data": {
      "image/png": "[encoded data removed]",
      "text/plain": [
       "<Figure size 1152x504 with 1 Axes>"
      ]
     },
     "metadata": {
      "needs_background": "light"
     },
     "output_type": "display_data"
    }
   ],
   "source": [
    "from sklearn.preprocessing import MinMaxScaler\n",
    "from sklearn.preprocessing import StandardScaler\n",
    "\n",
    "# predictions[len(tendays_df_pred)+(look_back*2)+1:len(df)-1, :] = test_predict\n",
    "plt.figure(figsize = (16,7))\n",
    "plt.title('Next 10 Days Price Prediction using SVR')\n",
    "plt.xlabel('date')\n",
    "plt.ylabel('Closing Price')\n",
    "plt.legend(fontsize=18)\n",
    "plt.plot(tendays_df_pred)\n",
    "plt.show()"
   ]
  },
  {
   "cell_type": "code",
   "execution_count": null,
   "id": "e4cb9272",
   "metadata": {},
   "outputs": [],
   "source": []
  }
 ],
 "metadata": {
  "accelerator": "GPU",
  "colab": {
   "collapsed_sections": [],
   "provenance": []
  },
  "kernelspec": {
   "display_name": "Python 3 (ipykernel)",
   "language": "python",
   "name": "python3"
  },
  "language_info": {
   "codemirror_mode": {
    "name": "ipython",
    "version": 3
   },
   "file_extension": ".py",
   "mimetype": "text/x-python",
   "name": "python",
   "nbconvert_exporter": "python",
   "pygments_lexer": "ipython3",
   "version": "3.9.12"
  }
 },
 "nbformat": 4,
 "nbformat_minor": 5
}
