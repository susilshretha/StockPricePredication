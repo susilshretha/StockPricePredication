{
 "cells": [
  {
   "cell_type": "code",
   "execution_count": 1,
   "id": "8bcdbd55",
   "metadata": {},
   "outputs": [
    {
     "name": "stderr",
     "output_type": "stream",
     "text": [
      "C:\\Users\\offic\\AppData\\Local\\Temp\\ipykernel_6480\\1827566076.py:4: UserWarning: \n",
      "The dash_core_components package is deprecated. Please replace\n",
      "`import dash_core_components as dcc` with `from dash import dcc`\n",
      "  import dash_core_components as dcc\n",
      "C:\\Users\\offic\\AppData\\Local\\Temp\\ipykernel_6480\\1827566076.py:6: UserWarning: \n",
      "The dash_html_components package is deprecated. Please replace\n",
      "`import dash_html_components as html` with `from dash import html`\n",
      "  import dash_html_components as html\n"
     ]
    }
   ],
   "source": [
    "#This library is used to initialize the dash application.\n",
    "import dash\n",
    "# This library is used to add graphs,other visual components.\n",
    "import dash_core_components as dcc\n",
    "# This library is used to include html tags.\n",
    "import dash_html_components as html\n",
    "#For data manipulation and mathematical operations.\n",
    "import pandas as pd\n"
   ]
  },
  {
   "cell_type": "code",
   "execution_count": 6,
   "id": "cba8a880",
   "metadata": {},
   "outputs": [],
   "source": [
    "#Reading the csv file.\n",
    "data = pd.read_csv(\"AAPL-Final.csv\")\n",
    "#Manipulating the date.\n",
    "data[\"Date\"] = pd.to_datetime(data[\"Date\"], format=\"%m/%d/%Y\")\n",
    "data.sort_values(\"Date\", inplace=True)\n",
    "#Initialising application.\n",
    "app = dash.Dash(__name__)"
   ]
  },
  {
   "cell_type": "markdown",
   "id": "da53892c",
   "metadata": {},
   "source": [
    "layout of the application "
   ]
  },
  {
   "cell_type": "code",
   "execution_count": 25,
   "id": "11642b00",
   "metadata": {},
   "outputs": [],
   "source": [
    "app.layout = html.Div(\n",
    "\n",
    "children=[\n",
    "\n",
    "html.H1(children=\"Stock Exchange Analytics\",),\n",
    "html.P(children=\"Analyzing day wise high and low prices of indexes.\",),\n",
    "    \n",
    "dcc.Graph(\n",
    "figure={\n",
    "\"data\": [\n",
    "{\n",
    "\"x\": data[\"Date\"],\n",
    "\"y\": data[\"High\"],\n",
    "\"type\": \"lines\",\n",
    "},\n",
    "],\n",
    "\"layout\": {\"title\": \"Day-wise highest prices of indexes\"},\n",
    "},\n",
    "),\n",
    "    \n",
    "dcc.Graph(\n",
    "figure={\n",
    "\"data\": [\n",
    "{\n",
    "\"x\": data[\"Date\"],\n",
    "\"y\": data[\"Low\"],\n",
    "\"type\": \"lines\",\n",
    "},\n",
    "],\n",
    "    \n",
    "\"layout\": {\"title\": \"Day-wise lowest prices of indexes\"},\n",
    "},\n",
    "),\n",
    "    \n",
    "dcc.Graph(\n",
    "figure={\n",
    "\"data\": [\n",
    "{\n",
    "\"x\": data[\"Date\"],\n",
    "\"y\": data[\"Close\"],\n",
    "\"type\": \"lines\",\n",
    "},\n",
    "],\n",
    "\"layout\": {\"title\": \"Day-wise closing prices of indexes\"},\n",
    "},\n",
    "),\n",
    "    \n",
    "dcc.Graph(\n",
    "figure={\n",
    "\"data\": [\n",
    "{\n",
    "\"x\": data[\"Date\"],\n",
    "\"y\": data[\"Open\"],\n",
    "\"type\": \"lines\",\n",
    "},\n",
    "],\n",
    "\"layout\": {\"title\": \"Day-wise opening prices of indexes\"},\n",
    "},\n",
    "),\n",
    "] )"
   ]
  },
  {
   "cell_type": "markdown",
   "id": "8723cb4c",
   "metadata": {},
   "source": [
    "Call And Run the Application"
   ]
  },
  {
   "cell_type": "code",
   "execution_count": 26,
   "id": "6b313347",
   "metadata": {},
   "outputs": [
    {
     "name": "stdout",
     "output_type": "stream",
     "text": [
      "Dash is running on http://127.0.0.1:8050/\n",
      "\n",
      " * Serving Flask app \"__main__\" (lazy loading)\n",
      " * Environment: production\n",
      "\u001b[31m   WARNING: This is a development server. Do not use it in a production deployment.\u001b[0m\n",
      "\u001b[2m   Use a production WSGI server instead.\u001b[0m\n",
      " * Debug mode: on\n"
     ]
    },
    {
     "ename": "SystemExit",
     "evalue": "1",
     "output_type": "error",
     "traceback": [
      "An exception has occurred, use %tb to see the full traceback.\n",
      "\u001b[1;31mSystemExit\u001b[0m\u001b[1;31m:\u001b[0m 1\n"
     ]
    },
    {
     "name": "stderr",
     "output_type": "stream",
     "text": [
      "C:\\Users\\offic\\anaconda3\\lib\\site-packages\\IPython\\core\\interactiveshell.py:3377: UserWarning: To exit: use 'exit', 'quit', or Ctrl-D.\n",
      "  warn(\"To exit: use 'exit', 'quit', or Ctrl-D.\", stacklevel=1)\n"
     ]
    }
   ],
   "source": [
    "if __name__ == \"__main__\":\n",
    "    app.run_server(debug=True)"
   ]
  },
  {
   "cell_type": "code",
   "execution_count": null,
   "id": "669e4065",
   "metadata": {},
   "outputs": [],
   "source": []
  }
 ],
 "metadata": {
  "kernelspec": {
   "display_name": "Python 3 (ipykernel)",
   "language": "python",
   "name": "python3"
  },
  "language_info": {
   "codemirror_mode": {
    "name": "ipython",
    "version": 3
   },
   "file_extension": ".py",
   "mimetype": "text/x-python",
   "name": "python",
   "nbconvert_exporter": "python",
   "pygments_lexer": "ipython3",
   "version": "3.9.12"
  }
 },
 "nbformat": 4,
 "nbformat_minor": 5
}
