{
 "cells": [
  {
   "cell_type": "code",
   "execution_count": 1,
   "metadata": {
    "executionInfo": {
     "elapsed": 3142,
     "status": "ok",
     "timestamp": 1662651722816,
     "user": {
      "displayName": "Abhiyantraka",
      "userId": "08575671547903053425"
     },
     "user_tz": -345
    },
    "id": "ua4lzqY-nbV5"
   },
   "outputs": [],
   "source": [
    "import numpy as np\n",
    "import pandas as pd\n",
    "\n",
    "import matplotlib.pyplot as plt\n",
    "from tensorflow.keras.models import Sequential\n",
    "from tensorflow.keras.layers import Dense\n",
    "from tensorflow.keras.layers import LSTM\n",
    "from tensorflow.keras.layers import Dropout\n",
    "from tensorflow.keras.layers import *\n",
    "from tensorflow.keras.callbacks import EarlyStopping\n",
    "\n",
    "\n",
    "from sklearn.preprocessing import MinMaxScaler, StandardScaler\n",
    "from sklearn.metrics import mean_squared_error\n",
    "from sklearn.metrics import mean_absolute_percentage_error\n",
    "from sklearn.model_selection import train_test_split\n",
    "from sklearn.model_selection import TimeSeriesSplit\n"
   ]
  },
  {
   "cell_type": "code",
   "execution_count": 2,
   "metadata": {
    "colab": {
     "base_uri": "https://localhost:8080/",
     "height": 206
    },
    "executionInfo": {
     "elapsed": 1699,
     "status": "ok",
     "timestamp": 1662651724499,
     "user": {
      "displayName": "Abhiyantraka",
      "userId": "08575671547903053425"
     },
     "user_tz": -345
    },
    "id": "ln0FVRoUndp4",
    "outputId": "299f8316-372c-409d-c693-4a79906290b8",
    "scrolled": true
   },
   "outputs": [
    {
     "data": {
      "text/html": [
       "<div>\n",
       "<style scoped>\n",
       "    .dataframe tbody tr th:only-of-type {\n",
       "        vertical-align: middle;\n",
       "    }\n",
       "\n",
       "    .dataframe tbody tr th {\n",
       "        vertical-align: top;\n",
       "    }\n",
       "\n",
       "    .dataframe thead th {\n",
       "        text-align: right;\n",
       "    }\n",
       "</style>\n",
       "<table border=\"1\" class=\"dataframe\">\n",
       "  <thead>\n",
       "    <tr style=\"text-align: right;\">\n",
       "      <th></th>\n",
       "      <th>Date</th>\n",
       "      <th>Open</th>\n",
       "      <th>High</th>\n",
       "      <th>Low</th>\n",
       "      <th>eps</th>\n",
       "      <th>p/e</th>\n",
       "      <th>Interest_Rate</th>\n",
       "      <th>Inflation_rate</th>\n",
       "      <th>Close</th>\n",
       "      <th>Adj Close</th>\n",
       "      <th>Volume</th>\n",
       "    </tr>\n",
       "  </thead>\n",
       "  <tbody>\n",
       "    <tr>\n",
       "      <th>0</th>\n",
       "      <td>1/3/2000</td>\n",
       "      <td>0.936384</td>\n",
       "      <td>1.004464</td>\n",
       "      <td>0.907924</td>\n",
       "      <td>11.324009</td>\n",
       "      <td>18.149305</td>\n",
       "      <td>3.411051</td>\n",
       "      <td>1.760000</td>\n",
       "      <td>0.999442</td>\n",
       "      <td>0.853355</td>\n",
       "      <td>535796800</td>\n",
       "    </tr>\n",
       "    <tr>\n",
       "      <th>1</th>\n",
       "      <td>1/4/2000</td>\n",
       "      <td>0.966518</td>\n",
       "      <td>0.987723</td>\n",
       "      <td>0.903460</td>\n",
       "      <td>9.778793</td>\n",
       "      <td>17.445471</td>\n",
       "      <td>2.796146</td>\n",
       "      <td>2.488276</td>\n",
       "      <td>0.915179</td>\n",
       "      <td>0.781409</td>\n",
       "      <td>512377600</td>\n",
       "    </tr>\n",
       "    <tr>\n",
       "      <th>2</th>\n",
       "      <td>1/5/2000</td>\n",
       "      <td>0.926339</td>\n",
       "      <td>0.987165</td>\n",
       "      <td>0.919643</td>\n",
       "      <td>9.422680</td>\n",
       "      <td>17.327946</td>\n",
       "      <td>2.795518</td>\n",
       "      <td>2.488011</td>\n",
       "      <td>0.928571</td>\n",
       "      <td>0.792844</td>\n",
       "      <td>778321600</td>\n",
       "    </tr>\n",
       "    <tr>\n",
       "      <th>3</th>\n",
       "      <td>1/6/2000</td>\n",
       "      <td>0.947545</td>\n",
       "      <td>0.955357</td>\n",
       "      <td>0.848214</td>\n",
       "      <td>7.335150</td>\n",
       "      <td>22.874871</td>\n",
       "      <td>2.794891</td>\n",
       "      <td>2.487746</td>\n",
       "      <td>0.848214</td>\n",
       "      <td>0.724232</td>\n",
       "      <td>767972800</td>\n",
       "    </tr>\n",
       "    <tr>\n",
       "      <th>4</th>\n",
       "      <td>1/7/2000</td>\n",
       "      <td>0.861607</td>\n",
       "      <td>0.901786</td>\n",
       "      <td>0.852679</td>\n",
       "      <td>26.008772</td>\n",
       "      <td>2.198084</td>\n",
       "      <td>2.794264</td>\n",
       "      <td>2.487482</td>\n",
       "      <td>0.888393</td>\n",
       "      <td>0.758538</td>\n",
       "      <td>460734400</td>\n",
       "    </tr>\n",
       "  </tbody>\n",
       "</table>\n",
       "</div>"
      ],
      "text/plain": [
       "       Date      Open      High       Low        eps        p/e  \\\n",
       "0  1/3/2000  0.936384  1.004464  0.907924  11.324009  18.149305   \n",
       "1  1/4/2000  0.966518  0.987723  0.903460   9.778793  17.445471   \n",
       "2  1/5/2000  0.926339  0.987165  0.919643   9.422680  17.327946   \n",
       "3  1/6/2000  0.947545  0.955357  0.848214   7.335150  22.874871   \n",
       "4  1/7/2000  0.861607  0.901786  0.852679  26.008772   2.198084   \n",
       "\n",
       "   Interest_Rate  Inflation_rate     Close  Adj Close     Volume  \n",
       "0       3.411051        1.760000  0.999442   0.853355  535796800  \n",
       "1       2.796146        2.488276  0.915179   0.781409  512377600  \n",
       "2       2.795518        2.488011  0.928571   0.792844  778321600  \n",
       "3       2.794891        2.487746  0.848214   0.724232  767972800  \n",
       "4       2.794264        2.487482  0.888393   0.758538  460734400  "
      ]
     },
     "execution_count": 2,
     "metadata": {},
     "output_type": "execute_result"
    }
   ],
   "source": [
    "# stock_data = pd.read_csv('AAPL-Final.csv',index_col='Date')\n",
    "# stock_data.head()\n",
    "\n",
    "df = pd.read_csv('AAPL-Final.csv')\n",
    "df.head()\n",
    "\n"
   ]
  },
  {
   "cell_type": "code",
   "execution_count": 3,
   "metadata": {
    "colab": {
     "base_uri": "https://localhost:8080/",
     "height": 206
    },
    "executionInfo": {
     "elapsed": 115,
     "status": "ok",
     "timestamp": 1662651724504,
     "user": {
      "displayName": "Abhiyantraka",
      "userId": "08575671547903053425"
     },
     "user_tz": -345
    },
    "id": "FsBe2k28ntb3",
    "outputId": "a0e72c38-b5e1-4685-ad93-e76285f2e7e3"
   },
   "outputs": [
    {
     "data": {
      "text/plain": [
       "0         0.999442\n",
       "1         0.915179\n",
       "2         0.928571\n",
       "3         0.848214\n",
       "4         0.888393\n",
       "           ...    \n",
       "5531    180.330002\n",
       "5532    179.289993\n",
       "5533    179.380005\n",
       "5534    178.199997\n",
       "5535    177.570007\n",
       "Name: Close, Length: 5536, dtype: float64"
      ]
     },
     "execution_count": 3,
     "metadata": {},
     "output_type": "execute_result"
    }
   ],
   "source": [
    "# stock_data.tail()\n",
    "\n",
    "df1=df.reset_index()['Close']\n",
    "df1"
   ]
  },
  {
   "cell_type": "code",
   "execution_count": 4,
   "metadata": {
    "scrolled": true
   },
   "outputs": [
    {
     "data": {
      "text/plain": [
       "[<matplotlib.lines.Line2D at 0x183e2e4bc70>]"
      ]
     },
     "execution_count": 4,
     "metadata": {},
     "output_type": "execute_result"
    },
    {
     "data": {
      "image/png": "[encoded data removed]",
      "text/plain": [
       "<Figure size 432x288 with 1 Axes>"
      ]
     },
     "metadata": {
      "needs_background": "light"
     },
     "output_type": "display_data"
    }
   ],
   "source": [
    "# import matplotlib.dates as mdates\n",
    "# plt.figure(figsize=(15,10))\n",
    "# plt.gca().xaxis.set_major_formatter(mdates.DateFormatter('%m/%d/%Y'))\n",
    "# plt.gca().xaxis.set_major_locator(mdates.DayLocator(interval=60))\n",
    "# x_dates=[dt.datetime.strptime(d,'%m/%d/%Y').date() for d in df.index.values],\n",
    "\n",
    "\n",
    "# plt.plot(x_dates, df['High'], label='High')\n",
    "# plt.plot(x_dates, df['Low'], label='Low')\n",
    "# plt.xlabel('Time Scale')\n",
    "# plt.ylabel('Scaled USD')\n",
    "# plt.legend()\n",
    "# plt.gcf().autofmt_xdate()\n",
    "# plt.show()\n",
    "\n",
    "\n",
    "\n",
    "\n",
    "plt.plot(df1)\n",
    "\n",
    "\n",
    "\n"
   ]
  },
  {
   "cell_type": "markdown",
   "metadata": {},
   "source": [
    "Data Preprocessing"
   ]
  },
  {
   "cell_type": "code",
   "execution_count": 5,
   "metadata": {},
   "outputs": [],
   "source": [
    "# # target variables\n",
    "# target_y=stock_data['Close']\n",
    "# target_y\n",
    "\n",
    "\n"
   ]
  },
  {
   "cell_type": "code",
   "execution_count": 6,
   "metadata": {},
   "outputs": [],
   "source": [
    "#Feature variables\n",
    "# x_feat=stock_data.iloc[:,0:7]\n",
    "# x_feat"
   ]
  },
  {
   "cell_type": "markdown",
   "metadata": {},
   "source": [
    "Feature Scaling"
   ]
  },
  {
   "cell_type": "code",
   "execution_count": 7,
   "metadata": {},
   "outputs": [],
   "source": [
    "# from sklearn.preprocessing import MinMaxScaler,StandardScaler\n",
    "# sc=StandardScaler()\n",
    "# x_ft=sc.fit_transform(x_feat.values)\n",
    "# x_ft=pd.DataFrame(columns=x_feat.columns,data=x_ft, index=x_feat.index)\n",
    "\n",
    "#Scaling the dataset\n",
    "from sklearn.preprocessing import MinMaxScaler\n",
    "scaler=MinMaxScaler(feature_range=(0,1))\n",
    "df1=scaler.fit_transform(np.array(df1).reshape(-1,1))"
   ]
  },
  {
   "cell_type": "code",
   "execution_count": 8,
   "metadata": {},
   "outputs": [
    {
     "data": {
      "text/plain": [
       "array([[0.00424861],\n",
       "       [0.00378073],\n",
       "       [0.00385509],\n",
       "       ...,\n",
       "       [0.99472504],\n",
       "       [0.98817293],\n",
       "       [0.98467484]])"
      ]
     },
     "execution_count": 8,
     "metadata": {},
     "output_type": "execute_result"
    }
   ],
   "source": [
    "# def lstm_split(data, n_steps):\n",
    "#     x,y=[],[]\n",
    "#     for i in range(len(data)-n_steps+1):\n",
    "#         x.append(data[i:i+n_steps, :-1])\n",
    "#         y.append(data[i+n_steps-1, -1])\n",
    "#     return np.array(x), np.array(y)\n",
    "\n",
    "df1"
   ]
  },
  {
   "cell_type": "markdown",
   "metadata": {},
   "source": [
    "Train and Test sets for Stock Price Prediction"
   ]
  },
  {
   "cell_type": "code",
   "execution_count": 9,
   "metadata": {
    "scrolled": true
   },
   "outputs": [],
   "source": [
    "# x1, y1=lstm_split(stock_data.values, n_steps=2)\n",
    "\n",
    "# train_split=0.8\n",
    "# split_idx=int(np.ceil(len(x1)*train_split))\n",
    "# date_index=stock_data.index\n",
    "\n",
    "\n",
    "# x_train, x_test=x1[:split_idx], x1[split_idx:]\n",
    "# y_train, y_test=y1[:split_idx], y1[split_idx:]\n",
    "\n",
    "# x_train_date, x_test_date=date_index[:split_idx], date_index[split_idx:]\n",
    "\n",
    "\n",
    "# print(x1.shape, x_train.shape, x_test.shape, y_test.shape)\n",
    "\n",
    "#spliting the dataset into train and test split\n",
    "\n",
    "training_size=int(len(df1)*0.8)\n",
    "test_size=len(df1)-training_size\n"
   ]
  },
  {
   "cell_type": "code",
   "execution_count": 10,
   "metadata": {},
   "outputs": [
    {
     "data": {
      "text/plain": [
       "(4428, 1108)"
      ]
     },
     "execution_count": 10,
     "metadata": {},
     "output_type": "execute_result"
    }
   ],
   "source": [
    "training_size, test_size"
   ]
  },
  {
   "cell_type": "code",
   "execution_count": 11,
   "metadata": {},
   "outputs": [],
   "source": [
    "train_data,test_data=df1[0:training_size,:],df1[training_size:len(df1),:1]\n"
   ]
  },
  {
   "cell_type": "code",
   "execution_count": 12,
   "metadata": {},
   "outputs": [
    {
     "data": {
      "text/plain": [
       "4428"
      ]
     },
     "execution_count": 12,
     "metadata": {},
     "output_type": "execute_result"
    }
   ],
   "source": [
    "train_data\n",
    "len(train_data)"
   ]
  },
  {
   "cell_type": "code",
   "execution_count": 13,
   "metadata": {},
   "outputs": [
    {
     "data": {
      "text/plain": [
       "1108"
      ]
     },
     "execution_count": 13,
     "metadata": {},
     "output_type": "execute_result"
    }
   ],
   "source": [
    "test_data\n",
    "len(test_data)"
   ]
  },
  {
   "cell_type": "code",
   "execution_count": 14,
   "metadata": {},
   "outputs": [],
   "source": [
    "# convert an array of values into a dataset matrix\n",
    "def create_dataset(dataset, time_step=1):\n",
    "\tdataX, dataY = [], []\n",
    "\tfor i in range(len(dataset)-time_step-1):\n",
    "\t\ta = dataset[i:(i+time_step), 0]   ###i=0, 0,1,2,3-----99   100 \n",
    "\t\tdataX.append(a)\n",
    "\t\tdataY.append(dataset[i + time_step, 0])\n",
    "\treturn np.array(dataX), np.array(dataY)"
   ]
  },
  {
   "cell_type": "code",
   "execution_count": 15,
   "metadata": {},
   "outputs": [],
   "source": [
    "# reshape into X=t,t+1,t+2,t+3 and Y=t+4\n",
    "time_step = 100\n",
    "X_train, y_train = create_dataset(train_data, time_step)\n",
    "X_test, ytest = create_dataset(test_data, time_step)"
   ]
  },
  {
   "cell_type": "code",
   "execution_count": 16,
   "metadata": {},
   "outputs": [
    {
     "name": "stdout",
     "output_type": "stream",
     "text": [
      "(4327, 100)\n",
      "(4327,)\n"
     ]
    },
    {
     "data": {
      "text/plain": [
       "(None, None)"
      ]
     },
     "execution_count": 16,
     "metadata": {},
     "output_type": "execute_result"
    }
   ],
   "source": [
    "print(X_train.shape), print(y_train.shape)\n"
   ]
  },
  {
   "cell_type": "code",
   "execution_count": 17,
   "metadata": {},
   "outputs": [
    {
     "name": "stdout",
     "output_type": "stream",
     "text": [
      "(1007, 100)\n",
      "(1007,)\n"
     ]
    },
    {
     "data": {
      "text/plain": [
       "(None, None)"
      ]
     },
     "execution_count": 17,
     "metadata": {},
     "output_type": "execute_result"
    }
   ],
   "source": [
    "print(X_test.shape), print(ytest.shape)\n"
   ]
  },
  {
   "cell_type": "code",
   "execution_count": 34,
   "metadata": {},
   "outputs": [
    {
     "name": "stdout",
     "output_type": "stream",
     "text": [
      "[[[0.00424861]\n",
      "  [0.00378073]\n",
      "  [0.00385509]\n",
      "  ...\n",
      "  [0.00315792]\n",
      "  [0.00295341]\n",
      "  [0.00304637]]\n",
      "\n",
      " [[0.00378073]\n",
      "  [0.00385509]\n",
      "  [0.0034089 ]\n",
      "  ...\n",
      "  [0.00295341]\n",
      "  [0.00304637]\n",
      "  [0.00302545]]\n",
      "\n",
      " [[0.00385509]\n",
      "  [0.0034089 ]\n",
      "  [0.003632  ]\n",
      "  ...\n",
      "  [0.00304637]\n",
      "  [0.00302545]\n",
      "  [0.0029813 ]]\n",
      "\n",
      " ...\n",
      "\n",
      " [[0.19192968]\n",
      "  [0.19163818]\n",
      "  [0.19367877]\n",
      "  ...\n",
      "  [0.20515876]\n",
      "  [0.20699113]\n",
      "  [0.21683311]]\n",
      "\n",
      " [[0.19163818]\n",
      "  [0.19367877]\n",
      "  [0.19399803]\n",
      "  ...\n",
      "  [0.20699113]\n",
      "  [0.21683311]\n",
      "  [0.21465372]]\n",
      "\n",
      " [[0.19367877]\n",
      "  [0.19399803]\n",
      "  [0.19302633]\n",
      "  ...\n",
      "  [0.21683311]\n",
      "  [0.21465372]\n",
      "  [0.215792  ]]] [[[0.22227465]\n",
      "  [0.21430669]\n",
      "  [0.21730507]\n",
      "  ...\n",
      "  [0.23551763]\n",
      "  [0.23618393]\n",
      "  [0.23361585]]\n",
      "\n",
      " [[0.21430669]\n",
      "  [0.21730507]\n",
      "  [0.22059501]\n",
      "  ...\n",
      "  [0.23618393]\n",
      "  [0.23361585]\n",
      "  [0.23782194]]\n",
      "\n",
      " [[0.21730507]\n",
      "  [0.22059501]\n",
      "  [0.22302427]\n",
      "  ...\n",
      "  [0.23361585]\n",
      "  [0.23782194]\n",
      "  [0.2377803 ]]\n",
      "\n",
      " ...\n",
      "\n",
      " [[0.81526488]\n",
      "  [0.81015649]\n",
      "  [0.80987884]\n",
      "  ...\n",
      "  [0.97395828]\n",
      "  [0.97751194]\n",
      "  [1.        ]]\n",
      "\n",
      " [[0.81015649]\n",
      "  [0.80987884]\n",
      "  [0.80715812]\n",
      "  ...\n",
      "  [0.97751194]\n",
      "  [1.        ]\n",
      "  [0.99422524]]\n",
      "\n",
      " [[0.80987884]\n",
      "  [0.80715812]\n",
      "  [0.80860177]\n",
      "  ...\n",
      "  [1.        ]\n",
      "  [0.99422524]\n",
      "  [0.99472504]]]\n"
     ]
    }
   ],
   "source": [
    "# reshape input to be [samples, time steps, features] \n",
    "X_train =X_train.reshape(X_train.shape[0],X_train.shape[1] , 1)   #shape[0]=4327, shape[1]=100 \n",
    "X_test = X_test.reshape(X_test.shape[0],X_test.shape[1] , 1)\n",
    "\n",
    "print(X_train, X_test)"
   ]
  },
  {
   "cell_type": "markdown",
   "metadata": {},
   "source": [
    "single unit LSTM mpdel"
   ]
  },
  {
   "cell_type": "code",
   "execution_count": 19,
   "metadata": {},
   "outputs": [],
   "source": [
    "model=Sequential()\n",
    "model.add(LSTM(50, input_shape=(100,1),\n",
    "               activation='relu', return_sequences=True))\n",
    "\n",
    "model.add(Dense(1))\n",
    "model.compile(loss='mean_squared_error',optimizer='adam')"
   ]
  },
  {
   "cell_type": "code",
   "execution_count": 20,
   "metadata": {},
   "outputs": [
    {
     "name": "stdout",
     "output_type": "stream",
     "text": [
      "Model: \"sequential\"\n",
      "_________________________________________________________________\n",
      " Layer (type)                Output Shape              Param #   \n",
      "=================================================================\n",
      " lstm (LSTM)                 (None, 100, 50)           10400     \n",
      "                                                                 \n",
      " dense (Dense)               (None, 100, 1)            51        \n",
      "                                                                 \n",
      "=================================================================\n",
      "Total params: 10,451\n",
      "Trainable params: 10,451\n",
      "Non-trainable params: 0\n",
      "_________________________________________________________________\n"
     ]
    }
   ],
   "source": [
    "model.summary()"
   ]
  },
  {
   "cell_type": "markdown",
   "metadata": {},
   "source": [
    "Fiting the above model to trsining data"
   ]
  },
  {
   "cell_type": "code",
   "execution_count": 21,
   "metadata": {
    "scrolled": true
   },
   "outputs": [
    {
     "name": "stdout",
     "output_type": "stream",
     "text": [
      "Epoch 1/100\n",
      "1082/1082 [==============================] - 35s 31ms/step - loss: 4.0507e-05\n",
      "Epoch 2/100\n",
      "1082/1082 [==============================] - 32s 30ms/step - loss: 2.7183e-04\n",
      "Epoch 3/100\n",
      "1082/1082 [==============================] - 33s 30ms/step - loss: 2.7098e-04\n",
      "Epoch 4/100\n",
      "1082/1082 [==============================] - 33s 30ms/step - loss: 2.2390e-04\n",
      "Epoch 5/100\n",
      "1082/1082 [==============================] - 35s 32ms/step - loss: 2.0107e-04\n",
      "Epoch 6/100\n",
      "1082/1082 [==============================] - 35s 33ms/step - loss: 2.5644e-04\n",
      "Epoch 7/100\n",
      "1082/1082 [==============================] - 38s 35ms/step - loss: 2.3293e-04\n",
      "Epoch 8/100\n",
      "1082/1082 [==============================] - 43s 39ms/step - loss: 2.2125e-04\n",
      "Epoch 9/100\n",
      "1082/1082 [==============================] - 37s 34ms/step - loss: 2.3483e-04\n",
      "Epoch 10/100\n",
      "1082/1082 [==============================] - 38s 35ms/step - loss: 1.9931e-04\n",
      "Epoch 11/100\n",
      "1082/1082 [==============================] - 37s 34ms/step - loss: 1.8618e-04\n",
      "Epoch 12/100\n",
      "1082/1082 [==============================] - 38s 35ms/step - loss: 1.8071e-04\n",
      "Epoch 13/100\n",
      "1082/1082 [==============================] - 38s 35ms/step - loss: 1.5874e-04\n",
      "Epoch 14/100\n",
      "1082/1082 [==============================] - 39s 36ms/step - loss: 1.5632e-04\n",
      "Epoch 15/100\n",
      "1082/1082 [==============================] - 40s 37ms/step - loss: 1.5735e-04\n",
      "Epoch 16/100\n",
      "1082/1082 [==============================] - 39s 36ms/step - loss: 1.5179e-04\n",
      "Epoch 17/100\n",
      "1082/1082 [==============================] - 39s 36ms/step - loss: 1.4764e-04\n",
      "Epoch 18/100\n",
      "1082/1082 [==============================] - 39s 36ms/step - loss: 1.2675e-04\n",
      "Epoch 19/100\n",
      "1082/1082 [==============================] - 39s 36ms/step - loss: 1.2319e-04\n",
      "Epoch 20/100\n",
      "1082/1082 [==============================] - 39s 36ms/step - loss: 1.2389e-04\n",
      "Epoch 21/100\n",
      "1082/1082 [==============================] - 40s 37ms/step - loss: 1.2452e-04\n",
      "Epoch 22/100\n",
      "1082/1082 [==============================] - 39s 36ms/step - loss: 1.2428e-04\n",
      "Epoch 23/100\n",
      "1082/1082 [==============================] - 39s 36ms/step - loss: 1.1756e-04\n",
      "Epoch 24/100\n",
      "1082/1082 [==============================] - 41s 38ms/step - loss: 1.1978e-04\n",
      "Epoch 25/100\n",
      "1082/1082 [==============================] - 40s 37ms/step - loss: 1.2163e-04\n",
      "Epoch 26/100\n",
      "1082/1082 [==============================] - 40s 37ms/step - loss: 1.2237e-04\n",
      "Epoch 27/100\n",
      "1082/1082 [==============================] - 40s 37ms/step - loss: 1.1888e-04\n",
      "Epoch 28/100\n",
      "1082/1082 [==============================] - 41s 38ms/step - loss: 1.1354e-04\n",
      "Epoch 29/100\n",
      "1082/1082 [==============================] - 41s 37ms/step - loss: 1.1303e-04\n",
      "Epoch 30/100\n",
      "1082/1082 [==============================] - 41s 38ms/step - loss: 1.1482e-04\n",
      "Epoch 31/100\n",
      "1082/1082 [==============================] - 41s 38ms/step - loss: 1.1534e-04\n",
      "Epoch 32/100\n",
      "1082/1082 [==============================] - 41s 38ms/step - loss: 1.1353e-04\n",
      "Epoch 33/100\n",
      "1082/1082 [==============================] - 41s 38ms/step - loss: 1.1210e-04\n",
      "Epoch 34/100\n",
      "1082/1082 [==============================] - 41s 38ms/step - loss: 1.0713e-04\n",
      "Epoch 35/100\n",
      "1082/1082 [==============================] - 41s 38ms/step - loss: 1.0690e-04\n",
      "Epoch 36/100\n",
      "1082/1082 [==============================] - 41s 38ms/step - loss: 1.0682e-04\n",
      "Epoch 37/100\n",
      "1082/1082 [==============================] - 41s 38ms/step - loss: 1.0792e-04\n",
      "Epoch 38/100\n",
      "1082/1082 [==============================] - 41s 38ms/step - loss: 1.0683e-04\n",
      "Epoch 39/100\n",
      "1082/1082 [==============================] - 41s 37ms/step - loss: 1.0434e-04\n",
      "Epoch 40/100\n",
      "1082/1082 [==============================] - 42s 39ms/step - loss: 1.0624e-04\n",
      "Epoch 41/100\n",
      "1082/1082 [==============================] - 41s 38ms/step - loss: 1.0655e-04\n",
      "Epoch 42/100\n",
      "1082/1082 [==============================] - 42s 39ms/step - loss: 1.0669e-04\n",
      "Epoch 43/100\n",
      "1082/1082 [==============================] - 42s 39ms/step - loss: 1.0478e-04\n",
      "Epoch 44/100\n",
      "1082/1082 [==============================] - 41s 38ms/step - loss: 1.0498e-04\n",
      "Epoch 45/100\n",
      "1082/1082 [==============================] - 42s 39ms/step - loss: 1.0681e-04\n",
      "Epoch 46/100\n",
      "1082/1082 [==============================] - 41s 38ms/step - loss: 1.0543e-04\n",
      "Epoch 47/100\n",
      "1082/1082 [==============================] - 42s 39ms/step - loss: 1.0168e-04\n",
      "Epoch 48/100\n",
      "1082/1082 [==============================] - 41s 38ms/step - loss: 1.0354e-04\n",
      "Epoch 49/100\n",
      "1082/1082 [==============================] - 41s 38ms/step - loss: 1.0393e-04\n",
      "Epoch 50/100\n",
      "1082/1082 [==============================] - 42s 38ms/step - loss: 1.0661e-04\n",
      "Epoch 51/100\n",
      "1082/1082 [==============================] - 42s 39ms/step - loss: 1.0148e-04\n",
      "Epoch 52/100\n",
      "1082/1082 [==============================] - 42s 38ms/step - loss: 1.0247e-04\n",
      "Epoch 53/100\n",
      "1082/1082 [==============================] - 42s 39ms/step - loss: 1.0287e-04\n",
      "Epoch 54/100\n",
      "1082/1082 [==============================] - 42s 38ms/step - loss: 1.0273e-04\n",
      "Epoch 55/100\n",
      "1082/1082 [==============================] - 42s 38ms/step - loss: 1.0019e-04\n",
      "Epoch 56/100\n",
      "1082/1082 [==============================] - 42s 39ms/step - loss: 1.0073e-04\n",
      "Epoch 57/100\n",
      "1082/1082 [==============================] - 43s 40ms/step - loss: 1.0077e-04\n",
      "Epoch 58/100\n",
      "1082/1082 [==============================] - 42s 38ms/step - loss: 1.0024e-04\n",
      "Epoch 59/100\n",
      "1082/1082 [==============================] - 43s 40ms/step - loss: 1.0039e-04\n",
      "Epoch 60/100\n",
      "1082/1082 [==============================] - 44s 40ms/step - loss: 1.0030e-04\n",
      "Epoch 61/100\n",
      "1082/1082 [==============================] - 42s 39ms/step - loss: 1.0003e-04\n",
      "Epoch 62/100\n",
      "1082/1082 [==============================] - 43s 39ms/step - loss: 9.9157e-05\n",
      "Epoch 63/100\n",
      "1082/1082 [==============================] - 42s 39ms/step - loss: 9.6626e-05\n",
      "Epoch 64/100\n",
      "1082/1082 [==============================] - 42s 39ms/step - loss: 9.7875e-05\n",
      "Epoch 65/100\n",
      "1082/1082 [==============================] - 43s 40ms/step - loss: 9.8461e-05\n",
      "Epoch 66/100\n",
      "1082/1082 [==============================] - 42s 39ms/step - loss: 9.8548e-05\n",
      "Epoch 67/100\n",
      "1082/1082 [==============================] - 42s 39ms/step - loss: 9.8407e-05\n",
      "Epoch 68/100\n",
      "1082/1082 [==============================] - 43s 40ms/step - loss: 9.8122e-05\n",
      "Epoch 69/100\n",
      "1082/1082 [==============================] - 42s 39ms/step - loss: 9.7582e-05\n",
      "Epoch 70/100\n",
      "1082/1082 [==============================] - 42s 39ms/step - loss: 9.6837e-05\n",
      "Epoch 71/100\n",
      "1082/1082 [==============================] - 43s 40ms/step - loss: 9.6974e-05\n",
      "Epoch 72/100\n",
      "1082/1082 [==============================] - 39s 36ms/step - loss: 9.6775e-05\n",
      "Epoch 73/100\n",
      "1082/1082 [==============================] - 38s 35ms/step - loss: 9.6708e-05\n",
      "Epoch 74/100\n",
      "1082/1082 [==============================] - 37s 35ms/step - loss: 9.6591e-05\n",
      "Epoch 75/100\n",
      "1082/1082 [==============================] - 56s 52ms/step - loss: 9.6333e-05\n",
      "Epoch 76/100\n",
      "1082/1082 [==============================] - 51s 47ms/step - loss: 9.6131e-05\n",
      "Epoch 77/100\n",
      "1082/1082 [==============================] - 51s 47ms/step - loss: 9.6114e-05\n",
      "Epoch 78/100\n",
      "1082/1082 [==============================] - 51s 47ms/step - loss: 9.5824e-05\n",
      "Epoch 79/100\n",
      "1082/1082 [==============================] - 50s 46ms/step - loss: 9.5736e-05\n",
      "Epoch 80/100\n",
      "1082/1082 [==============================] - 55s 51ms/step - loss: 9.5443e-05\n",
      "Epoch 81/100\n",
      "1082/1082 [==============================] - 34s 31ms/step - loss: 9.5384e-05\n",
      "Epoch 82/100\n",
      "1082/1082 [==============================] - 39s 36ms/step - loss: 9.5281e-05\n",
      "Epoch 83/100\n",
      "1082/1082 [==============================] - 40s 37ms/step - loss: 9.4884e-05\n",
      "Epoch 84/100\n",
      "1082/1082 [==============================] - 40s 37ms/step - loss: 9.4842e-05\n",
      "Epoch 85/100\n",
      "1082/1082 [==============================] - 41s 38ms/step - loss: 9.4755e-05\n",
      "Epoch 86/100\n",
      "1082/1082 [==============================] - 41s 38ms/step - loss: 9.4387e-05\n",
      "Epoch 87/100\n",
      "1082/1082 [==============================] - 42s 39ms/step - loss: 9.4241e-05\n",
      "Epoch 88/100\n",
      "1082/1082 [==============================] - 41s 38ms/step - loss: 9.4326e-05\n",
      "Epoch 89/100\n",
      "1082/1082 [==============================] - 41s 38ms/step - loss: 9.4114e-05\n",
      "Epoch 90/100\n",
      "1082/1082 [==============================] - 41s 38ms/step - loss: 9.4099e-05\n",
      "Epoch 91/100\n"
     ]
    },
    {
     "name": "stdout",
     "output_type": "stream",
     "text": [
      "1082/1082 [==============================] - 41s 38ms/step - loss: 9.3726e-05\n",
      "Epoch 92/100\n",
      "1082/1082 [==============================] - 41s 38ms/step - loss: 9.3587e-05\n",
      "Epoch 93/100\n",
      "1082/1082 [==============================] - 41s 38ms/step - loss: 9.3448e-05\n",
      "Epoch 94/100\n",
      "1082/1082 [==============================] - 41s 38ms/step - loss: 9.3096e-05\n",
      "Epoch 95/100\n",
      "1082/1082 [==============================] - 41s 38ms/step - loss: 9.3076e-05\n",
      "Epoch 96/100\n",
      "1082/1082 [==============================] - 41s 38ms/step - loss: 9.3126e-05\n",
      "Epoch 97/100\n",
      "1082/1082 [==============================] - 41s 38ms/step - loss: 9.3090e-05\n",
      "Epoch 98/100\n",
      "1082/1082 [==============================] - 41s 38ms/step - loss: 9.3088e-05\n",
      "Epoch 99/100\n",
      "1082/1082 [==============================] - 41s 38ms/step - loss: 9.5337e-05\n",
      "Epoch 100/100\n",
      "1082/1082 [==============================] - 43s 40ms/step - loss: 9.1532e-05\n"
     ]
    },
    {
     "data": {
      "text/plain": [
       "<keras.callbacks.History at 0x183e3724940>"
      ]
     },
     "execution_count": 21,
     "metadata": {},
     "output_type": "execute_result"
    }
   ],
   "source": [
    "model.fit(X_train, y_train, epochs=100, batch_size=4, verbose=1, shuffle=False)\n",
    "\n",
    "#Train the model\n",
    "# model.save('LSTM_prediction.h5')\n"
   ]
  },
  {
   "cell_type": "code",
   "execution_count": 35,
   "metadata": {},
   "outputs": [
    {
     "name": "stdout",
     "output_type": "stream",
     "text": [
      "136/136 [==============================] - 2s 17ms/step\n",
      "32/32 [==============================] - 1s 16ms/step\n"
     ]
    },
    {
     "data": {
      "text/plain": [
       "array([[[0.06205074],\n",
       "        [0.06409778],\n",
       "        [0.06244603],\n",
       "        ...,\n",
       "        [0.05743162],\n",
       "        [0.05714814],\n",
       "        [0.0572166 ]],\n",
       "\n",
       "       [[0.06138237],\n",
       "        [0.06404734],\n",
       "        [0.06187846],\n",
       "        ...,\n",
       "        [0.05714814],\n",
       "        [0.0572166 ],\n",
       "        [0.05715768]],\n",
       "\n",
       "       [[0.0614887 ],\n",
       "        [0.06357284],\n",
       "        [0.06208584],\n",
       "        ...,\n",
       "        [0.0572166 ],\n",
       "        [0.05715768],\n",
       "        [0.05710085]],\n",
       "\n",
       "       ...,\n",
       "\n",
       "       [[0.21135534],\n",
       "        [0.21135534],\n",
       "        [0.21135534],\n",
       "        ...,\n",
       "        [0.21135534],\n",
       "        [0.21135534],\n",
       "        [0.21135534]],\n",
       "\n",
       "       [[0.21135534],\n",
       "        [0.21135534],\n",
       "        [0.21135534],\n",
       "        ...,\n",
       "        [0.21135534],\n",
       "        [0.21135534],\n",
       "        [0.21135534]],\n",
       "\n",
       "       [[0.21135534],\n",
       "        [0.21135534],\n",
       "        [0.21135534],\n",
       "        ...,\n",
       "        [0.21135534],\n",
       "        [0.21135534],\n",
       "        [0.21135534]]], dtype=float32)"
      ]
     },
     "execution_count": 35,
     "metadata": {},
     "output_type": "execute_result"
    }
   ],
   "source": [
    "y_pred=lstm.predict(x_test)\n",
    "\n",
    "y_pred\n",
    "\n",
    "\n",
    "### Lets Do the prediction and check performance metrics\n",
    "# train_predict=model.predict(X_train)\n",
    "# test_predict=model.predict(X_test)\n",
    "\n",
    "# train_predict"
   ]
  },
  {
   "cell_type": "code",
   "execution_count": 38,
   "metadata": {},
   "outputs": [
    {
     "ename": "ValueError",
     "evalue": "Found array with dim 3. Estimator expected <= 2.",
     "output_type": "error",
     "traceback": [
      "\u001b[1;31m---------------------------------------------------------------------------\u001b[0m",
      "\u001b[1;31mValueError\u001b[0m                                Traceback (most recent call last)",
      "Input \u001b[1;32mIn [38]\u001b[0m, in \u001b[0;36m<cell line: 3>\u001b[1;34m()\u001b[0m\n\u001b[0;32m      1\u001b[0m \u001b[38;5;66;03m# ##Transformback to original form\u001b[39;00m\n\u001b[0;32m      2\u001b[0m \u001b[38;5;66;03m#train_predict=scaler.inverse_transform(train_predict)\u001b[39;00m\n\u001b[1;32m----> 3\u001b[0m test_predict\u001b[38;5;241m=\u001b[39m\u001b[43mscaler\u001b[49m\u001b[38;5;241;43m.\u001b[39;49m\u001b[43minverse_transform\u001b[49m\u001b[43m(\u001b[49m\u001b[43mtest_predict\u001b[49m\u001b[43m)\u001b[49m\n",
      "File \u001b[1;32m~\\anaconda3\\lib\\site-packages\\sklearn\\preprocessing\\_data.py:525\u001b[0m, in \u001b[0;36mMinMaxScaler.inverse_transform\u001b[1;34m(self, X)\u001b[0m\n\u001b[0;32m    511\u001b[0m \u001b[38;5;124;03m\"\"\"Undo the scaling of X according to feature_range.\u001b[39;00m\n\u001b[0;32m    512\u001b[0m \n\u001b[0;32m    513\u001b[0m \u001b[38;5;124;03mParameters\u001b[39;00m\n\u001b[1;32m   (...)\u001b[0m\n\u001b[0;32m    521\u001b[0m \u001b[38;5;124;03m    Transformed data.\u001b[39;00m\n\u001b[0;32m    522\u001b[0m \u001b[38;5;124;03m\"\"\"\u001b[39;00m\n\u001b[0;32m    523\u001b[0m check_is_fitted(\u001b[38;5;28mself\u001b[39m)\n\u001b[1;32m--> 525\u001b[0m X \u001b[38;5;241m=\u001b[39m \u001b[43mcheck_array\u001b[49m\u001b[43m(\u001b[49m\n\u001b[0;32m    526\u001b[0m \u001b[43m    \u001b[49m\u001b[43mX\u001b[49m\u001b[43m,\u001b[49m\u001b[43m \u001b[49m\u001b[43mcopy\u001b[49m\u001b[38;5;241;43m=\u001b[39;49m\u001b[38;5;28;43mself\u001b[39;49m\u001b[38;5;241;43m.\u001b[39;49m\u001b[43mcopy\u001b[49m\u001b[43m,\u001b[49m\u001b[43m \u001b[49m\u001b[43mdtype\u001b[49m\u001b[38;5;241;43m=\u001b[39;49m\u001b[43mFLOAT_DTYPES\u001b[49m\u001b[43m,\u001b[49m\u001b[43m \u001b[49m\u001b[43mforce_all_finite\u001b[49m\u001b[38;5;241;43m=\u001b[39;49m\u001b[38;5;124;43m\"\u001b[39;49m\u001b[38;5;124;43mallow-nan\u001b[39;49m\u001b[38;5;124;43m\"\u001b[39;49m\n\u001b[0;32m    527\u001b[0m \u001b[43m\u001b[49m\u001b[43m)\u001b[49m\n\u001b[0;32m    529\u001b[0m X \u001b[38;5;241m-\u001b[39m\u001b[38;5;241m=\u001b[39m \u001b[38;5;28mself\u001b[39m\u001b[38;5;241m.\u001b[39mmin_\n\u001b[0;32m    530\u001b[0m X \u001b[38;5;241m/\u001b[39m\u001b[38;5;241m=\u001b[39m \u001b[38;5;28mself\u001b[39m\u001b[38;5;241m.\u001b[39mscale_\n",
      "File \u001b[1;32m~\\anaconda3\\lib\\site-packages\\sklearn\\utils\\validation.py:794\u001b[0m, in \u001b[0;36mcheck_array\u001b[1;34m(array, accept_sparse, accept_large_sparse, dtype, order, copy, force_all_finite, ensure_2d, allow_nd, ensure_min_samples, ensure_min_features, estimator)\u001b[0m\n\u001b[0;32m    789\u001b[0m         \u001b[38;5;28;01mraise\u001b[39;00m \u001b[38;5;167;01mValueError\u001b[39;00m(\n\u001b[0;32m    790\u001b[0m             \u001b[38;5;124m\"\u001b[39m\u001b[38;5;124mUnable to convert array of bytes/strings \u001b[39m\u001b[38;5;124m\"\u001b[39m\n\u001b[0;32m    791\u001b[0m             \u001b[38;5;124m\"\u001b[39m\u001b[38;5;124minto decimal numbers with dtype=\u001b[39m\u001b[38;5;124m'\u001b[39m\u001b[38;5;124mnumeric\u001b[39m\u001b[38;5;124m'\u001b[39m\u001b[38;5;124m\"\u001b[39m\n\u001b[0;32m    792\u001b[0m         ) \u001b[38;5;28;01mfrom\u001b[39;00m \u001b[38;5;21;01me\u001b[39;00m\n\u001b[0;32m    793\u001b[0m \u001b[38;5;28;01mif\u001b[39;00m \u001b[38;5;129;01mnot\u001b[39;00m allow_nd \u001b[38;5;129;01mand\u001b[39;00m array\u001b[38;5;241m.\u001b[39mndim \u001b[38;5;241m>\u001b[39m\u001b[38;5;241m=\u001b[39m \u001b[38;5;241m3\u001b[39m:\n\u001b[1;32m--> 794\u001b[0m     \u001b[38;5;28;01mraise\u001b[39;00m \u001b[38;5;167;01mValueError\u001b[39;00m(\n\u001b[0;32m    795\u001b[0m         \u001b[38;5;124m\"\u001b[39m\u001b[38;5;124mFound array with dim \u001b[39m\u001b[38;5;132;01m%d\u001b[39;00m\u001b[38;5;124m. \u001b[39m\u001b[38;5;132;01m%s\u001b[39;00m\u001b[38;5;124m expected <= 2.\u001b[39m\u001b[38;5;124m\"\u001b[39m\n\u001b[0;32m    796\u001b[0m         \u001b[38;5;241m%\u001b[39m (array\u001b[38;5;241m.\u001b[39mndim, estimator_name)\n\u001b[0;32m    797\u001b[0m     )\n\u001b[0;32m    799\u001b[0m \u001b[38;5;28;01mif\u001b[39;00m force_all_finite:\n\u001b[0;32m    800\u001b[0m     _assert_all_finite(array, allow_nan\u001b[38;5;241m=\u001b[39mforce_all_finite \u001b[38;5;241m==\u001b[39m \u001b[38;5;124m\"\u001b[39m\u001b[38;5;124mallow-nan\u001b[39m\u001b[38;5;124m\"\u001b[39m)\n",
      "\u001b[1;31mValueError\u001b[0m: Found array with dim 3. Estimator expected <= 2."
     ]
    }
   ],
   "source": [
    "# ##Transformback to original form\n",
    "#train_predict=scaler.inverse_transform(train_predict)\n",
    "test_predict=scaler.inverse_transform(test_predict)"
   ]
  },
  {
   "cell_type": "code",
   "execution_count": null,
   "metadata": {},
   "outputs": [],
   "source": []
  },
  {
   "cell_type": "code",
   "execution_count": 37,
   "metadata": {},
   "outputs": [
    {
     "ename": "TypeError",
     "evalue": "mean_squared_error() got an unexpected keyword argument 'Squared'",
     "output_type": "error",
     "traceback": [
      "\u001b[1;31m---------------------------------------------------------------------------\u001b[0m",
      "\u001b[1;31mTypeError\u001b[0m                                 Traceback (most recent call last)",
      "Input \u001b[1;32mIn [37]\u001b[0m, in \u001b[0;36m<cell line: 4>\u001b[1;34m()\u001b[0m\n\u001b[0;32m      1\u001b[0m \u001b[38;5;28;01mimport\u001b[39;00m \u001b[38;5;21;01mmath\u001b[39;00m\n\u001b[0;32m      2\u001b[0m \u001b[38;5;28;01mfrom\u001b[39;00m \u001b[38;5;21;01msklearn\u001b[39;00m\u001b[38;5;21;01m.\u001b[39;00m\u001b[38;5;21;01mmetrics\u001b[39;00m \u001b[38;5;28;01mimport\u001b[39;00m mean_squared_error\n\u001b[1;32m----> 4\u001b[0m rmse_train\u001b[38;5;241m=\u001b[39m\u001b[43mmean_squared_error\u001b[49m\u001b[43m(\u001b[49m\u001b[43my_train\u001b[49m\u001b[43m,\u001b[49m\u001b[43mtrain_predict\u001b[49m\u001b[43m,\u001b[49m\u001b[43mSquared\u001b[49m\u001b[38;5;241;43m=\u001b[39;49m\u001b[38;5;28;43;01mFalse\u001b[39;49;00m\u001b[43m)\u001b[49m\n\u001b[0;32m      6\u001b[0m rmse_test\u001b[38;5;241m=\u001b[39mmean_squared_error(ytest,test_predict,Squared\u001b[38;5;241m=\u001b[39m\u001b[38;5;28;01mFalse\u001b[39;00m)\n\u001b[0;32m     11\u001b[0m mape_train\u001b[38;5;241m=\u001b[39mmean_absolute_percentageerror(y_train,train_predict,Squared\u001b[38;5;241m=\u001b[39m\u001b[38;5;28;01mFalse\u001b[39;00m)\n",
      "\u001b[1;31mTypeError\u001b[0m: mean_squared_error() got an unexpected keyword argument 'Squared'"
     ]
    }
   ],
   "source": [
    "import math\n",
    "from sklearn.metrics import mean_squared_error\n",
    "\n",
    "rmse_train=mean_squared_error(y_train,train_predict,Squared=False)\n",
    "\n",
    "rmse_test=mean_squared_error(ytest,test_predict,Squared=False)\n",
    "\n",
    "\n",
    "\n",
    "\n",
    "mape_train=mean_absolute_percentageerror(y_train,train_predict,Squared=False)\n",
    "mape_test=mean_absolute_percentageerror(ytest,test_predict,Squared=False)\n",
    "\n",
    "\n",
    "\n",
    "print(\"Rsme on train data:\" ,rmse_train)\n",
    "print(\"Rsme on test data:\",rmse_test)\n",
    "\n",
    "print('mape on train data:',mape_train)\n",
    "print('mape on test data:',mape_test)"
   ]
  },
  {
   "cell_type": "markdown",
   "metadata": {},
   "source": [
    "Let’s try to get better results with the same dataset but a deeper LSTM model."
   ]
  },
  {
   "cell_type": "code",
   "execution_count": null,
   "metadata": {},
   "outputs": [],
   "source": [
    "model=Sequential()\n",
    "model.add(LSTM(50, input_shape=(100,1),\n",
    "               activation='relu', return_sequences=True))\n",
    "\n",
    "model.add(LSTM(50,activation='relu'))\n",
    "model.add(Dense(1))\n",
    "\n",
    "model.compile(loss='mean_squared_error',optimizer='adam')\n"
   ]
  },
  {
   "cell_type": "code",
   "execution_count": null,
   "metadata": {},
   "outputs": [],
   "source": [
    "model.summary()"
   ]
  }
 ],
 "metadata": {
  "accelerator": "GPU",
  "colab": {
   "authorship_tag": "ABX9TyOQRZntzqR+VN6yvk667KDe",
   "collapsed_sections": [],
   "mount_file_id": "1H_EbgVwn3ks3qn03FblD5m49UXc70tyN",
   "provenance": []
  },
  "gpuClass": "standard",
  "kernelspec": {
   "display_name": "Python 3 (ipykernel)",
   "language": "python",
   "name": "python3"
  },
  "language_info": {
   "codemirror_mode": {
    "name": "ipython",
    "version": 3
   },
   "file_extension": ".py",
   "mimetype": "text/x-python",
   "name": "python",
   "nbconvert_exporter": "python",
   "pygments_lexer": "ipython3",
   "version": "3.9.12"
  }
 },
 "nbformat": 4,
 "nbformat_minor": 1
}
